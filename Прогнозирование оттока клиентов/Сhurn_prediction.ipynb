{
 "cells": [
  {
   "cell_type": "markdown",
   "id": "0e8a5cf3",
   "metadata": {},
   "source": [
    "# Проект - прогнозирование оттока клиентов \n",
    "\n",
    "Оператор связи «Ниединогоразрыва.ком» хочет научиться прогнозировать отток клиентов. Если выяснится, что пользователь планирует уйти, ему будут предложены промокоды и специальные условия. Команда оператора собрала персональные данные о некоторых клиентах, информацию об их тарифах и договорах."
   ]
  },
  {
   "cell_type": "markdown",
   "id": "771c4951",
   "metadata": {},
   "source": [
    "# Первая часть. Исследование"
   ]
  },
  {
   "cell_type": "markdown",
   "id": "fa95a587",
   "metadata": {},
   "source": [
    "## Загрузка данных "
   ]
  },
  {
   "cell_type": "code",
   "execution_count": 1,
   "id": "edadedd8",
   "metadata": {},
   "outputs": [],
   "source": [
    "import pandas as pd \n",
    "import numpy as np\n",
    "from matplotlib import pyplot as plt\n",
    "import seaborn as sns\n",
    "from datetime import datetime\n",
    "\n",
    "from sklearn.model_selection import train_test_split, GridSearchCV, TimeSeriesSplit\n",
    "from sklearn.metrics import roc_auc_score\n",
    "from sklearn.metrics import accuracy_score\n",
    "\n",
    "from catboost import CatBoostClassifier\n",
    "from catboost import cv\n",
    "from catboost import Pool\n",
    "import catboost as cat\n",
    "from lightgbm import LGBMClassifier\n",
    "\n",
    "import warnings\n",
    "warnings.filterwarnings('ignore')\n",
    "\n",
    "import phik\n",
    "\n",
    "RND = 311022"
   ]
  },
  {
   "cell_type": "code",
   "execution_count": 2,
   "id": "f2e8fa45",
   "metadata": {},
   "outputs": [],
   "source": [
    "try:\n",
    "    contract = pd.read_csv('./contract.csv')\n",
    "    internet = pd.read_csv('./internet.csv')\n",
    "    personal = pd.read_csv('./personal.csv')\n",
    "    phone = pd.read_csv('./phone.csv')\n",
    "except:\n",
    "    contract = pd.read_csv('/datasets/final_provider/contract.csv')\n",
    "    internet = pd.read_csv('/datasets/final_provider/internet.csv')\n",
    "    personal = pd.read_csv('/datasets/final_provider/personal.csv')\n",
    "    phone = pd.read_csv('/datasets/final_provider/phone.csv')"
   ]
  },
  {
   "cell_type": "code",
   "execution_count": 3,
   "id": "b67a7456",
   "metadata": {},
   "outputs": [
    {
     "name": "stdout",
     "output_type": "stream",
     "text": [
      "<class 'pandas.core.frame.DataFrame'>\n",
      "RangeIndex: 7043 entries, 0 to 7042\n",
      "Data columns (total 8 columns):\n",
      " #   Column            Non-Null Count  Dtype  \n",
      "---  ------            --------------  -----  \n",
      " 0   customerID        7043 non-null   object \n",
      " 1   BeginDate         7043 non-null   object \n",
      " 2   EndDate           7043 non-null   object \n",
      " 3   Type              7043 non-null   object \n",
      " 4   PaperlessBilling  7043 non-null   object \n",
      " 5   PaymentMethod     7043 non-null   object \n",
      " 6   MonthlyCharges    7043 non-null   float64\n",
      " 7   TotalCharges      7043 non-null   object \n",
      "dtypes: float64(1), object(7)\n",
      "memory usage: 440.3+ KB\n"
     ]
    },
    {
     "data": {
      "text/html": [
       "<div>\n",
       "<style scoped>\n",
       "    .dataframe tbody tr th:only-of-type {\n",
       "        vertical-align: middle;\n",
       "    }\n",
       "\n",
       "    .dataframe tbody tr th {\n",
       "        vertical-align: top;\n",
       "    }\n",
       "\n",
       "    .dataframe thead th {\n",
       "        text-align: right;\n",
       "    }\n",
       "</style>\n",
       "<table border=\"1\" class=\"dataframe\">\n",
       "  <thead>\n",
       "    <tr style=\"text-align: right;\">\n",
       "      <th></th>\n",
       "      <th>customerID</th>\n",
       "      <th>BeginDate</th>\n",
       "      <th>EndDate</th>\n",
       "      <th>Type</th>\n",
       "      <th>PaperlessBilling</th>\n",
       "      <th>PaymentMethod</th>\n",
       "      <th>MonthlyCharges</th>\n",
       "      <th>TotalCharges</th>\n",
       "    </tr>\n",
       "  </thead>\n",
       "  <tbody>\n",
       "    <tr>\n",
       "      <th>5224</th>\n",
       "      <td>9233-PSYHO</td>\n",
       "      <td>2016-05-01</td>\n",
       "      <td>No</td>\n",
       "      <td>One year</td>\n",
       "      <td>Yes</td>\n",
       "      <td>Bank transfer (automatic)</td>\n",
       "      <td>100.15</td>\n",
       "      <td>4459.8</td>\n",
       "    </tr>\n",
       "    <tr>\n",
       "      <th>2940</th>\n",
       "      <td>6313-GIDIT</td>\n",
       "      <td>2015-06-01</td>\n",
       "      <td>2019-11-01 00:00:00</td>\n",
       "      <td>Month-to-month</td>\n",
       "      <td>Yes</td>\n",
       "      <td>Electronic check</td>\n",
       "      <td>54.45</td>\n",
       "      <td>2854.55</td>\n",
       "    </tr>\n",
       "    <tr>\n",
       "      <th>5503</th>\n",
       "      <td>1757-TCATG</td>\n",
       "      <td>2017-03-01</td>\n",
       "      <td>No</td>\n",
       "      <td>One year</td>\n",
       "      <td>No</td>\n",
       "      <td>Bank transfer (automatic)</td>\n",
       "      <td>20.05</td>\n",
       "      <td>746.75</td>\n",
       "    </tr>\n",
       "    <tr>\n",
       "      <th>4887</th>\n",
       "      <td>9184-GALIL</td>\n",
       "      <td>2016-12-01</td>\n",
       "      <td>No</td>\n",
       "      <td>Month-to-month</td>\n",
       "      <td>No</td>\n",
       "      <td>Mailed check</td>\n",
       "      <td>20.45</td>\n",
       "      <td>781.25</td>\n",
       "    </tr>\n",
       "    <tr>\n",
       "      <th>3820</th>\n",
       "      <td>9481-IEBZY</td>\n",
       "      <td>2014-02-01</td>\n",
       "      <td>No</td>\n",
       "      <td>Month-to-month</td>\n",
       "      <td>Yes</td>\n",
       "      <td>Credit card (automatic)</td>\n",
       "      <td>112.90</td>\n",
       "      <td>8061.5</td>\n",
       "    </tr>\n",
       "  </tbody>\n",
       "</table>\n",
       "</div>"
      ],
      "text/plain": [
       "      customerID   BeginDate              EndDate            Type  \\\n",
       "5224  9233-PSYHO  2016-05-01                   No        One year   \n",
       "2940  6313-GIDIT  2015-06-01  2019-11-01 00:00:00  Month-to-month   \n",
       "5503  1757-TCATG  2017-03-01                   No        One year   \n",
       "4887  9184-GALIL  2016-12-01                   No  Month-to-month   \n",
       "3820  9481-IEBZY  2014-02-01                   No  Month-to-month   \n",
       "\n",
       "     PaperlessBilling              PaymentMethod  MonthlyCharges TotalCharges  \n",
       "5224              Yes  Bank transfer (automatic)          100.15       4459.8  \n",
       "2940              Yes           Electronic check           54.45      2854.55  \n",
       "5503               No  Bank transfer (automatic)           20.05       746.75  \n",
       "4887               No               Mailed check           20.45       781.25  \n",
       "3820              Yes    Credit card (automatic)          112.90       8061.5  "
      ]
     },
     "metadata": {},
     "output_type": "display_data"
    },
    {
     "data": {
      "text/html": [
       "<div>\n",
       "<style scoped>\n",
       "    .dataframe tbody tr th:only-of-type {\n",
       "        vertical-align: middle;\n",
       "    }\n",
       "\n",
       "    .dataframe tbody tr th {\n",
       "        vertical-align: top;\n",
       "    }\n",
       "\n",
       "    .dataframe thead th {\n",
       "        text-align: right;\n",
       "    }\n",
       "</style>\n",
       "<table border=\"1\" class=\"dataframe\">\n",
       "  <thead>\n",
       "    <tr style=\"text-align: right;\">\n",
       "      <th></th>\n",
       "      <th>customerID</th>\n",
       "      <th>BeginDate</th>\n",
       "      <th>EndDate</th>\n",
       "      <th>Type</th>\n",
       "      <th>PaperlessBilling</th>\n",
       "      <th>PaymentMethod</th>\n",
       "      <th>MonthlyCharges</th>\n",
       "      <th>TotalCharges</th>\n",
       "    </tr>\n",
       "  </thead>\n",
       "  <tbody>\n",
       "    <tr>\n",
       "      <th>count</th>\n",
       "      <td>7043</td>\n",
       "      <td>7043</td>\n",
       "      <td>7043</td>\n",
       "      <td>7043</td>\n",
       "      <td>7043</td>\n",
       "      <td>7043</td>\n",
       "      <td>7043.000000</td>\n",
       "      <td>7043</td>\n",
       "    </tr>\n",
       "    <tr>\n",
       "      <th>unique</th>\n",
       "      <td>7043</td>\n",
       "      <td>77</td>\n",
       "      <td>5</td>\n",
       "      <td>3</td>\n",
       "      <td>2</td>\n",
       "      <td>4</td>\n",
       "      <td>NaN</td>\n",
       "      <td>6531</td>\n",
       "    </tr>\n",
       "    <tr>\n",
       "      <th>top</th>\n",
       "      <td>7590-VHVEG</td>\n",
       "      <td>2014-02-01</td>\n",
       "      <td>No</td>\n",
       "      <td>Month-to-month</td>\n",
       "      <td>Yes</td>\n",
       "      <td>Electronic check</td>\n",
       "      <td>NaN</td>\n",
       "      <td></td>\n",
       "    </tr>\n",
       "    <tr>\n",
       "      <th>freq</th>\n",
       "      <td>1</td>\n",
       "      <td>366</td>\n",
       "      <td>5174</td>\n",
       "      <td>3875</td>\n",
       "      <td>4171</td>\n",
       "      <td>2365</td>\n",
       "      <td>NaN</td>\n",
       "      <td>11</td>\n",
       "    </tr>\n",
       "    <tr>\n",
       "      <th>mean</th>\n",
       "      <td>NaN</td>\n",
       "      <td>NaN</td>\n",
       "      <td>NaN</td>\n",
       "      <td>NaN</td>\n",
       "      <td>NaN</td>\n",
       "      <td>NaN</td>\n",
       "      <td>64.761692</td>\n",
       "      <td>NaN</td>\n",
       "    </tr>\n",
       "    <tr>\n",
       "      <th>std</th>\n",
       "      <td>NaN</td>\n",
       "      <td>NaN</td>\n",
       "      <td>NaN</td>\n",
       "      <td>NaN</td>\n",
       "      <td>NaN</td>\n",
       "      <td>NaN</td>\n",
       "      <td>30.090047</td>\n",
       "      <td>NaN</td>\n",
       "    </tr>\n",
       "    <tr>\n",
       "      <th>min</th>\n",
       "      <td>NaN</td>\n",
       "      <td>NaN</td>\n",
       "      <td>NaN</td>\n",
       "      <td>NaN</td>\n",
       "      <td>NaN</td>\n",
       "      <td>NaN</td>\n",
       "      <td>18.250000</td>\n",
       "      <td>NaN</td>\n",
       "    </tr>\n",
       "    <tr>\n",
       "      <th>25%</th>\n",
       "      <td>NaN</td>\n",
       "      <td>NaN</td>\n",
       "      <td>NaN</td>\n",
       "      <td>NaN</td>\n",
       "      <td>NaN</td>\n",
       "      <td>NaN</td>\n",
       "      <td>35.500000</td>\n",
       "      <td>NaN</td>\n",
       "    </tr>\n",
       "    <tr>\n",
       "      <th>50%</th>\n",
       "      <td>NaN</td>\n",
       "      <td>NaN</td>\n",
       "      <td>NaN</td>\n",
       "      <td>NaN</td>\n",
       "      <td>NaN</td>\n",
       "      <td>NaN</td>\n",
       "      <td>70.350000</td>\n",
       "      <td>NaN</td>\n",
       "    </tr>\n",
       "    <tr>\n",
       "      <th>75%</th>\n",
       "      <td>NaN</td>\n",
       "      <td>NaN</td>\n",
       "      <td>NaN</td>\n",
       "      <td>NaN</td>\n",
       "      <td>NaN</td>\n",
       "      <td>NaN</td>\n",
       "      <td>89.850000</td>\n",
       "      <td>NaN</td>\n",
       "    </tr>\n",
       "    <tr>\n",
       "      <th>max</th>\n",
       "      <td>NaN</td>\n",
       "      <td>NaN</td>\n",
       "      <td>NaN</td>\n",
       "      <td>NaN</td>\n",
       "      <td>NaN</td>\n",
       "      <td>NaN</td>\n",
       "      <td>118.750000</td>\n",
       "      <td>NaN</td>\n",
       "    </tr>\n",
       "  </tbody>\n",
       "</table>\n",
       "</div>"
      ],
      "text/plain": [
       "        customerID   BeginDate EndDate            Type PaperlessBilling  \\\n",
       "count         7043        7043    7043            7043             7043   \n",
       "unique        7043          77       5               3                2   \n",
       "top     7590-VHVEG  2014-02-01      No  Month-to-month              Yes   \n",
       "freq             1         366    5174            3875             4171   \n",
       "mean           NaN         NaN     NaN             NaN              NaN   \n",
       "std            NaN         NaN     NaN             NaN              NaN   \n",
       "min            NaN         NaN     NaN             NaN              NaN   \n",
       "25%            NaN         NaN     NaN             NaN              NaN   \n",
       "50%            NaN         NaN     NaN             NaN              NaN   \n",
       "75%            NaN         NaN     NaN             NaN              NaN   \n",
       "max            NaN         NaN     NaN             NaN              NaN   \n",
       "\n",
       "           PaymentMethod  MonthlyCharges TotalCharges  \n",
       "count               7043     7043.000000         7043  \n",
       "unique                 4             NaN         6531  \n",
       "top     Electronic check             NaN               \n",
       "freq                2365             NaN           11  \n",
       "mean                 NaN       64.761692          NaN  \n",
       "std                  NaN       30.090047          NaN  \n",
       "min                  NaN       18.250000          NaN  \n",
       "25%                  NaN       35.500000          NaN  \n",
       "50%                  NaN       70.350000          NaN  \n",
       "75%                  NaN       89.850000          NaN  \n",
       "max                  NaN      118.750000          NaN  "
      ]
     },
     "metadata": {},
     "output_type": "display_data"
    },
    {
     "name": "stdout",
     "output_type": "stream",
     "text": [
      "Количество пропусков customerID          0\n",
      "BeginDate           0\n",
      "EndDate             0\n",
      "Type                0\n",
      "PaperlessBilling    0\n",
      "PaymentMethod       0\n",
      "MonthlyCharges      0\n",
      "TotalCharges        0\n",
      "dtype: int64\n",
      "------------\n",
      "Количество дубликатов = 0\n",
      "- - - - - - - - - - - - - - - - - - - - - - - - - - - - - - -\n",
      "<class 'pandas.core.frame.DataFrame'>\n",
      "RangeIndex: 5517 entries, 0 to 5516\n",
      "Data columns (total 8 columns):\n",
      " #   Column            Non-Null Count  Dtype \n",
      "---  ------            --------------  ----- \n",
      " 0   customerID        5517 non-null   object\n",
      " 1   InternetService   5517 non-null   object\n",
      " 2   OnlineSecurity    5517 non-null   object\n",
      " 3   OnlineBackup      5517 non-null   object\n",
      " 4   DeviceProtection  5517 non-null   object\n",
      " 5   TechSupport       5517 non-null   object\n",
      " 6   StreamingTV       5517 non-null   object\n",
      " 7   StreamingMovies   5517 non-null   object\n",
      "dtypes: object(8)\n",
      "memory usage: 344.9+ KB\n"
     ]
    },
    {
     "data": {
      "text/html": [
       "<div>\n",
       "<style scoped>\n",
       "    .dataframe tbody tr th:only-of-type {\n",
       "        vertical-align: middle;\n",
       "    }\n",
       "\n",
       "    .dataframe tbody tr th {\n",
       "        vertical-align: top;\n",
       "    }\n",
       "\n",
       "    .dataframe thead th {\n",
       "        text-align: right;\n",
       "    }\n",
       "</style>\n",
       "<table border=\"1\" class=\"dataframe\">\n",
       "  <thead>\n",
       "    <tr style=\"text-align: right;\">\n",
       "      <th></th>\n",
       "      <th>customerID</th>\n",
       "      <th>InternetService</th>\n",
       "      <th>OnlineSecurity</th>\n",
       "      <th>OnlineBackup</th>\n",
       "      <th>DeviceProtection</th>\n",
       "      <th>TechSupport</th>\n",
       "      <th>StreamingTV</th>\n",
       "      <th>StreamingMovies</th>\n",
       "    </tr>\n",
       "  </thead>\n",
       "  <tbody>\n",
       "    <tr>\n",
       "      <th>762</th>\n",
       "      <td>4208-UFFGW</td>\n",
       "      <td>DSL</td>\n",
       "      <td>No</td>\n",
       "      <td>No</td>\n",
       "      <td>No</td>\n",
       "      <td>No</td>\n",
       "      <td>No</td>\n",
       "      <td>No</td>\n",
       "    </tr>\n",
       "    <tr>\n",
       "      <th>187</th>\n",
       "      <td>9903-LYSAB</td>\n",
       "      <td>Fiber optic</td>\n",
       "      <td>No</td>\n",
       "      <td>No</td>\n",
       "      <td>No</td>\n",
       "      <td>No</td>\n",
       "      <td>No</td>\n",
       "      <td>No</td>\n",
       "    </tr>\n",
       "    <tr>\n",
       "      <th>587</th>\n",
       "      <td>1173-NOEYG</td>\n",
       "      <td>Fiber optic</td>\n",
       "      <td>No</td>\n",
       "      <td>No</td>\n",
       "      <td>Yes</td>\n",
       "      <td>No</td>\n",
       "      <td>No</td>\n",
       "      <td>Yes</td>\n",
       "    </tr>\n",
       "    <tr>\n",
       "      <th>9</th>\n",
       "      <td>6388-TABGU</td>\n",
       "      <td>DSL</td>\n",
       "      <td>Yes</td>\n",
       "      <td>Yes</td>\n",
       "      <td>No</td>\n",
       "      <td>No</td>\n",
       "      <td>No</td>\n",
       "      <td>No</td>\n",
       "    </tr>\n",
       "    <tr>\n",
       "      <th>3514</th>\n",
       "      <td>6178-KFNHS</td>\n",
       "      <td>Fiber optic</td>\n",
       "      <td>Yes</td>\n",
       "      <td>No</td>\n",
       "      <td>No</td>\n",
       "      <td>No</td>\n",
       "      <td>No</td>\n",
       "      <td>No</td>\n",
       "    </tr>\n",
       "  </tbody>\n",
       "</table>\n",
       "</div>"
      ],
      "text/plain": [
       "      customerID InternetService OnlineSecurity OnlineBackup DeviceProtection  \\\n",
       "762   4208-UFFGW             DSL             No           No               No   \n",
       "187   9903-LYSAB     Fiber optic             No           No               No   \n",
       "587   1173-NOEYG     Fiber optic             No           No              Yes   \n",
       "9     6388-TABGU             DSL            Yes          Yes               No   \n",
       "3514  6178-KFNHS     Fiber optic            Yes           No               No   \n",
       "\n",
       "     TechSupport StreamingTV StreamingMovies  \n",
       "762           No          No              No  \n",
       "187           No          No              No  \n",
       "587           No          No             Yes  \n",
       "9             No          No              No  \n",
       "3514          No          No              No  "
      ]
     },
     "metadata": {},
     "output_type": "display_data"
    },
    {
     "data": {
      "text/html": [
       "<div>\n",
       "<style scoped>\n",
       "    .dataframe tbody tr th:only-of-type {\n",
       "        vertical-align: middle;\n",
       "    }\n",
       "\n",
       "    .dataframe tbody tr th {\n",
       "        vertical-align: top;\n",
       "    }\n",
       "\n",
       "    .dataframe thead th {\n",
       "        text-align: right;\n",
       "    }\n",
       "</style>\n",
       "<table border=\"1\" class=\"dataframe\">\n",
       "  <thead>\n",
       "    <tr style=\"text-align: right;\">\n",
       "      <th></th>\n",
       "      <th>customerID</th>\n",
       "      <th>InternetService</th>\n",
       "      <th>OnlineSecurity</th>\n",
       "      <th>OnlineBackup</th>\n",
       "      <th>DeviceProtection</th>\n",
       "      <th>TechSupport</th>\n",
       "      <th>StreamingTV</th>\n",
       "      <th>StreamingMovies</th>\n",
       "    </tr>\n",
       "  </thead>\n",
       "  <tbody>\n",
       "    <tr>\n",
       "      <th>count</th>\n",
       "      <td>5517</td>\n",
       "      <td>5517</td>\n",
       "      <td>5517</td>\n",
       "      <td>5517</td>\n",
       "      <td>5517</td>\n",
       "      <td>5517</td>\n",
       "      <td>5517</td>\n",
       "      <td>5517</td>\n",
       "    </tr>\n",
       "    <tr>\n",
       "      <th>unique</th>\n",
       "      <td>5517</td>\n",
       "      <td>2</td>\n",
       "      <td>2</td>\n",
       "      <td>2</td>\n",
       "      <td>2</td>\n",
       "      <td>2</td>\n",
       "      <td>2</td>\n",
       "      <td>2</td>\n",
       "    </tr>\n",
       "    <tr>\n",
       "      <th>top</th>\n",
       "      <td>7590-VHVEG</td>\n",
       "      <td>Fiber optic</td>\n",
       "      <td>No</td>\n",
       "      <td>No</td>\n",
       "      <td>No</td>\n",
       "      <td>No</td>\n",
       "      <td>No</td>\n",
       "      <td>No</td>\n",
       "    </tr>\n",
       "    <tr>\n",
       "      <th>freq</th>\n",
       "      <td>1</td>\n",
       "      <td>3096</td>\n",
       "      <td>3498</td>\n",
       "      <td>3088</td>\n",
       "      <td>3095</td>\n",
       "      <td>3473</td>\n",
       "      <td>2810</td>\n",
       "      <td>2785</td>\n",
       "    </tr>\n",
       "  </tbody>\n",
       "</table>\n",
       "</div>"
      ],
      "text/plain": [
       "        customerID InternetService OnlineSecurity OnlineBackup  \\\n",
       "count         5517            5517           5517         5517   \n",
       "unique        5517               2              2            2   \n",
       "top     7590-VHVEG     Fiber optic             No           No   \n",
       "freq             1            3096           3498         3088   \n",
       "\n",
       "       DeviceProtection TechSupport StreamingTV StreamingMovies  \n",
       "count              5517        5517        5517            5517  \n",
       "unique                2           2           2               2  \n",
       "top                  No          No          No              No  \n",
       "freq               3095        3473        2810            2785  "
      ]
     },
     "metadata": {},
     "output_type": "display_data"
    },
    {
     "name": "stdout",
     "output_type": "stream",
     "text": [
      "Количество пропусков customerID          0\n",
      "InternetService     0\n",
      "OnlineSecurity      0\n",
      "OnlineBackup        0\n",
      "DeviceProtection    0\n",
      "TechSupport         0\n",
      "StreamingTV         0\n",
      "StreamingMovies     0\n",
      "dtype: int64\n",
      "------------\n",
      "Количество дубликатов = 0\n",
      "- - - - - - - - - - - - - - - - - - - - - - - - - - - - - - -\n",
      "<class 'pandas.core.frame.DataFrame'>\n",
      "RangeIndex: 7043 entries, 0 to 7042\n",
      "Data columns (total 5 columns):\n",
      " #   Column         Non-Null Count  Dtype \n",
      "---  ------         --------------  ----- \n",
      " 0   customerID     7043 non-null   object\n",
      " 1   gender         7043 non-null   object\n",
      " 2   SeniorCitizen  7043 non-null   int64 \n",
      " 3   Partner        7043 non-null   object\n",
      " 4   Dependents     7043 non-null   object\n",
      "dtypes: int64(1), object(4)\n",
      "memory usage: 275.2+ KB\n"
     ]
    },
    {
     "data": {
      "text/html": [
       "<div>\n",
       "<style scoped>\n",
       "    .dataframe tbody tr th:only-of-type {\n",
       "        vertical-align: middle;\n",
       "    }\n",
       "\n",
       "    .dataframe tbody tr th {\n",
       "        vertical-align: top;\n",
       "    }\n",
       "\n",
       "    .dataframe thead th {\n",
       "        text-align: right;\n",
       "    }\n",
       "</style>\n",
       "<table border=\"1\" class=\"dataframe\">\n",
       "  <thead>\n",
       "    <tr style=\"text-align: right;\">\n",
       "      <th></th>\n",
       "      <th>customerID</th>\n",
       "      <th>gender</th>\n",
       "      <th>SeniorCitizen</th>\n",
       "      <th>Partner</th>\n",
       "      <th>Dependents</th>\n",
       "    </tr>\n",
       "  </thead>\n",
       "  <tbody>\n",
       "    <tr>\n",
       "      <th>4984</th>\n",
       "      <td>5236-XMZJY</td>\n",
       "      <td>Female</td>\n",
       "      <td>0</td>\n",
       "      <td>No</td>\n",
       "      <td>No</td>\n",
       "    </tr>\n",
       "    <tr>\n",
       "      <th>3418</th>\n",
       "      <td>4176-FXYBO</td>\n",
       "      <td>Male</td>\n",
       "      <td>0</td>\n",
       "      <td>Yes</td>\n",
       "      <td>No</td>\n",
       "    </tr>\n",
       "    <tr>\n",
       "      <th>3484</th>\n",
       "      <td>2921-XWDJH</td>\n",
       "      <td>Female</td>\n",
       "      <td>1</td>\n",
       "      <td>Yes</td>\n",
       "      <td>No</td>\n",
       "    </tr>\n",
       "    <tr>\n",
       "      <th>13</th>\n",
       "      <td>0280-XJGEX</td>\n",
       "      <td>Male</td>\n",
       "      <td>0</td>\n",
       "      <td>No</td>\n",
       "      <td>No</td>\n",
       "    </tr>\n",
       "    <tr>\n",
       "      <th>424</th>\n",
       "      <td>8111-BKVDS</td>\n",
       "      <td>Female</td>\n",
       "      <td>0</td>\n",
       "      <td>No</td>\n",
       "      <td>No</td>\n",
       "    </tr>\n",
       "  </tbody>\n",
       "</table>\n",
       "</div>"
      ],
      "text/plain": [
       "      customerID  gender  SeniorCitizen Partner Dependents\n",
       "4984  5236-XMZJY  Female              0      No         No\n",
       "3418  4176-FXYBO    Male              0     Yes         No\n",
       "3484  2921-XWDJH  Female              1     Yes         No\n",
       "13    0280-XJGEX    Male              0      No         No\n",
       "424   8111-BKVDS  Female              0      No         No"
      ]
     },
     "metadata": {},
     "output_type": "display_data"
    },
    {
     "data": {
      "text/html": [
       "<div>\n",
       "<style scoped>\n",
       "    .dataframe tbody tr th:only-of-type {\n",
       "        vertical-align: middle;\n",
       "    }\n",
       "\n",
       "    .dataframe tbody tr th {\n",
       "        vertical-align: top;\n",
       "    }\n",
       "\n",
       "    .dataframe thead th {\n",
       "        text-align: right;\n",
       "    }\n",
       "</style>\n",
       "<table border=\"1\" class=\"dataframe\">\n",
       "  <thead>\n",
       "    <tr style=\"text-align: right;\">\n",
       "      <th></th>\n",
       "      <th>customerID</th>\n",
       "      <th>gender</th>\n",
       "      <th>SeniorCitizen</th>\n",
       "      <th>Partner</th>\n",
       "      <th>Dependents</th>\n",
       "    </tr>\n",
       "  </thead>\n",
       "  <tbody>\n",
       "    <tr>\n",
       "      <th>count</th>\n",
       "      <td>7043</td>\n",
       "      <td>7043</td>\n",
       "      <td>7043.000000</td>\n",
       "      <td>7043</td>\n",
       "      <td>7043</td>\n",
       "    </tr>\n",
       "    <tr>\n",
       "      <th>unique</th>\n",
       "      <td>7043</td>\n",
       "      <td>2</td>\n",
       "      <td>NaN</td>\n",
       "      <td>2</td>\n",
       "      <td>2</td>\n",
       "    </tr>\n",
       "    <tr>\n",
       "      <th>top</th>\n",
       "      <td>7590-VHVEG</td>\n",
       "      <td>Male</td>\n",
       "      <td>NaN</td>\n",
       "      <td>No</td>\n",
       "      <td>No</td>\n",
       "    </tr>\n",
       "    <tr>\n",
       "      <th>freq</th>\n",
       "      <td>1</td>\n",
       "      <td>3555</td>\n",
       "      <td>NaN</td>\n",
       "      <td>3641</td>\n",
       "      <td>4933</td>\n",
       "    </tr>\n",
       "    <tr>\n",
       "      <th>mean</th>\n",
       "      <td>NaN</td>\n",
       "      <td>NaN</td>\n",
       "      <td>0.162147</td>\n",
       "      <td>NaN</td>\n",
       "      <td>NaN</td>\n",
       "    </tr>\n",
       "    <tr>\n",
       "      <th>std</th>\n",
       "      <td>NaN</td>\n",
       "      <td>NaN</td>\n",
       "      <td>0.368612</td>\n",
       "      <td>NaN</td>\n",
       "      <td>NaN</td>\n",
       "    </tr>\n",
       "    <tr>\n",
       "      <th>min</th>\n",
       "      <td>NaN</td>\n",
       "      <td>NaN</td>\n",
       "      <td>0.000000</td>\n",
       "      <td>NaN</td>\n",
       "      <td>NaN</td>\n",
       "    </tr>\n",
       "    <tr>\n",
       "      <th>25%</th>\n",
       "      <td>NaN</td>\n",
       "      <td>NaN</td>\n",
       "      <td>0.000000</td>\n",
       "      <td>NaN</td>\n",
       "      <td>NaN</td>\n",
       "    </tr>\n",
       "    <tr>\n",
       "      <th>50%</th>\n",
       "      <td>NaN</td>\n",
       "      <td>NaN</td>\n",
       "      <td>0.000000</td>\n",
       "      <td>NaN</td>\n",
       "      <td>NaN</td>\n",
       "    </tr>\n",
       "    <tr>\n",
       "      <th>75%</th>\n",
       "      <td>NaN</td>\n",
       "      <td>NaN</td>\n",
       "      <td>0.000000</td>\n",
       "      <td>NaN</td>\n",
       "      <td>NaN</td>\n",
       "    </tr>\n",
       "    <tr>\n",
       "      <th>max</th>\n",
       "      <td>NaN</td>\n",
       "      <td>NaN</td>\n",
       "      <td>1.000000</td>\n",
       "      <td>NaN</td>\n",
       "      <td>NaN</td>\n",
       "    </tr>\n",
       "  </tbody>\n",
       "</table>\n",
       "</div>"
      ],
      "text/plain": [
       "        customerID gender  SeniorCitizen Partner Dependents\n",
       "count         7043   7043    7043.000000    7043       7043\n",
       "unique        7043      2            NaN       2          2\n",
       "top     7590-VHVEG   Male            NaN      No         No\n",
       "freq             1   3555            NaN    3641       4933\n",
       "mean           NaN    NaN       0.162147     NaN        NaN\n",
       "std            NaN    NaN       0.368612     NaN        NaN\n",
       "min            NaN    NaN       0.000000     NaN        NaN\n",
       "25%            NaN    NaN       0.000000     NaN        NaN\n",
       "50%            NaN    NaN       0.000000     NaN        NaN\n",
       "75%            NaN    NaN       0.000000     NaN        NaN\n",
       "max            NaN    NaN       1.000000     NaN        NaN"
      ]
     },
     "metadata": {},
     "output_type": "display_data"
    },
    {
     "name": "stdout",
     "output_type": "stream",
     "text": [
      "Количество пропусков customerID       0\n",
      "gender           0\n",
      "SeniorCitizen    0\n",
      "Partner          0\n",
      "Dependents       0\n",
      "dtype: int64\n",
      "------------\n",
      "Количество дубликатов = 0\n",
      "- - - - - - - - - - - - - - - - - - - - - - - - - - - - - - -\n",
      "<class 'pandas.core.frame.DataFrame'>\n",
      "RangeIndex: 6361 entries, 0 to 6360\n",
      "Data columns (total 2 columns):\n",
      " #   Column         Non-Null Count  Dtype \n",
      "---  ------         --------------  ----- \n",
      " 0   customerID     6361 non-null   object\n",
      " 1   MultipleLines  6361 non-null   object\n",
      "dtypes: object(2)\n",
      "memory usage: 99.5+ KB\n"
     ]
    },
    {
     "data": {
      "text/html": [
       "<div>\n",
       "<style scoped>\n",
       "    .dataframe tbody tr th:only-of-type {\n",
       "        vertical-align: middle;\n",
       "    }\n",
       "\n",
       "    .dataframe tbody tr th {\n",
       "        vertical-align: top;\n",
       "    }\n",
       "\n",
       "    .dataframe thead th {\n",
       "        text-align: right;\n",
       "    }\n",
       "</style>\n",
       "<table border=\"1\" class=\"dataframe\">\n",
       "  <thead>\n",
       "    <tr style=\"text-align: right;\">\n",
       "      <th></th>\n",
       "      <th>customerID</th>\n",
       "      <th>MultipleLines</th>\n",
       "    </tr>\n",
       "  </thead>\n",
       "  <tbody>\n",
       "    <tr>\n",
       "      <th>3570</th>\n",
       "      <td>6339-TBELP</td>\n",
       "      <td>Yes</td>\n",
       "    </tr>\n",
       "    <tr>\n",
       "      <th>3726</th>\n",
       "      <td>3345-PBBFH</td>\n",
       "      <td>No</td>\n",
       "    </tr>\n",
       "    <tr>\n",
       "      <th>1429</th>\n",
       "      <td>3070-FNFZQ</td>\n",
       "      <td>No</td>\n",
       "    </tr>\n",
       "    <tr>\n",
       "      <th>4835</th>\n",
       "      <td>3143-JQEGI</td>\n",
       "      <td>No</td>\n",
       "    </tr>\n",
       "    <tr>\n",
       "      <th>4827</th>\n",
       "      <td>1448-CYWKC</td>\n",
       "      <td>Yes</td>\n",
       "    </tr>\n",
       "  </tbody>\n",
       "</table>\n",
       "</div>"
      ],
      "text/plain": [
       "      customerID MultipleLines\n",
       "3570  6339-TBELP           Yes\n",
       "3726  3345-PBBFH            No\n",
       "1429  3070-FNFZQ            No\n",
       "4835  3143-JQEGI            No\n",
       "4827  1448-CYWKC           Yes"
      ]
     },
     "metadata": {},
     "output_type": "display_data"
    },
    {
     "data": {
      "text/html": [
       "<div>\n",
       "<style scoped>\n",
       "    .dataframe tbody tr th:only-of-type {\n",
       "        vertical-align: middle;\n",
       "    }\n",
       "\n",
       "    .dataframe tbody tr th {\n",
       "        vertical-align: top;\n",
       "    }\n",
       "\n",
       "    .dataframe thead th {\n",
       "        text-align: right;\n",
       "    }\n",
       "</style>\n",
       "<table border=\"1\" class=\"dataframe\">\n",
       "  <thead>\n",
       "    <tr style=\"text-align: right;\">\n",
       "      <th></th>\n",
       "      <th>customerID</th>\n",
       "      <th>MultipleLines</th>\n",
       "    </tr>\n",
       "  </thead>\n",
       "  <tbody>\n",
       "    <tr>\n",
       "      <th>count</th>\n",
       "      <td>6361</td>\n",
       "      <td>6361</td>\n",
       "    </tr>\n",
       "    <tr>\n",
       "      <th>unique</th>\n",
       "      <td>6361</td>\n",
       "      <td>2</td>\n",
       "    </tr>\n",
       "    <tr>\n",
       "      <th>top</th>\n",
       "      <td>5575-GNVDE</td>\n",
       "      <td>No</td>\n",
       "    </tr>\n",
       "    <tr>\n",
       "      <th>freq</th>\n",
       "      <td>1</td>\n",
       "      <td>3390</td>\n",
       "    </tr>\n",
       "  </tbody>\n",
       "</table>\n",
       "</div>"
      ],
      "text/plain": [
       "        customerID MultipleLines\n",
       "count         6361          6361\n",
       "unique        6361             2\n",
       "top     5575-GNVDE            No\n",
       "freq             1          3390"
      ]
     },
     "metadata": {},
     "output_type": "display_data"
    },
    {
     "name": "stdout",
     "output_type": "stream",
     "text": [
      "Количество пропусков customerID       0\n",
      "MultipleLines    0\n",
      "dtype: int64\n",
      "------------\n",
      "Количество дубликатов = 0\n",
      "- - - - - - - - - - - - - - - - - - - - - - - - - - - - - - -\n"
     ]
    }
   ],
   "source": [
    "df_all = [contract,internet,personal,phone]\n",
    "for value in df_all:\n",
    "    value.info()\n",
    "    display(value.sample(5))\n",
    "    display(value.describe(include='all'))\n",
    "    print('Количество пропусков',value.isna().sum())\n",
    "    print('------------')\n",
    "    print('Количество дубликатов =',len(value[value.duplicated()]))\n",
    "    print('- - - - - - - - - - - - - - - - - - - - - - - - - - - - - - -')"
   ]
  },
  {
   "cell_type": "code",
   "execution_count": 4,
   "id": "745c6983",
   "metadata": {},
   "outputs": [
    {
     "data": {
      "text/plain": [
       "          11\n",
       "20.2      11\n",
       "19.75      9\n",
       "20.05      8\n",
       "19.9       8\n",
       "          ..\n",
       "6849.4     1\n",
       "692.35     1\n",
       "130.15     1\n",
       "3211.9     1\n",
       "6844.5     1\n",
       "Name: TotalCharges, Length: 6531, dtype: int64"
      ]
     },
     "execution_count": 4,
     "metadata": {},
     "output_type": "execute_result"
    }
   ],
   "source": [
    "contract['TotalCharges'].value_counts()"
   ]
  },
  {
   "cell_type": "code",
   "execution_count": 5,
   "id": "7adde250",
   "metadata": {},
   "outputs": [
    {
     "data": {
      "text/html": [
       "<div>\n",
       "<style scoped>\n",
       "    .dataframe tbody tr th:only-of-type {\n",
       "        vertical-align: middle;\n",
       "    }\n",
       "\n",
       "    .dataframe tbody tr th {\n",
       "        vertical-align: top;\n",
       "    }\n",
       "\n",
       "    .dataframe thead th {\n",
       "        text-align: right;\n",
       "    }\n",
       "</style>\n",
       "<table border=\"1\" class=\"dataframe\">\n",
       "  <thead>\n",
       "    <tr style=\"text-align: right;\">\n",
       "      <th></th>\n",
       "      <th>customerID</th>\n",
       "      <th>BeginDate</th>\n",
       "      <th>EndDate</th>\n",
       "      <th>Type</th>\n",
       "      <th>PaperlessBilling</th>\n",
       "      <th>PaymentMethod</th>\n",
       "      <th>MonthlyCharges</th>\n",
       "      <th>TotalCharges</th>\n",
       "    </tr>\n",
       "  </thead>\n",
       "  <tbody>\n",
       "    <tr>\n",
       "      <th>488</th>\n",
       "      <td>4472-LVYGI</td>\n",
       "      <td>2020-02-01</td>\n",
       "      <td>No</td>\n",
       "      <td>Two year</td>\n",
       "      <td>Yes</td>\n",
       "      <td>Bank transfer (automatic)</td>\n",
       "      <td>52.55</td>\n",
       "      <td></td>\n",
       "    </tr>\n",
       "    <tr>\n",
       "      <th>753</th>\n",
       "      <td>3115-CZMZD</td>\n",
       "      <td>2020-02-01</td>\n",
       "      <td>No</td>\n",
       "      <td>Two year</td>\n",
       "      <td>No</td>\n",
       "      <td>Mailed check</td>\n",
       "      <td>20.25</td>\n",
       "      <td></td>\n",
       "    </tr>\n",
       "    <tr>\n",
       "      <th>936</th>\n",
       "      <td>5709-LVOEQ</td>\n",
       "      <td>2020-02-01</td>\n",
       "      <td>No</td>\n",
       "      <td>Two year</td>\n",
       "      <td>No</td>\n",
       "      <td>Mailed check</td>\n",
       "      <td>80.85</td>\n",
       "      <td></td>\n",
       "    </tr>\n",
       "    <tr>\n",
       "      <th>1082</th>\n",
       "      <td>4367-NUYAO</td>\n",
       "      <td>2020-02-01</td>\n",
       "      <td>No</td>\n",
       "      <td>Two year</td>\n",
       "      <td>No</td>\n",
       "      <td>Mailed check</td>\n",
       "      <td>25.75</td>\n",
       "      <td></td>\n",
       "    </tr>\n",
       "    <tr>\n",
       "      <th>1340</th>\n",
       "      <td>1371-DWPAZ</td>\n",
       "      <td>2020-02-01</td>\n",
       "      <td>No</td>\n",
       "      <td>Two year</td>\n",
       "      <td>No</td>\n",
       "      <td>Credit card (automatic)</td>\n",
       "      <td>56.05</td>\n",
       "      <td></td>\n",
       "    </tr>\n",
       "    <tr>\n",
       "      <th>3331</th>\n",
       "      <td>7644-OMVMY</td>\n",
       "      <td>2020-02-01</td>\n",
       "      <td>No</td>\n",
       "      <td>Two year</td>\n",
       "      <td>No</td>\n",
       "      <td>Mailed check</td>\n",
       "      <td>19.85</td>\n",
       "      <td></td>\n",
       "    </tr>\n",
       "    <tr>\n",
       "      <th>3826</th>\n",
       "      <td>3213-VVOLG</td>\n",
       "      <td>2020-02-01</td>\n",
       "      <td>No</td>\n",
       "      <td>Two year</td>\n",
       "      <td>No</td>\n",
       "      <td>Mailed check</td>\n",
       "      <td>25.35</td>\n",
       "      <td></td>\n",
       "    </tr>\n",
       "    <tr>\n",
       "      <th>4380</th>\n",
       "      <td>2520-SGTTA</td>\n",
       "      <td>2020-02-01</td>\n",
       "      <td>No</td>\n",
       "      <td>Two year</td>\n",
       "      <td>No</td>\n",
       "      <td>Mailed check</td>\n",
       "      <td>20.00</td>\n",
       "      <td></td>\n",
       "    </tr>\n",
       "    <tr>\n",
       "      <th>5218</th>\n",
       "      <td>2923-ARZLG</td>\n",
       "      <td>2020-02-01</td>\n",
       "      <td>No</td>\n",
       "      <td>One year</td>\n",
       "      <td>Yes</td>\n",
       "      <td>Mailed check</td>\n",
       "      <td>19.70</td>\n",
       "      <td></td>\n",
       "    </tr>\n",
       "    <tr>\n",
       "      <th>6670</th>\n",
       "      <td>4075-WKNIU</td>\n",
       "      <td>2020-02-01</td>\n",
       "      <td>No</td>\n",
       "      <td>Two year</td>\n",
       "      <td>No</td>\n",
       "      <td>Mailed check</td>\n",
       "      <td>73.35</td>\n",
       "      <td></td>\n",
       "    </tr>\n",
       "    <tr>\n",
       "      <th>6754</th>\n",
       "      <td>2775-SEFEE</td>\n",
       "      <td>2020-02-01</td>\n",
       "      <td>No</td>\n",
       "      <td>Two year</td>\n",
       "      <td>Yes</td>\n",
       "      <td>Bank transfer (automatic)</td>\n",
       "      <td>61.90</td>\n",
       "      <td></td>\n",
       "    </tr>\n",
       "  </tbody>\n",
       "</table>\n",
       "</div>"
      ],
      "text/plain": [
       "      customerID   BeginDate EndDate      Type PaperlessBilling  \\\n",
       "488   4472-LVYGI  2020-02-01      No  Two year              Yes   \n",
       "753   3115-CZMZD  2020-02-01      No  Two year               No   \n",
       "936   5709-LVOEQ  2020-02-01      No  Two year               No   \n",
       "1082  4367-NUYAO  2020-02-01      No  Two year               No   \n",
       "1340  1371-DWPAZ  2020-02-01      No  Two year               No   \n",
       "3331  7644-OMVMY  2020-02-01      No  Two year               No   \n",
       "3826  3213-VVOLG  2020-02-01      No  Two year               No   \n",
       "4380  2520-SGTTA  2020-02-01      No  Two year               No   \n",
       "5218  2923-ARZLG  2020-02-01      No  One year              Yes   \n",
       "6670  4075-WKNIU  2020-02-01      No  Two year               No   \n",
       "6754  2775-SEFEE  2020-02-01      No  Two year              Yes   \n",
       "\n",
       "                  PaymentMethod  MonthlyCharges TotalCharges  \n",
       "488   Bank transfer (automatic)           52.55               \n",
       "753                Mailed check           20.25               \n",
       "936                Mailed check           80.85               \n",
       "1082               Mailed check           25.75               \n",
       "1340    Credit card (automatic)           56.05               \n",
       "3331               Mailed check           19.85               \n",
       "3826               Mailed check           25.35               \n",
       "4380               Mailed check           20.00               \n",
       "5218               Mailed check           19.70               \n",
       "6670               Mailed check           73.35               \n",
       "6754  Bank transfer (automatic)           61.90               "
      ]
     },
     "execution_count": 5,
     "metadata": {},
     "output_type": "execute_result"
    }
   ],
   "source": [
    "contract[contract['TotalCharges'] == \" \"]"
   ]
  },
  {
   "cell_type": "markdown",
   "id": "576406ec",
   "metadata": {},
   "source": [
    "### Вывод:\n",
    "\n",
    "У нас есть 4 датасета\n",
    "- `contract.csv` — информация о договоре - 8 столбцов и 7043 строки\n",
    "- `personal.csv` — персональные данные клиента - 8 столбцов и 5517 строки\n",
    "- `internet.csv` — информация об интернет-услугах - 5 столбцов и 7043 строки\n",
    "- `phone.csv` — информация об услугах телефонии. - 2 столбца и 6361 строки\n",
    "\n",
    "Разное количество строк связано с тем, что у каждого клиента свой набор услуг.\n",
    "\n",
    "Пропусков в данных нет. EndDate - No - означает, что клиент еще пользуется услугами оператора.\n",
    "\n",
    "Целевой признак будем брать из столбца EndDate, 1 если есть дата и 0 если нет.\n",
    "\n",
    "Признаки:\n",
    "  - Type – тип оплаты: ежемесячный, годовой и тд,\n",
    "  - PaperlessBilling – электронный документ об оплате,\n",
    "  - PaymentMethod – способ оплаты,\n",
    "  - MonthlyCharges – ежемесячные траты на услуги,\n",
    "  - TotalCharges – всего потрачено денег на услуги\n",
    "  - InternetService - какой интернет     \n",
    "  - OnlineSecurity - блокировка небезопасных сайтов      \n",
    "  - OnlineBackup - облачное хранилище файлов для резервного копирования данных        \n",
    "  - DeviceProtection - наличие антивируса   \n",
    "  - TechSupport - выделенная линия технической поддержки         \n",
    "  - StreamingTV - стриминговое телевидение          \n",
    "  - StreamingMovies - каталог фильмов     \n",
    "  - Dependents – наличие иждивенцев\n",
    "  - Senior Citizen – наличие пенсионного статуса по возрасту\n",
    "  - Partner – наличие супруга(и)\n",
    "  - gender - пол\n",
    "  - MultipleLines – наличие возможности ведения параллельных линий во время звонка\n",
    "\n",
    "Добавим признак продолжительность пользования услугами (вычтим из EndDate BeginDate) если нет даты, воспользуемся условием задачи \"Информация о договорах актуальна на 1 февраля 2020.\"\n",
    "\n",
    "Дубликатов нет.\n",
    "\n",
    "У 11 клиентов отсутствуют значения в графе \"TotalCharges – всего потрачено денег на услуги\", это связано с тем что 1 день даты начала пользования услуги совпадает с последним днем днем в наших данных, видимо платеж еще не прошел. Думаю имеет смысл, просто удалить данные строки, учитывая что потеря данных составят менее 1%. \n",
    "\n",
    "Необходимо будет заменить тип данных в столбцах с датой."
   ]
  },
  {
   "cell_type": "markdown",
   "id": "c40ec694",
   "metadata": {},
   "source": [
    "## Анализ и подготовка данных"
   ]
  },
  {
   "cell_type": "markdown",
   "id": "5b032c61",
   "metadata": {},
   "source": [
    "- Обьеденим данные\n",
    "- выделим целевой признак\n",
    "- создадим дополнительный признак - продолжительнось пользования услугой\n",
    "- удалим сталбцы с датами\n",
    "- разделим данные на тренировочную и тестовую выборку в соотношении 75% к 25%"
   ]
  },
  {
   "cell_type": "markdown",
   "id": "02918df7",
   "metadata": {},
   "source": [
    "Cоздаем целевой признак на основе столбца EndDate: если Target = 1, значит что клиент от нас ушел, иначе Target = 0"
   ]
  },
  {
   "cell_type": "code",
   "execution_count": 6,
   "id": "7bbf1d3a",
   "metadata": {},
   "outputs": [],
   "source": [
    "contract['Target'] = 1\n",
    "contract.loc[contract['EndDate'] == 'No', 'Target'] = 0"
   ]
  },
  {
   "cell_type": "markdown",
   "id": "d3bd0df9",
   "metadata": {},
   "source": [
    "Меняем формат сталбцов с датами"
   ]
  },
  {
   "cell_type": "code",
   "execution_count": 7,
   "id": "0fc7a5aa",
   "metadata": {},
   "outputs": [
    {
     "data": {
      "text/html": [
       "<div>\n",
       "<style scoped>\n",
       "    .dataframe tbody tr th:only-of-type {\n",
       "        vertical-align: middle;\n",
       "    }\n",
       "\n",
       "    .dataframe tbody tr th {\n",
       "        vertical-align: top;\n",
       "    }\n",
       "\n",
       "    .dataframe thead th {\n",
       "        text-align: right;\n",
       "    }\n",
       "</style>\n",
       "<table border=\"1\" class=\"dataframe\">\n",
       "  <thead>\n",
       "    <tr style=\"text-align: right;\">\n",
       "      <th></th>\n",
       "      <th>customerID</th>\n",
       "      <th>BeginDate</th>\n",
       "      <th>EndDate</th>\n",
       "      <th>Type</th>\n",
       "      <th>PaperlessBilling</th>\n",
       "      <th>PaymentMethod</th>\n",
       "      <th>MonthlyCharges</th>\n",
       "      <th>TotalCharges</th>\n",
       "      <th>Target</th>\n",
       "    </tr>\n",
       "  </thead>\n",
       "  <tbody>\n",
       "  </tbody>\n",
       "</table>\n",
       "</div>"
      ],
      "text/plain": [
       "Empty DataFrame\n",
       "Columns: [customerID, BeginDate, EndDate, Type, PaperlessBilling, PaymentMethod, MonthlyCharges, TotalCharges, Target]\n",
       "Index: []"
      ]
     },
     "execution_count": 7,
     "metadata": {},
     "output_type": "execute_result"
    }
   ],
   "source": [
    "contract[contract['EndDate'] == '2020-02-01 00:00:00']"
   ]
  },
  {
   "cell_type": "code",
   "execution_count": 8,
   "id": "34313281",
   "metadata": {},
   "outputs": [],
   "source": [
    "contract['EndDate']= contract['EndDate'].replace('No', '2020-02-01 00:00:00')\n",
    "\n",
    "contract['BeginDate']= pd.to_datetime(contract['BeginDate'], format='%Y-%m-%d')\n",
    "contract['EndDate'] = pd.to_datetime(contract['EndDate'], format='%Y-%m-%d')"
   ]
  },
  {
   "cell_type": "markdown",
   "id": "57a09f9a",
   "metadata": {},
   "source": [
    "Рост клиентов по годам"
   ]
  },
  {
   "cell_type": "code",
   "execution_count": 9,
   "id": "6a8a0c2a",
   "metadata": {},
   "outputs": [
    {
     "data": {
      "image/png": "[encoded data removed]",
      "text/plain": [
       "<Figure size 432x288 with 1 Axes>"
      ]
     },
     "metadata": {
      "needs_background": "light"
     },
     "output_type": "display_data"
    }
   ],
   "source": [
    "plt.title(\"График подключения клиентов по годам\")\n",
    "sns.distplot(contract['BeginDate'].dt.year);"
   ]
  },
  {
   "cell_type": "markdown",
   "id": "58e3c0b4",
   "metadata": {},
   "source": [
    "Отток клиентов по годам"
   ]
  },
  {
   "cell_type": "code",
   "execution_count": 10,
   "id": "4a75e801",
   "metadata": {},
   "outputs": [
    {
     "data": {
      "image/png": "[encoded data removed]",
      "text/plain": [
       "<Figure size 432x288 with 1 Axes>"
      ]
     },
     "metadata": {
      "needs_background": "light"
     },
     "output_type": "display_data"
    }
   ],
   "source": [
    "year_end = contract[contract['EndDate'] < '2020-02-01']\n",
    "\n",
    "plt.title(\"График оттока клиентов по годам\")\n",
    "sns.distplot(year_end['EndDate'].dt.year);"
   ]
  },
  {
   "cell_type": "code",
   "execution_count": 11,
   "id": "aac70dad",
   "metadata": {},
   "outputs": [
    {
     "data": {
      "image/png": "[encoded data removed]",
      "text/plain": [
       "<Figure size 432x288 with 1 Axes>"
      ]
     },
     "metadata": {
      "needs_background": "light"
     },
     "output_type": "display_data"
    }
   ],
   "source": [
    "contract['days_leave'] = contract['EndDate'] - contract['BeginDate']\n",
    "\n",
    "plt.title(\"Количество дней до расторжения договора\")\n",
    "sns.distplot(contract[contract['EndDate'] != '2020-02-01']['days_leave'].dt.days);"
   ]
  },
  {
   "cell_type": "code",
   "execution_count": 12,
   "id": "f165e35a",
   "metadata": {},
   "outputs": [
    {
     "data": {
      "image/png": "[encoded data removed]",
      "text/plain": [
       "<Figure size 432x288 with 1 Axes>"
      ]
     },
     "metadata": {
      "needs_background": "light"
     },
     "output_type": "display_data"
    }
   ],
   "source": [
    "plt.title(\"Количество дней до расторжения договора\")\n",
    "sns.distplot(contract[(contract['EndDate'] != '2020-02-01') & (contract['days_leave'].dt.days < 120)]['days_leave'].dt.days);"
   ]
  },
  {
   "cell_type": "markdown",
   "id": "cdbf5f5f",
   "metadata": {},
   "source": [
    "#### Видим что есть, как пики роста клиента в 2014 и 2019 гадах, так и пики оттока в 2019 и 2020 году."
   ]
  },
  {
   "cell_type": "markdown",
   "id": "4cefe305",
   "metadata": {},
   "source": [
    "Создадим дополнительный признак - количество дней пользования услугой. "
   ]
  },
  {
   "cell_type": "code",
   "execution_count": 13,
   "id": "0511921a",
   "metadata": {},
   "outputs": [],
   "source": [
    "contract['TotalDays'] = (contract['EndDate'] - contract['BeginDate']).dt.days"
   ]
  },
  {
   "cell_type": "markdown",
   "id": "570f975d",
   "metadata": {},
   "source": [
    "Удалим 11 строк, где клиенты, только подключились и не известно какие у них будут траты в этом месяце."
   ]
  },
  {
   "cell_type": "code",
   "execution_count": 14,
   "id": "d3b89be4",
   "metadata": {},
   "outputs": [],
   "source": [
    "contract['TotalCharges'] = contract['TotalCharges'].replace({\" \": np.nan}).astype(float)\n",
    "contract = contract.dropna()"
   ]
  },
  {
   "cell_type": "markdown",
   "id": "33fd1287",
   "metadata": {},
   "source": [
    "Объединяем данные в один датафрейм"
   ]
  },
  {
   "cell_type": "code",
   "execution_count": 15,
   "id": "98776859",
   "metadata": {},
   "outputs": [],
   "source": [
    "#до обьеденения удалим лишние столбцы\n",
    "contract = contract.drop(['EndDate', 'BeginDate','days_leave'], axis=1) \n",
    "\n",
    "data = contract.merge(personal, on='customerID', how='left')\n",
    "data = data.merge(phone, on='customerID', how='left')\n",
    "data = data.merge(internet, on='customerID', how='left')"
   ]
  },
  {
   "cell_type": "code",
   "execution_count": 16,
   "id": "dd446106",
   "metadata": {},
   "outputs": [],
   "source": [
    "data = data.set_index('customerID')"
   ]
  },
  {
   "cell_type": "code",
   "execution_count": 17,
   "id": "b6d612f3",
   "metadata": {},
   "outputs": [
    {
     "name": "stdout",
     "output_type": "stream",
     "text": [
      "<class 'pandas.core.frame.DataFrame'>\n",
      "Index: 7032 entries, 7590-VHVEG to 3186-AJIEK\n",
      "Data columns (total 19 columns):\n",
      " #   Column            Non-Null Count  Dtype  \n",
      "---  ------            --------------  -----  \n",
      " 0   Type              7032 non-null   object \n",
      " 1   PaperlessBilling  7032 non-null   object \n",
      " 2   PaymentMethod     7032 non-null   object \n",
      " 3   MonthlyCharges    7032 non-null   float64\n",
      " 4   TotalCharges      7032 non-null   float64\n",
      " 5   Target            7032 non-null   int64  \n",
      " 6   TotalDays         7032 non-null   int64  \n",
      " 7   gender            7032 non-null   object \n",
      " 8   SeniorCitizen     7032 non-null   int64  \n",
      " 9   Partner           7032 non-null   object \n",
      " 10  Dependents        7032 non-null   object \n",
      " 11  MultipleLines     6352 non-null   object \n",
      " 12  InternetService   5512 non-null   object \n",
      " 13  OnlineSecurity    5512 non-null   object \n",
      " 14  OnlineBackup      5512 non-null   object \n",
      " 15  DeviceProtection  5512 non-null   object \n",
      " 16  TechSupport       5512 non-null   object \n",
      " 17  StreamingTV       5512 non-null   object \n",
      " 18  StreamingMovies   5512 non-null   object \n",
      "dtypes: float64(2), int64(3), object(14)\n",
      "memory usage: 1.1+ MB\n"
     ]
    }
   ],
   "source": [
    "data.info()"
   ]
  },
  {
   "cell_type": "markdown",
   "id": "a5af729d",
   "metadata": {},
   "source": [
    "После обьединение появилось много пропусков, так как есть клиенты, которые пользуются разными наборами услуг, заменим эти значения на No, и только в MultipleLines на NA, чтобы осталось понимание сколько клиентов не пользуются телефонией."
   ]
  },
  {
   "cell_type": "code",
   "execution_count": 18,
   "id": "4e5345e6",
   "metadata": {},
   "outputs": [],
   "source": [
    "data['MultipleLines'] = data['MultipleLines'].fillna('NA')"
   ]
  },
  {
   "cell_type": "code",
   "execution_count": 19,
   "id": "c201b280",
   "metadata": {},
   "outputs": [],
   "source": [
    "data = data.fillna('No')"
   ]
  },
  {
   "cell_type": "code",
   "execution_count": 20,
   "id": "5e83bcc8",
   "metadata": {},
   "outputs": [
    {
     "name": "stdout",
     "output_type": "stream",
     "text": [
      "<class 'pandas.core.frame.DataFrame'>\n",
      "Index: 7032 entries, 7590-VHVEG to 3186-AJIEK\n",
      "Data columns (total 19 columns):\n",
      " #   Column            Non-Null Count  Dtype  \n",
      "---  ------            --------------  -----  \n",
      " 0   Type              7032 non-null   object \n",
      " 1   PaperlessBilling  7032 non-null   object \n",
      " 2   PaymentMethod     7032 non-null   object \n",
      " 3   MonthlyCharges    7032 non-null   float64\n",
      " 4   TotalCharges      7032 non-null   float64\n",
      " 5   Target            7032 non-null   int64  \n",
      " 6   TotalDays         7032 non-null   int64  \n",
      " 7   gender            7032 non-null   object \n",
      " 8   SeniorCitizen     7032 non-null   int64  \n",
      " 9   Partner           7032 non-null   object \n",
      " 10  Dependents        7032 non-null   object \n",
      " 11  MultipleLines     7032 non-null   object \n",
      " 12  InternetService   7032 non-null   object \n",
      " 13  OnlineSecurity    7032 non-null   object \n",
      " 14  OnlineBackup      7032 non-null   object \n",
      " 15  DeviceProtection  7032 non-null   object \n",
      " 16  TechSupport       7032 non-null   object \n",
      " 17  StreamingTV       7032 non-null   object \n",
      " 18  StreamingMovies   7032 non-null   object \n",
      "dtypes: float64(2), int64(3), object(14)\n",
      "memory usage: 1.1+ MB\n"
     ]
    }
   ],
   "source": [
    "data.info()"
   ]
  },
  {
   "cell_type": "markdown",
   "id": "25772e7d",
   "metadata": {},
   "source": [
    "### Проведем анализ данных и посмотрим корреляцию признаков:\n"
   ]
  },
  {
   "cell_type": "code",
   "execution_count": 21,
   "id": "1db47681",
   "metadata": {},
   "outputs": [
    {
     "data": {
      "text/html": [
       "<div>\n",
       "<style scoped>\n",
       "    .dataframe tbody tr th:only-of-type {\n",
       "        vertical-align: middle;\n",
       "    }\n",
       "\n",
       "    .dataframe tbody tr th {\n",
       "        vertical-align: top;\n",
       "    }\n",
       "\n",
       "    .dataframe thead th {\n",
       "        text-align: right;\n",
       "    }\n",
       "</style>\n",
       "<table border=\"1\" class=\"dataframe\">\n",
       "  <thead>\n",
       "    <tr style=\"text-align: right;\">\n",
       "      <th></th>\n",
       "      <th>Type</th>\n",
       "      <th>PaperlessBilling</th>\n",
       "      <th>PaymentMethod</th>\n",
       "      <th>MonthlyCharges</th>\n",
       "      <th>TotalCharges</th>\n",
       "      <th>Target</th>\n",
       "      <th>TotalDays</th>\n",
       "      <th>gender</th>\n",
       "      <th>SeniorCitizen</th>\n",
       "      <th>Partner</th>\n",
       "      <th>Dependents</th>\n",
       "      <th>MultipleLines</th>\n",
       "      <th>InternetService</th>\n",
       "      <th>OnlineSecurity</th>\n",
       "      <th>OnlineBackup</th>\n",
       "      <th>DeviceProtection</th>\n",
       "      <th>TechSupport</th>\n",
       "      <th>StreamingTV</th>\n",
       "      <th>StreamingMovies</th>\n",
       "    </tr>\n",
       "    <tr>\n",
       "      <th>customerID</th>\n",
       "      <th></th>\n",
       "      <th></th>\n",
       "      <th></th>\n",
       "      <th></th>\n",
       "      <th></th>\n",
       "      <th></th>\n",
       "      <th></th>\n",
       "      <th></th>\n",
       "      <th></th>\n",
       "      <th></th>\n",
       "      <th></th>\n",
       "      <th></th>\n",
       "      <th></th>\n",
       "      <th></th>\n",
       "      <th></th>\n",
       "      <th></th>\n",
       "      <th></th>\n",
       "      <th></th>\n",
       "      <th></th>\n",
       "    </tr>\n",
       "  </thead>\n",
       "  <tbody>\n",
       "    <tr>\n",
       "      <th>7590-VHVEG</th>\n",
       "      <td>Month-to-month</td>\n",
       "      <td>Yes</td>\n",
       "      <td>Electronic check</td>\n",
       "      <td>29.85</td>\n",
       "      <td>29.85</td>\n",
       "      <td>0</td>\n",
       "      <td>31</td>\n",
       "      <td>Female</td>\n",
       "      <td>0</td>\n",
       "      <td>Yes</td>\n",
       "      <td>No</td>\n",
       "      <td>NA</td>\n",
       "      <td>DSL</td>\n",
       "      <td>No</td>\n",
       "      <td>Yes</td>\n",
       "      <td>No</td>\n",
       "      <td>No</td>\n",
       "      <td>No</td>\n",
       "      <td>No</td>\n",
       "    </tr>\n",
       "    <tr>\n",
       "      <th>5575-GNVDE</th>\n",
       "      <td>One year</td>\n",
       "      <td>No</td>\n",
       "      <td>Mailed check</td>\n",
       "      <td>56.95</td>\n",
       "      <td>1889.50</td>\n",
       "      <td>0</td>\n",
       "      <td>1036</td>\n",
       "      <td>Male</td>\n",
       "      <td>0</td>\n",
       "      <td>No</td>\n",
       "      <td>No</td>\n",
       "      <td>No</td>\n",
       "      <td>DSL</td>\n",
       "      <td>Yes</td>\n",
       "      <td>No</td>\n",
       "      <td>Yes</td>\n",
       "      <td>No</td>\n",
       "      <td>No</td>\n",
       "      <td>No</td>\n",
       "    </tr>\n",
       "    <tr>\n",
       "      <th>3668-QPYBK</th>\n",
       "      <td>Month-to-month</td>\n",
       "      <td>Yes</td>\n",
       "      <td>Mailed check</td>\n",
       "      <td>53.85</td>\n",
       "      <td>108.15</td>\n",
       "      <td>1</td>\n",
       "      <td>61</td>\n",
       "      <td>Male</td>\n",
       "      <td>0</td>\n",
       "      <td>No</td>\n",
       "      <td>No</td>\n",
       "      <td>No</td>\n",
       "      <td>DSL</td>\n",
       "      <td>Yes</td>\n",
       "      <td>Yes</td>\n",
       "      <td>No</td>\n",
       "      <td>No</td>\n",
       "      <td>No</td>\n",
       "      <td>No</td>\n",
       "    </tr>\n",
       "    <tr>\n",
       "      <th>7795-CFOCW</th>\n",
       "      <td>One year</td>\n",
       "      <td>No</td>\n",
       "      <td>Bank transfer (automatic)</td>\n",
       "      <td>42.30</td>\n",
       "      <td>1840.75</td>\n",
       "      <td>0</td>\n",
       "      <td>1371</td>\n",
       "      <td>Male</td>\n",
       "      <td>0</td>\n",
       "      <td>No</td>\n",
       "      <td>No</td>\n",
       "      <td>NA</td>\n",
       "      <td>DSL</td>\n",
       "      <td>Yes</td>\n",
       "      <td>No</td>\n",
       "      <td>Yes</td>\n",
       "      <td>Yes</td>\n",
       "      <td>No</td>\n",
       "      <td>No</td>\n",
       "    </tr>\n",
       "    <tr>\n",
       "      <th>9237-HQITU</th>\n",
       "      <td>Month-to-month</td>\n",
       "      <td>Yes</td>\n",
       "      <td>Electronic check</td>\n",
       "      <td>70.70</td>\n",
       "      <td>151.65</td>\n",
       "      <td>1</td>\n",
       "      <td>61</td>\n",
       "      <td>Female</td>\n",
       "      <td>0</td>\n",
       "      <td>No</td>\n",
       "      <td>No</td>\n",
       "      <td>No</td>\n",
       "      <td>Fiber optic</td>\n",
       "      <td>No</td>\n",
       "      <td>No</td>\n",
       "      <td>No</td>\n",
       "      <td>No</td>\n",
       "      <td>No</td>\n",
       "      <td>No</td>\n",
       "    </tr>\n",
       "  </tbody>\n",
       "</table>\n",
       "</div>"
      ],
      "text/plain": [
       "                      Type PaperlessBilling              PaymentMethod  \\\n",
       "customerID                                                               \n",
       "7590-VHVEG  Month-to-month              Yes           Electronic check   \n",
       "5575-GNVDE        One year               No               Mailed check   \n",
       "3668-QPYBK  Month-to-month              Yes               Mailed check   \n",
       "7795-CFOCW        One year               No  Bank transfer (automatic)   \n",
       "9237-HQITU  Month-to-month              Yes           Electronic check   \n",
       "\n",
       "            MonthlyCharges  TotalCharges  Target  TotalDays  gender  \\\n",
       "customerID                                                            \n",
       "7590-VHVEG           29.85         29.85       0         31  Female   \n",
       "5575-GNVDE           56.95       1889.50       0       1036    Male   \n",
       "3668-QPYBK           53.85        108.15       1         61    Male   \n",
       "7795-CFOCW           42.30       1840.75       0       1371    Male   \n",
       "9237-HQITU           70.70        151.65       1         61  Female   \n",
       "\n",
       "            SeniorCitizen Partner Dependents MultipleLines InternetService  \\\n",
       "customerID                                                                   \n",
       "7590-VHVEG              0     Yes         No            NA             DSL   \n",
       "5575-GNVDE              0      No         No            No             DSL   \n",
       "3668-QPYBK              0      No         No            No             DSL   \n",
       "7795-CFOCW              0      No         No            NA             DSL   \n",
       "9237-HQITU              0      No         No            No     Fiber optic   \n",
       "\n",
       "           OnlineSecurity OnlineBackup DeviceProtection TechSupport  \\\n",
       "customerID                                                            \n",
       "7590-VHVEG             No          Yes               No          No   \n",
       "5575-GNVDE            Yes           No              Yes          No   \n",
       "3668-QPYBK            Yes          Yes               No          No   \n",
       "7795-CFOCW            Yes           No              Yes         Yes   \n",
       "9237-HQITU             No           No               No          No   \n",
       "\n",
       "           StreamingTV StreamingMovies  \n",
       "customerID                              \n",
       "7590-VHVEG          No              No  \n",
       "5575-GNVDE          No              No  \n",
       "3668-QPYBK          No              No  \n",
       "7795-CFOCW          No              No  \n",
       "9237-HQITU          No              No  "
      ]
     },
     "execution_count": 21,
     "metadata": {},
     "output_type": "execute_result"
    }
   ],
   "source": [
    "data.head()"
   ]
  },
  {
   "cell_type": "code",
   "execution_count": 22,
   "id": "a6ffc726",
   "metadata": {},
   "outputs": [],
   "source": [
    "def pie_plot(df, name):\n",
    "    counts = df.value_counts(dropna=False)\n",
    "    counts.plot.pie(legend=True, labeldistance=1.2, autopct='%1.2f%%', figsize=(20,6), title=name)\n",
    "    plt.show()"
   ]
  },
  {
   "cell_type": "code",
   "execution_count": 23,
   "id": "103372aa",
   "metadata": {},
   "outputs": [
    {
     "data": {
      "image/png": "[encoded data removed]",
      "text/plain": [
       "<Figure size 1440x432 with 1 Axes>"
      ]
     },
     "metadata": {},
     "output_type": "display_data"
    },
    {
     "data": {
      "image/png": "[encoded data removed]",
      "text/plain": [
       "<Figure size 1440x432 with 1 Axes>"
      ]
     },
     "metadata": {},
     "output_type": "display_data"
    },
    {
     "data": {
      "image/png": "[encoded data removed]",
      "text/plain": [
       "<Figure size 1440x432 with 1 Axes>"
      ]
     },
     "metadata": {},
     "output_type": "display_data"
    },
    {
     "data": {
      "image/png": "[encoded data removed]",
      "text/plain": [
       "<Figure size 1440x432 with 1 Axes>"
      ]
     },
     "metadata": {},
     "output_type": "display_data"
    },
    {
     "data": {
      "image/png": "[encoded data removed]",
      "text/plain": [
       "<Figure size 1440x432 with 1 Axes>"
      ]
     },
     "metadata": {},
     "output_type": "display_data"
    },
    {
     "data": {
      "image/png": "[encoded data removed]",
      "text/plain": [
       "<Figure size 1440x432 with 1 Axes>"
      ]
     },
     "metadata": {},
     "output_type": "display_data"
    },
    {
     "data": {
      "image/png": "[encoded data removed]",
      "text/plain": [
       "<Figure size 1440x432 with 1 Axes>"
      ]
     },
     "metadata": {},
     "output_type": "display_data"
    },
    {
     "data": {
      "image/png": "[encoded data removed]",
      "text/plain": [
       "<Figure size 1440x432 with 1 Axes>"
      ]
     },
     "metadata": {},
     "output_type": "display_data"
    },
    {
     "data": {
      "image/png": "[encoded data removed]",
      "text/plain": [
       "<Figure size 1440x432 with 1 Axes>"
      ]
     },
     "metadata": {},
     "output_type": "display_data"
    },
    {
     "data": {
      "image/png": "[encoded data removed]",
      "text/plain": [
       "<Figure size 1440x432 with 1 Axes>"
      ]
     },
     "metadata": {},
     "output_type": "display_data"
    },
    {
     "data": {
      "image/png": "[encoded data removed]",
      "text/plain": [
       "<Figure size 1440x432 with 1 Axes>"
      ]
     },
     "metadata": {},
     "output_type": "display_data"
    },
    {
     "data": {
      "image/png": "[encoded data removed]",
      "text/plain": [
       "<Figure size 1440x432 with 1 Axes>"
      ]
     },
     "metadata": {},
     "output_type": "display_data"
    },
    {
     "data": {
      "image/png": "[encoded data removed]",
      "text/plain": [
       "<Figure size 1440x432 with 1 Axes>"
      ]
     },
     "metadata": {},
     "output_type": "display_data"
    },
    {
     "data": {
      "image/png": "[encoded data removed]",
      "text/plain": [
       "<Figure size 1440x432 with 1 Axes>"
      ]
     },
     "metadata": {},
     "output_type": "display_data"
    }
   ],
   "source": [
    "plot = [('Type','Тип оплаты'),\n",
    "        ('PaperlessBilling','Электронный документ об оплате'),\n",
    "        ('PaymentMethod','Способ оплаты'),\n",
    "        ('OnlineSecurity', 'Блокировка небезопасных сайтов'),\n",
    "        ('OnlineBackup', 'Облачное хранилище файлов'),\n",
    "        ('DeviceProtection', 'Наличие антивируса'),\n",
    "        ('TechSupport', 'Выделенная линия технической поддержки'),\n",
    "        ('StreamingTV', 'Стриминговое телевидение'),\n",
    "        ('StreamingMovies', 'Каталог фильмов'),\n",
    "        ('Dependents', 'Наличие иждивенцев'),\n",
    "        ('SeniorCitizen', 'Наличие пенсионного статуса'),\n",
    "        ('Partner', 'Наличие супруга'),\n",
    "        ('gender', 'Пол'),\n",
    "        ('MultipleLines', 'Наличие возможности ведения параллельных линий во время звонка')]\n",
    " \n",
    "for x in plot:\n",
    "    pie_plot(data[x[0]],x[1])"
   ]
  },
  {
   "cell_type": "code",
   "execution_count": 24,
   "id": "01b83421",
   "metadata": {},
   "outputs": [
    {
     "data": {
      "image/png": "[encoded data removed]",
      "text/plain": [
       "<Figure size 1440x432 with 1 Axes>"
      ]
     },
     "metadata": {},
     "output_type": "display_data"
    }
   ],
   "source": [
    "pie_plot(data['Target'], 'Целевой признак')"
   ]
  },
  {
   "cell_type": "markdown",
   "id": "2ce63c6f",
   "metadata": {},
   "source": [
    "#### Портрет типичного пользователя: мужчина или женщина, не пенсионер, без иждевенцев, оплачивает услуги ежемесячно,предпочитает получать электронные чеки."
   ]
  },
  {
   "cell_type": "markdown",
   "id": "c31d6060",
   "metadata": {},
   "source": [
    "Посмотрим, сколько клинтов и какими услугами пользуются:"
   ]
  },
  {
   "cell_type": "code",
   "execution_count": 25,
   "id": "a13eb87a",
   "metadata": {},
   "outputs": [],
   "source": [
    "data['Services'] = 0 # Клиент использует и интернет и телефонию\n",
    "data.loc[data['MultipleLines'] == 'NA', 'Services'] = 1 # Только интернет\n",
    "data.loc[data['InternetService'] == 'No', 'Services'] = 2 # Только телефония"
   ]
  },
  {
   "cell_type": "code",
   "execution_count": 26,
   "id": "49f70af9",
   "metadata": {},
   "outputs": [
    {
     "data": {
      "text/plain": [
       "0    4832\n",
       "2    1520\n",
       "1     680\n",
       "Name: Services, dtype: int64"
      ]
     },
     "execution_count": 26,
     "metadata": {},
     "output_type": "execute_result"
    }
   ],
   "source": [
    "data['Services'].value_counts()"
   ]
  },
  {
   "cell_type": "code",
   "execution_count": 27,
   "id": "752019a2",
   "metadata": {},
   "outputs": [
    {
     "data": {
      "text/plain": [
       "0    1586\n",
       "1     170\n",
       "2     113\n",
       "Name: Services, dtype: int64"
      ]
     },
     "execution_count": 27,
     "metadata": {},
     "output_type": "execute_result"
    }
   ],
   "source": [
    "data[data['Target'] == 1]['Services'].value_counts()"
   ]
  },
  {
   "cell_type": "code",
   "execution_count": 28,
   "id": "660dbcd6",
   "metadata": {},
   "outputs": [
    {
     "data": {
      "image/png": "[encoded data removed]",
      "text/plain": [
       "<Figure size 432x288 with 1 Axes>"
      ]
     },
     "metadata": {},
     "output_type": "display_data"
    }
   ],
   "source": [
    "labels = ['All Services', 'Internet only', 'Phone only']\n",
    "sizes = data['Services'].value_counts().sort_index().values\n",
    " \n",
    "fig1, ax1 = plt.subplots()\n",
    "ax1.pie(sizes, labels=labels, autopct='%1.2f%%')\n",
    "\n",
    "ax1.axis('equal')  \n",
    "plt.tight_layout()\n",
    "plt.title(\"Распределение услуг по количеству клиентов\")\n",
    "plt.show()"
   ]
  },
  {
   "cell_type": "code",
   "execution_count": 29,
   "id": "c2809211",
   "metadata": {},
   "outputs": [
    {
     "data": {
      "image/png": "[encoded data removed]",
      "text/plain": [
       "<Figure size 432x288 with 1 Axes>"
      ]
     },
     "metadata": {},
     "output_type": "display_data"
    }
   ],
   "source": [
    "labels = ['All Services', 'Internet only', 'Phone only']\n",
    "data_out = data.query('Target == 1')\n",
    "sizes = data_out['Services'].value_counts().values\n",
    " \n",
    "fig1, ax1 = plt.subplots()\n",
    "ax1.pie(sizes, labels=labels, autopct='%1.2f%%')\n",
    "\n",
    "ax1.axis('equal')  \n",
    "plt.tight_layout()\n",
    "plt.title(\"Распределение услуг по количеству клиентов\")\n",
    "plt.show()"
   ]
  },
  {
   "cell_type": "markdown",
   "id": "77e5c741",
   "metadata": {},
   "source": [
    "Сравнив 2 графика, делаю вывод, что нет зависимости от определенной услуги и оттока клиентов."
   ]
  },
  {
   "cell_type": "code",
   "execution_count": 30,
   "id": "7efe4e4c",
   "metadata": {},
   "outputs": [
    {
     "data": {
      "text/plain": [
       "<AxesSubplot:>"
      ]
     },
     "execution_count": 30,
     "metadata": {},
     "output_type": "execute_result"
    },
    {
     "data": {
      "image/png": "[encoded data removed]",
      "text/plain": [
       "<Figure size 504x504 with 2 Axes>"
      ]
     },
     "metadata": {
      "needs_background": "light"
     },
     "output_type": "display_data"
    }
   ],
   "source": [
    "corr_data = data.drop(['Target','SeniorCitizen','Services'], axis = 1)\n",
    "corrMatrix = corr_data.corr()\n",
    "plt.figure(figsize=(7, 7))\n",
    "sns.heatmap(corrMatrix, annot=True)"
   ]
  },
  {
   "cell_type": "markdown",
   "id": "50bb535c",
   "metadata": {},
   "source": [
    "Есть сильная корреляция между TotalCharges и TotalDays, оставим в выборке только один из них.\n",
    "\n",
    "Так же уберем признак gender и Services."
   ]
  },
  {
   "cell_type": "code",
   "execution_count": 31,
   "id": "41a8513d",
   "metadata": {},
   "outputs": [],
   "source": [
    "interval_cols = ['MonthlyCharges', 'TotalCharges', 'TotalDays', 'Services']\n",
    "corr = data.phik_matrix(interval_cols=interval_cols)"
   ]
  },
  {
   "cell_type": "code",
   "execution_count": 32,
   "id": "577a50b6",
   "metadata": {},
   "outputs": [
    {
     "data": {
      "image/png": "[encoded data removed]",
      "text/plain": [
       "<Figure size 1080x1080 with 2 Axes>"
      ]
     },
     "metadata": {
      "needs_background": "light"
     },
     "output_type": "display_data"
    }
   ],
   "source": [
    "plt.figure(figsize=(15, 15))\n",
    "sns.heatmap(corr, annot=True);"
   ]
  },
  {
   "cell_type": "code",
   "execution_count": 33,
   "id": "4dabf37b",
   "metadata": {},
   "outputs": [],
   "source": [
    "data = data.drop(['gender','TotalCharges'], axis=1)"
   ]
  },
  {
   "cell_type": "markdown",
   "id": "5b508064",
   "metadata": {},
   "source": [
    "Разделим датасет на тренировочную и тестовые выборки:"
   ]
  },
  {
   "cell_type": "code",
   "execution_count": 34,
   "id": "972c5247",
   "metadata": {},
   "outputs": [],
   "source": [
    "train_df, test_df = train_test_split(data, test_size = 0.25, random_state = RND)"
   ]
  },
  {
   "cell_type": "code",
   "execution_count": 35,
   "id": "8a6b15e5",
   "metadata": {},
   "outputs": [],
   "source": [
    "features_train = train_df.drop('Target', axis = 1)\n",
    "features_test = test_df.drop('Target', axis = 1)\n",
    "\n",
    "target_train = train_df['Target']\n",
    "target_test = test_df['Target']"
   ]
  },
  {
   "cell_type": "code",
   "execution_count": 36,
   "id": "c751fc82",
   "metadata": {},
   "outputs": [],
   "source": [
    "cat_cols = ['Type','InternetService','MultipleLines','PaymentMethod','Dependents','Partner','StreamingMovies',\n",
    "            'StreamingTV','TechSupport','DeviceProtection','OnlineBackup','OnlineSecurity','PaperlessBilling']"
   ]
  },
  {
   "cell_type": "markdown",
   "id": "903cd757",
   "metadata": {},
   "source": [
    "# Вторая часть. Обучение моделей"
   ]
  },
  {
   "cell_type": "markdown",
   "id": "f7c0b152",
   "metadata": {},
   "source": [
    "Обучим несколько моделей для сравнения, возьмем catboost и LGBM."
   ]
  },
  {
   "cell_type": "markdown",
   "id": "60df96b7",
   "metadata": {},
   "source": [
    "#### CatBoostClassifier"
   ]
  },
  {
   "cell_type": "code",
   "execution_count": 37,
   "id": "3d8202fa",
   "metadata": {},
   "outputs": [],
   "source": [
    "def model_grid(model, parameters):\n",
    "\n",
    "    model_grid = GridSearchCV(model, parameters, cv=5, scoring='roc_auc', refit=True)\n",
    "    model_grid.fit(features_train, target_train)\n",
    "    return model_grid.best_score_, model_grid.best_params_, model_grid.best_estimator_"
   ]
  },
  {
   "cell_type": "code",
   "execution_count": 38,
   "id": "f98d3948",
   "metadata": {},
   "outputs": [
    {
     "data": {
      "text/plain": [
       "'CatBoostClassifier:'"
      ]
     },
     "metadata": {},
     "output_type": "display_data"
    },
    {
     "data": {
      "text/plain": [
       "{'iterations': 1000,\n",
       " 'learning_rate': 0.03,\n",
       " 'random_state': 311022,\n",
       " 'verbose': False}"
      ]
     },
     "metadata": {},
     "output_type": "display_data"
    },
    {
     "data": {
      "text/plain": [
       "'roc_auc:'"
      ]
     },
     "metadata": {},
     "output_type": "display_data"
    },
    {
     "data": {
      "text/plain": [
       "0.9163488895103125"
      ]
     },
     "metadata": {},
     "output_type": "display_data"
    },
    {
     "data": {
      "text/plain": [
       "'best_model_cat'"
      ]
     },
     "metadata": {},
     "output_type": "display_data"
    },
    {
     "data": {
      "text/plain": [
       "<catboost.core.CatBoostClassifier at 0x7fb9848d9c70>"
      ]
     },
     "metadata": {},
     "output_type": "display_data"
    },
    {
     "name": "stdout",
     "output_type": "stream",
     "text": [
      "CPU times: user 9min 16s, sys: 34.1 s, total: 9min 50s\n",
      "Wall time: 1min 51s\n"
     ]
    },
    {
     "data": {
      "text/plain": [
       "0.9901109807780736"
      ]
     },
     "execution_count": 38,
     "metadata": {},
     "output_type": "execute_result"
    }
   ],
   "source": [
    "%%time\n",
    "\n",
    "parameters = { 'iterations': [400,600,1000],\n",
    "               'learning_rate' : [0.01,0.03],\n",
    "               #'depth' : range(3,15,3),\n",
    "               'verbose' : [False], \n",
    "               'random_state': [RND]}\n",
    "model_cat = CatBoostClassifier(eval_metric='AUC',\n",
    "                               auto_class_weights='Balanced',\n",
    "                               grow_policy = 'Lossguide',\n",
    "                               cat_features=cat_cols)\n",
    "\n",
    "roc_auc, best_parameters, best_model_cat = model_grid(model_cat, parameters)\n",
    "\n",
    "display('CatBoostClassifier:', best_parameters)\n",
    "display('roc_auc:', roc_auc)\n",
    "display('best_model_cat', best_model_cat)\n",
    "\n",
    "catPrediction_Proba = best_model_cat.predict_proba(features_train)[:,1]\n",
    "cat_roc = roc_auc_score(target_train, catPrediction_Proba)\n",
    "cat_roc\n"
   ]
  },
  {
   "cell_type": "code",
   "execution_count": 39,
   "id": "f54642b5",
   "metadata": {},
   "outputs": [
    {
     "data": {
      "text/plain": [
       "<catboost.core.CatBoostClassifier at 0x7fb9848d9c70>"
      ]
     },
     "execution_count": 39,
     "metadata": {},
     "output_type": "execute_result"
    }
   ],
   "source": [
    "best_model_cat\n"
   ]
  },
  {
   "cell_type": "code",
   "execution_count": 40,
   "id": "a82f6081",
   "metadata": {},
   "outputs": [
    {
     "data": {
      "text/html": [
       "<div>\n",
       "<style scoped>\n",
       "    .dataframe tbody tr th:only-of-type {\n",
       "        vertical-align: middle;\n",
       "    }\n",
       "\n",
       "    .dataframe tbody tr th {\n",
       "        vertical-align: top;\n",
       "    }\n",
       "\n",
       "    .dataframe thead th {\n",
       "        text-align: right;\n",
       "    }\n",
       "</style>\n",
       "<table border=\"1\" class=\"dataframe\">\n",
       "  <thead>\n",
       "    <tr style=\"text-align: right;\">\n",
       "      <th></th>\n",
       "      <th>model</th>\n",
       "      <th>best_parameters</th>\n",
       "      <th>roc_auc</th>\n",
       "    </tr>\n",
       "  </thead>\n",
       "  <tbody>\n",
       "    <tr>\n",
       "      <th>0</th>\n",
       "      <td>CatBoostClassifier</td>\n",
       "      <td>{'iterations': 1000, 'learning_rate': 0.03, 'r...</td>\n",
       "      <td>0.916349</td>\n",
       "    </tr>\n",
       "  </tbody>\n",
       "</table>\n",
       "</div>"
      ],
      "text/plain": [
       "                model                                    best_parameters  \\\n",
       "0  CatBoostClassifier  {'iterations': 1000, 'learning_rate': 0.03, 'r...   \n",
       "\n",
       "    roc_auc  \n",
       "0  0.916349  "
      ]
     },
     "execution_count": 40,
     "metadata": {},
     "output_type": "execute_result"
    }
   ],
   "source": [
    "results = pd.DataFrame({'model':type(model_cat).__name__, 'best_parameters':[best_parameters], 'roc_auc':roc_auc})\n",
    "results"
   ]
  },
  {
   "cell_type": "markdown",
   "id": "a3d04074",
   "metadata": {},
   "source": [
    "#### LGBMClassifier"
   ]
  },
  {
   "cell_type": "code",
   "execution_count": 41,
   "id": "d82428a9",
   "metadata": {},
   "outputs": [],
   "source": [
    "for c in cat_cols:\n",
    "    features_train[c] = features_train[c].astype('category')"
   ]
  },
  {
   "cell_type": "code",
   "execution_count": 42,
   "id": "bb31e9ee",
   "metadata": {},
   "outputs": [
    {
     "data": {
      "text/plain": [
       "'LGBMClassifier:'"
      ]
     },
     "metadata": {},
     "output_type": "display_data"
    },
    {
     "data": {
      "text/plain": [
       "{'learning_rate': 0.2, 'n_estimators': 100, 'random_state': 311022}"
      ]
     },
     "metadata": {},
     "output_type": "display_data"
    },
    {
     "data": {
      "text/plain": [
       "'roc_auc:'"
      ]
     },
     "metadata": {},
     "output_type": "display_data"
    },
    {
     "data": {
      "text/plain": [
       "0.9057381992140744"
      ]
     },
     "metadata": {},
     "output_type": "display_data"
    },
    {
     "data": {
      "text/plain": [
       "'best_model_lgbm'"
      ]
     },
     "metadata": {},
     "output_type": "display_data"
    },
    {
     "data": {
      "text/plain": [
       "LGBMClassifier(class_weight='balanced', learning_rate=0.2, metric='auc',\n",
       "               min_child_samples=10, objective='binary', random_state=311022,\n",
       "               reg_alpha=0)"
      ]
     },
     "metadata": {},
     "output_type": "display_data"
    },
    {
     "name": "stdout",
     "output_type": "stream",
     "text": [
      "CPU times: user 1min 6s, sys: 3.15 s, total: 1min 9s\n",
      "Wall time: 11.4 s\n"
     ]
    }
   ],
   "source": [
    "%%time\n",
    "\n",
    "parameters = {'n_estimators': [100, 500],\n",
    "        'learning_rate':[x/10 for x in range(1, 3)],\n",
    "        'random_state' :[RND]     \n",
    "        }\n",
    "roc_auc, best_parameters, best_model_lgbm = model_grid(LGBMClassifier(class_weight='balanced',metric ='auc',min_child_samples = 10,\n",
    "                                                     objective='binary',reg_alpha = 0), parameters)\n",
    "display('LGBMClassifier:', best_parameters)\n",
    "display('roc_auc:', roc_auc)\n",
    "display('best_model_lgbm',best_model_lgbm)"
   ]
  },
  {
   "cell_type": "code",
   "execution_count": 43,
   "id": "e4422e8c",
   "metadata": {},
   "outputs": [
    {
     "data": {
      "text/plain": [
       "LGBMClassifier(class_weight='balanced', learning_rate=0.2, metric='auc',\n",
       "               min_child_samples=10, objective='binary', random_state=311022,\n",
       "               reg_alpha=0)"
      ]
     },
     "execution_count": 43,
     "metadata": {},
     "output_type": "execute_result"
    }
   ],
   "source": [
    "best_model_lgbm"
   ]
  },
  {
   "cell_type": "code",
   "execution_count": 44,
   "id": "f2d1204e",
   "metadata": {},
   "outputs": [
    {
     "data": {
      "text/html": [
       "<div>\n",
       "<style scoped>\n",
       "    .dataframe tbody tr th:only-of-type {\n",
       "        vertical-align: middle;\n",
       "    }\n",
       "\n",
       "    .dataframe tbody tr th {\n",
       "        vertical-align: top;\n",
       "    }\n",
       "\n",
       "    .dataframe thead th {\n",
       "        text-align: right;\n",
       "    }\n",
       "</style>\n",
       "<table border=\"1\" class=\"dataframe\">\n",
       "  <thead>\n",
       "    <tr style=\"text-align: right;\">\n",
       "      <th></th>\n",
       "      <th>model</th>\n",
       "      <th>best_parameters</th>\n",
       "      <th>roc_auc</th>\n",
       "    </tr>\n",
       "  </thead>\n",
       "  <tbody>\n",
       "    <tr>\n",
       "      <th>0</th>\n",
       "      <td>CatBoostClassifier</td>\n",
       "      <td>{'iterations': 1000, 'learning_rate': 0.03, 'r...</td>\n",
       "      <td>0.916349</td>\n",
       "    </tr>\n",
       "    <tr>\n",
       "      <th>1</th>\n",
       "      <td>LGBMClassifier</td>\n",
       "      <td>{'learning_rate': 0.2, 'n_estimators': 100, 'r...</td>\n",
       "      <td>0.905738</td>\n",
       "    </tr>\n",
       "  </tbody>\n",
       "</table>\n",
       "</div>"
      ],
      "text/plain": [
       "                model                                    best_parameters  \\\n",
       "0  CatBoostClassifier  {'iterations': 1000, 'learning_rate': 0.03, 'r...   \n",
       "1      LGBMClassifier  {'learning_rate': 0.2, 'n_estimators': 100, 'r...   \n",
       "\n",
       "    roc_auc  \n",
       "0  0.916349  \n",
       "1  0.905738  "
      ]
     },
     "execution_count": 44,
     "metadata": {},
     "output_type": "execute_result"
    }
   ],
   "source": [
    "results = results.append({'model':type(best_model_lgbm).__name__, 'best_parameters':best_parameters, 'roc_auc':roc_auc}, ignore_index=True)\n",
    "results"
   ]
  },
  {
   "cell_type": "markdown",
   "id": "a0fb7886",
   "metadata": {},
   "source": [
    "#### Тестирование"
   ]
  },
  {
   "cell_type": "code",
   "execution_count": 45,
   "id": "69fd86eb",
   "metadata": {},
   "outputs": [],
   "source": [
    "model_cat = CatBoostClassifier( iterations = 1000,\n",
    "                                random_state = RND,\n",
    "                                eval_metric='AUC',\n",
    "                                auto_class_weights='Balanced',\n",
    "                                grow_policy = 'Lossguide',\n",
    "                                verbose=False,\n",
    "                                cat_features=cat_cols,\n",
    "                                learning_rate = 0.03).fit(features_train,target_train)"
   ]
  },
  {
   "cell_type": "code",
   "execution_count": 46,
   "id": "2045dbe9",
   "metadata": {
    "scrolled": true
   },
   "outputs": [
    {
     "data": {
      "text/plain": [
       "<catboost.core.CatBoostClassifier at 0x7fb9848e7a90>"
      ]
     },
     "execution_count": 46,
     "metadata": {},
     "output_type": "execute_result"
    }
   ],
   "source": [
    "model_cat.fit(features_train, target_train)"
   ]
  },
  {
   "cell_type": "code",
   "execution_count": 47,
   "id": "853f65fa",
   "metadata": {},
   "outputs": [
    {
     "data": {
      "text/plain": [
       "0.9263894175061108"
      ]
     },
     "execution_count": 47,
     "metadata": {},
     "output_type": "execute_result"
    }
   ],
   "source": [
    "catPrediction_Proba = model_cat.predict_proba(features_test)[:,1]\n",
    "cat_roc = roc_auc_score(target_test, catPrediction_Proba)\n",
    "cat_roc"
   ]
  },
  {
   "cell_type": "code",
   "execution_count": 48,
   "id": "60149b11",
   "metadata": {},
   "outputs": [
    {
     "data": {
      "text/plain": [
       "0.8623435722411832"
      ]
     },
     "execution_count": 48,
     "metadata": {},
     "output_type": "execute_result"
    }
   ],
   "source": [
    "catPrediction = model_cat.predict(features_test)\n",
    "cat_accuracy = accuracy_score(target_test,catPrediction)\n",
    "cat_accuracy"
   ]
  },
  {
   "cell_type": "markdown",
   "id": "23fd83be",
   "metadata": {},
   "source": [
    "# Вывод"
   ]
  },
  {
   "cell_type": "markdown",
   "id": "a972dd6f",
   "metadata": {},
   "source": [
    "Исходные данные состояли из 4 таблиц с информацией о договоре (дата подключения, дата прекращения пользовани услугами, сумм затрат на ежемесячные платежи и общих сумм затрат клиента), персональных данных о клиентах, сведения об услугах интрернета, телефонии и доп. услугах. \n",
    "\n",
    "Цель исследования создать модель, которая на основании имеющихся даннных будет предсказывать уход клиента от компании. Целевой метрикой оценки точности предсказания модели считатется AUC-ROC\n",
    "\n",
    "В ходе работы над проектом придерживалась намеченного плана и было выполнено следующее:\n",
    "\n",
    "Внимательно изучила техническое задание, провёла первичный анализ.\n",
    "\n",
    "Полученные данные проанализированны:\n",
    "    \n",
    "- данные загружены;\n",
    "- в данных выявила недостатки, пути их решения и возможные причины их возникновения:\n",
    "  - Добавила признак продолжительность пользования услугами (вычтим из EndDate BeginDate) если нет даты, воспользуемся условием задачи \"Информация о договорах актуальна на 1 февраля 2020.\"\n",
    "  - У 11 клиентов отсутствуют значения в графе \"TotalCharges – всего потрачено денег на услуги\", это связано с тем что 1 день даты начала пользования услуги совпадает с последним днем днем в наших данных, видимо платеж еще не прошел. Думаю имеет смысл, просто удалить данные строки, учитывая что потеря данных составят менее 1%.\n",
    "  - Необходимо заменить тип данных в столбцах с датой.\n",
    "- проверила наличие дубликатов - они отсутствовали;\n",
    "\n",
    "По предобработке данных проведены следующие действия:\n",
    "\n",
    "- ввела несколько новых признаков для анализа\n",
    "  - целевой признак Target, указывающий на статус клиента\n",
    "  - TotalDays - количество дней пользования услугой\n",
    "  - Services - для анализа клиентов с точки зрения использования основных услуг, интернет/телефония/все вместе.  \n",
    "  - days_leave - для построения графиков \"количество дней до расторжения договора\"\n",
    "- все датасеты объединила в один датасет для удобства работы\n",
    "  - после обьединения появилось много пропусков, так как есть клиенты, которые пользуются разными наборами услуг, заменим эти значения на No, и только в MultipleLines на NA, чтобы осталось понимание сколько клиентов не пользуются телефонией.\n",
    "- исправила недостатки в данных, определенных на предыдущем этапе\n",
    "  - поменяла формат сталбцов с датами\n",
    "- исправлила найденые аномалий\n",
    "  - удалила 11 строк с пустыми значениями в поле TotalCharges (это новые абоненты, с датой подключения соответствующей дате выгрузки)\n",
    "  - удалила столбцы с датами, чтобы не произошла утечка\n",
    "  - использовала идентификаторы как индексы\n",
    "\n",
    "Исследовательский анализ данных:\n",
    "\n",
    "- Построены графики\n",
    "  - Рост клиентов по годам\n",
    "  - Отток клиентов по годам\n",
    "  - Количество дней до расторжения договора\n",
    "\n",
    "Вывод: В основном клиенты рассторгают договор в первый месяц использования. Информация для заказчика: может при подключение клиент получал, какой-нибудь бонус, получив его отключался, это то что надо изучить, но нужно больше данных.\n",
    "\n",
    "- Построены графики распределения количество пользоватей по различным признакам\n",
    "  - Портрет типичного пользователя: мужчина или женщина, не пенсионер, без иждевенцев, оплачивает услуги ежемесячно,предпочитает получать электронные чеки.\n",
    "- Построен график распределения целевого признака\n",
    "  - Изучив распределение ответов в целевом признаке, можем сделать вывод о дисбалансе классов (3 к 1), учтем это при обучении моделей\n",
    "- Построен график \"Распределение основных услуг (телефония/интернет/все вместе) по количеству клиентов всего/ушедших\n",
    "  - телефония очень качественная услуга, ведь из 1520 абонентов только телефонии ушли всего 113 клиентов, что составило всего 7%, в то время как абонентов использующих только интернет ушло 25%, самый большой отток в категории клиентов у которых был и интерент и телефония 33%\n",
    "- определила зависимости между различными признаками (провела графический анализ на мультиколлениарность)\n",
    "  - gender - коэффициент корреляции 0, от него ни чего не зависит, только увеличит время обучения\n",
    "  - Services, TotalCharges, TotalDays могли привести к мультиколлинеарности, удалила Services и TotalCharges\n",
    "\n",
    "Подготовка данных к расчету модели:\n",
    "\n",
    "- Данные разделила на две выборки: тренировочную и тестовую\n",
    "\n",
    "Моделирование:\n",
    "\n",
    "- Используя GridSearchCV обучила и подобрала оптимальные параметры для 2х моделей\n",
    "  - CatBoostClassifier\n",
    "  - LGBMClassifier\n",
    "- построила сводную таблицу моделей и полученных метрик;\n",
    "\n",
    "Тестирование модели:\n",
    "\n",
    "- Лучшую модель протестировала на тестовой выборке\n",
    "\n",
    "CatBoostClassifier - AUC-ROC = 0.9263\n",
    "\n",
    "- дополнительно вычислена метрика accuracy\n",
    "\n",
    "accuracy = 0.8623\n",
    "\n",
    "\n",
    "---\n",
    "\n",
    "Описание модели: алгоритм, метрики качества, гиперпараметры\n",
    "\n",
    "CatBoostClassifier \n",
    "- {'depth': 9, 'iterations': 1000, 'learning_rate': 0.03, 'random_state': 311022, 'verbose': False}\n",
    "- AUC-ROC = 0.9236\n",
    "- accuracy = 0.8623"
   ]
  },
  {
   "cell_type": "code",
   "execution_count": null,
   "id": "4417f0c1",
   "metadata": {},
   "outputs": [],
   "source": []
  }
 ],
 "metadata": {
  "ExecuteTimeLog": [
   {
    "duration": 391,
    "start_time": "2022-11-02T19:50:36.424Z"
   },
   {
    "duration": 25,
    "start_time": "2022-11-02T19:50:38.823Z"
   },
   {
    "duration": 394,
    "start_time": "2022-11-02T20:09:30.720Z"
   },
   {
    "duration": 33,
    "start_time": "2022-11-02T20:09:31.116Z"
   },
   {
    "duration": 70,
    "start_time": "2022-11-02T20:09:31.151Z"
   },
   {
    "duration": 377,
    "start_time": "2022-11-04T10:57:19.540Z"
   },
   {
    "duration": 177,
    "start_time": "2022-11-04T10:57:20.963Z"
   },
   {
    "duration": 34,
    "start_time": "2022-11-04T11:16:48.024Z"
   },
   {
    "duration": 440,
    "start_time": "2022-11-04T11:19:11.537Z"
   },
   {
    "duration": 140,
    "start_time": "2022-11-04T11:19:11.978Z"
   },
   {
    "duration": 0,
    "start_time": "2022-11-04T11:19:12.120Z"
   },
   {
    "duration": 0,
    "start_time": "2022-11-04T11:19:12.121Z"
   },
   {
    "duration": 0,
    "start_time": "2022-11-04T11:19:12.122Z"
   },
   {
    "duration": 51,
    "start_time": "2022-11-08T15:32:50.443Z"
   },
   {
    "duration": 1706,
    "start_time": "2022-11-08T15:33:01.550Z"
   },
   {
    "duration": 283,
    "start_time": "2022-11-08T15:33:03.259Z"
   },
   {
    "duration": 217,
    "start_time": "2022-11-08T15:33:03.544Z"
   },
   {
    "duration": 11,
    "start_time": "2022-11-08T15:33:03.763Z"
   },
   {
    "duration": 30,
    "start_time": "2022-11-08T15:33:03.798Z"
   },
   {
    "duration": 6,
    "start_time": "2022-11-08T15:33:07.340Z"
   },
   {
    "duration": 14,
    "start_time": "2022-11-08T15:33:08.543Z"
   },
   {
    "duration": 189,
    "start_time": "2022-11-08T15:33:17.239Z"
   },
   {
    "duration": 212,
    "start_time": "2022-11-08T15:33:41.394Z"
   },
   {
    "duration": 77,
    "start_time": "2022-11-08T15:35:23.349Z"
   },
   {
    "duration": 188,
    "start_time": "2022-11-08T15:38:01.887Z"
   },
   {
    "duration": 282,
    "start_time": "2022-11-08T15:38:15.452Z"
   },
   {
    "duration": 190,
    "start_time": "2022-11-08T15:38:22.758Z"
   },
   {
    "duration": 213,
    "start_time": "2022-11-08T15:39:07.148Z"
   },
   {
    "duration": 185,
    "start_time": "2022-11-08T15:39:21.232Z"
   },
   {
    "duration": 181,
    "start_time": "2022-11-08T15:39:33.644Z"
   },
   {
    "duration": 186,
    "start_time": "2022-11-08T15:39:42.736Z"
   },
   {
    "duration": 184,
    "start_time": "2022-11-08T15:39:47.319Z"
   },
   {
    "duration": 181,
    "start_time": "2022-11-08T15:40:27.436Z"
   },
   {
    "duration": 34,
    "start_time": "2022-11-08T15:42:00.455Z"
   },
   {
    "duration": 5,
    "start_time": "2022-11-08T15:42:14.393Z"
   },
   {
    "duration": 118,
    "start_time": "2022-11-08T15:42:14.790Z"
   },
   {
    "duration": 212,
    "start_time": "2022-11-08T15:42:15.703Z"
   },
   {
    "duration": 10,
    "start_time": "2022-11-08T15:42:16.629Z"
   },
   {
    "duration": 14,
    "start_time": "2022-11-08T15:42:16.823Z"
   },
   {
    "duration": 5,
    "start_time": "2022-11-08T15:42:21.477Z"
   },
   {
    "duration": 24,
    "start_time": "2022-11-08T15:42:22.339Z"
   },
   {
    "duration": 4,
    "start_time": "2022-11-08T15:42:57.868Z"
   },
   {
    "duration": 119,
    "start_time": "2022-11-08T15:42:58.215Z"
   },
   {
    "duration": 198,
    "start_time": "2022-11-08T15:42:59.072Z"
   },
   {
    "duration": 9,
    "start_time": "2022-11-08T15:43:00.408Z"
   },
   {
    "duration": 14,
    "start_time": "2022-11-08T15:43:01.075Z"
   },
   {
    "duration": 5,
    "start_time": "2022-11-08T15:43:07.331Z"
   },
   {
    "duration": 18,
    "start_time": "2022-11-08T15:43:09.058Z"
   },
   {
    "duration": 9,
    "start_time": "2022-11-08T15:43:20.467Z"
   },
   {
    "duration": 9,
    "start_time": "2022-11-08T15:44:23.393Z"
   },
   {
    "duration": 18,
    "start_time": "2022-11-08T15:48:02.121Z"
   },
   {
    "duration": 133,
    "start_time": "2022-11-08T15:53:39.596Z"
   },
   {
    "duration": 123,
    "start_time": "2022-11-08T15:55:19.848Z"
   },
   {
    "duration": 237,
    "start_time": "2022-11-08T15:56:08.732Z"
   },
   {
    "duration": 129,
    "start_time": "2022-11-08T15:56:19.643Z"
   },
   {
    "duration": 4,
    "start_time": "2022-11-08T15:56:28.451Z"
   },
   {
    "duration": 120,
    "start_time": "2022-11-08T15:56:28.835Z"
   },
   {
    "duration": 216,
    "start_time": "2022-11-08T15:56:29.639Z"
   },
   {
    "duration": 11,
    "start_time": "2022-11-08T15:56:30.394Z"
   },
   {
    "duration": 16,
    "start_time": "2022-11-08T15:56:30.548Z"
   },
   {
    "duration": 5,
    "start_time": "2022-11-08T15:56:33.906Z"
   },
   {
    "duration": 8,
    "start_time": "2022-11-08T15:56:34.440Z"
   },
   {
    "duration": 11,
    "start_time": "2022-11-08T15:56:35.604Z"
   },
   {
    "duration": 208,
    "start_time": "2022-11-08T15:56:40.167Z"
   },
   {
    "duration": 216,
    "start_time": "2022-11-08T15:56:42.290Z"
   },
   {
    "duration": 122,
    "start_time": "2022-11-08T15:56:43.529Z"
   },
   {
    "duration": 123,
    "start_time": "2022-11-08T15:57:08.991Z"
   },
   {
    "duration": 20,
    "start_time": "2022-11-08T15:57:20.956Z"
   },
   {
    "duration": 202,
    "start_time": "2022-11-08T15:58:40.188Z"
   },
   {
    "duration": 125,
    "start_time": "2022-11-08T15:58:53.193Z"
   },
   {
    "duration": 205,
    "start_time": "2022-11-08T15:59:01.899Z"
   },
   {
    "duration": 118,
    "start_time": "2022-11-08T16:02:08.341Z"
   },
   {
    "duration": 6,
    "start_time": "2022-11-08T16:02:25.222Z"
   },
   {
    "duration": 200,
    "start_time": "2022-11-08T16:02:30.707Z"
   },
   {
    "duration": 184,
    "start_time": "2022-11-08T16:03:31.679Z"
   },
   {
    "duration": 289,
    "start_time": "2022-11-08T16:03:56.412Z"
   },
   {
    "duration": 241,
    "start_time": "2022-11-08T16:09:30.447Z"
   },
   {
    "duration": 142,
    "start_time": "2022-11-08T16:11:43.692Z"
   },
   {
    "duration": 130,
    "start_time": "2022-11-08T16:11:58.258Z"
   },
   {
    "duration": 124,
    "start_time": "2022-11-08T16:12:10.612Z"
   },
   {
    "duration": 179,
    "start_time": "2022-11-08T16:16:04.853Z"
   },
   {
    "duration": 156,
    "start_time": "2022-11-08T16:17:23.987Z"
   },
   {
    "duration": 151,
    "start_time": "2022-11-08T16:17:34.895Z"
   },
   {
    "duration": 229,
    "start_time": "2022-11-08T16:17:47.836Z"
   },
   {
    "duration": 218,
    "start_time": "2022-11-08T16:17:59.012Z"
   },
   {
    "duration": 172,
    "start_time": "2022-11-08T16:18:08.627Z"
   },
   {
    "duration": 6,
    "start_time": "2022-11-08T16:34:19.367Z"
   },
   {
    "duration": 22,
    "start_time": "2022-11-08T16:34:19.709Z"
   },
   {
    "duration": 133,
    "start_time": "2022-11-08T16:34:20.178Z"
   },
   {
    "duration": 200,
    "start_time": "2022-11-08T16:34:20.491Z"
   },
   {
    "duration": 229,
    "start_time": "2022-11-08T16:34:21.230Z"
   },
   {
    "duration": 179,
    "start_time": "2022-11-08T16:34:21.922Z"
   },
   {
    "duration": 153,
    "start_time": "2022-11-08T16:34:22.103Z"
   },
   {
    "duration": 6,
    "start_time": "2022-11-08T16:34:25.632Z"
   },
   {
    "duration": 15,
    "start_time": "2022-11-08T16:34:26.197Z"
   },
   {
    "duration": 27,
    "start_time": "2022-11-08T16:34:28.047Z"
   },
   {
    "duration": 5,
    "start_time": "2022-11-08T16:34:29.398Z"
   },
   {
    "duration": 17,
    "start_time": "2022-11-08T16:34:30.665Z"
   },
   {
    "duration": 3,
    "start_time": "2022-11-08T16:34:32.804Z"
   },
   {
    "duration": 10,
    "start_time": "2022-11-08T16:34:33.529Z"
   },
   {
    "duration": 106,
    "start_time": "2022-11-08T16:34:36.202Z"
   },
   {
    "duration": 18,
    "start_time": "2022-11-08T16:34:42.859Z"
   },
   {
    "duration": 18,
    "start_time": "2022-11-08T16:34:59.760Z"
   },
   {
    "duration": 22,
    "start_time": "2022-11-08T16:35:01.569Z"
   },
   {
    "duration": 4,
    "start_time": "2022-11-08T16:35:03.791Z"
   },
   {
    "duration": 1236,
    "start_time": "2022-11-08T16:45:40.890Z"
   },
   {
    "duration": 18,
    "start_time": "2022-11-08T16:46:58.154Z"
   },
   {
    "duration": 5,
    "start_time": "2022-11-08T16:47:11.820Z"
   },
   {
    "duration": 6,
    "start_time": "2022-11-08T16:47:34.517Z"
   },
   {
    "duration": 10,
    "start_time": "2022-11-08T16:48:17.113Z"
   },
   {
    "duration": 10,
    "start_time": "2022-11-08T16:48:38.825Z"
   },
   {
    "duration": 7,
    "start_time": "2022-11-08T16:49:20.913Z"
   },
   {
    "duration": 9,
    "start_time": "2022-11-08T16:50:21.054Z"
   },
   {
    "duration": 12,
    "start_time": "2022-11-08T16:50:32.212Z"
   },
   {
    "duration": 83,
    "start_time": "2022-11-08T16:51:21.213Z"
   },
   {
    "duration": 5,
    "start_time": "2022-11-08T16:51:29.712Z"
   },
   {
    "duration": 5,
    "start_time": "2022-11-08T16:51:45.461Z"
   },
   {
    "duration": 6,
    "start_time": "2022-11-08T16:51:51.393Z"
   },
   {
    "duration": 5,
    "start_time": "2022-11-08T16:52:26.891Z"
   },
   {
    "duration": 4,
    "start_time": "2022-11-08T16:52:38.238Z"
   },
   {
    "duration": 4,
    "start_time": "2022-11-08T16:53:20.485Z"
   },
   {
    "duration": 8,
    "start_time": "2022-11-08T16:53:33.032Z"
   },
   {
    "duration": 542,
    "start_time": "2022-11-08T16:54:15.020Z"
   },
   {
    "duration": 2517,
    "start_time": "2022-11-08T16:57:01.997Z"
   },
   {
    "duration": 2250,
    "start_time": "2022-11-08T16:58:24.387Z"
   },
   {
    "duration": 1590,
    "start_time": "2022-11-08T20:33:11.793Z"
   },
   {
    "duration": 0,
    "start_time": "2022-11-08T20:33:13.386Z"
   },
   {
    "duration": 0,
    "start_time": "2022-11-08T20:33:13.387Z"
   },
   {
    "duration": 0,
    "start_time": "2022-11-08T20:33:13.389Z"
   },
   {
    "duration": 0,
    "start_time": "2022-11-08T20:33:13.390Z"
   },
   {
    "duration": 0,
    "start_time": "2022-11-08T20:33:13.390Z"
   },
   {
    "duration": 0,
    "start_time": "2022-11-08T20:33:13.391Z"
   },
   {
    "duration": 0,
    "start_time": "2022-11-08T20:33:13.392Z"
   },
   {
    "duration": 0,
    "start_time": "2022-11-08T20:33:13.393Z"
   },
   {
    "duration": 0,
    "start_time": "2022-11-08T20:33:13.394Z"
   },
   {
    "duration": 0,
    "start_time": "2022-11-08T20:33:13.395Z"
   },
   {
    "duration": 0,
    "start_time": "2022-11-08T20:33:13.396Z"
   },
   {
    "duration": 0,
    "start_time": "2022-11-08T20:33:13.397Z"
   },
   {
    "duration": 0,
    "start_time": "2022-11-08T20:33:13.397Z"
   },
   {
    "duration": 0,
    "start_time": "2022-11-08T20:33:13.398Z"
   },
   {
    "duration": 0,
    "start_time": "2022-11-08T20:33:13.399Z"
   },
   {
    "duration": 0,
    "start_time": "2022-11-08T20:33:13.425Z"
   },
   {
    "duration": 0,
    "start_time": "2022-11-08T20:33:13.426Z"
   },
   {
    "duration": 0,
    "start_time": "2022-11-08T20:33:13.427Z"
   },
   {
    "duration": 0,
    "start_time": "2022-11-08T20:33:13.429Z"
   },
   {
    "duration": 0,
    "start_time": "2022-11-08T20:33:13.430Z"
   },
   {
    "duration": 0,
    "start_time": "2022-11-08T20:33:13.431Z"
   },
   {
    "duration": 0,
    "start_time": "2022-11-08T20:33:13.432Z"
   },
   {
    "duration": 0,
    "start_time": "2022-11-08T20:33:13.433Z"
   },
   {
    "duration": 0,
    "start_time": "2022-11-08T20:33:13.434Z"
   },
   {
    "duration": 0,
    "start_time": "2022-11-08T20:33:13.435Z"
   },
   {
    "duration": 0,
    "start_time": "2022-11-08T20:33:13.436Z"
   },
   {
    "duration": 0,
    "start_time": "2022-11-08T20:33:13.437Z"
   },
   {
    "duration": 0,
    "start_time": "2022-11-08T20:33:13.438Z"
   },
   {
    "duration": 0,
    "start_time": "2022-11-08T20:33:13.439Z"
   },
   {
    "duration": 0,
    "start_time": "2022-11-08T20:33:13.440Z"
   },
   {
    "duration": 0,
    "start_time": "2022-11-08T20:33:13.441Z"
   },
   {
    "duration": 0,
    "start_time": "2022-11-08T20:33:13.442Z"
   },
   {
    "duration": 0,
    "start_time": "2022-11-08T20:33:13.443Z"
   },
   {
    "duration": 0,
    "start_time": "2022-11-08T20:33:13.444Z"
   },
   {
    "duration": 0,
    "start_time": "2022-11-08T20:33:13.446Z"
   },
   {
    "duration": 0,
    "start_time": "2022-11-08T20:33:13.447Z"
   },
   {
    "duration": 0,
    "start_time": "2022-11-08T20:33:13.449Z"
   },
   {
    "duration": 0,
    "start_time": "2022-11-08T20:33:13.450Z"
   },
   {
    "duration": 0,
    "start_time": "2022-11-08T20:33:13.452Z"
   },
   {
    "duration": 0,
    "start_time": "2022-11-08T20:33:13.453Z"
   },
   {
    "duration": 0,
    "start_time": "2022-11-08T20:33:13.455Z"
   },
   {
    "duration": 0,
    "start_time": "2022-11-08T20:33:13.456Z"
   },
   {
    "duration": 0,
    "start_time": "2022-11-08T20:33:13.458Z"
   },
   {
    "duration": 0,
    "start_time": "2022-11-08T20:33:13.459Z"
   },
   {
    "duration": 0,
    "start_time": "2022-11-08T20:33:13.460Z"
   },
   {
    "duration": 0,
    "start_time": "2022-11-08T20:33:13.462Z"
   },
   {
    "duration": 0,
    "start_time": "2022-11-08T20:33:13.463Z"
   },
   {
    "duration": 0,
    "start_time": "2022-11-08T20:33:13.525Z"
   },
   {
    "duration": 0,
    "start_time": "2022-11-08T20:33:13.527Z"
   },
   {
    "duration": 0,
    "start_time": "2022-11-08T20:33:13.528Z"
   },
   {
    "duration": 0,
    "start_time": "2022-11-08T20:33:13.529Z"
   },
   {
    "duration": 2835,
    "start_time": "2022-11-08T20:34:50.167Z"
   },
   {
    "duration": 1616,
    "start_time": "2022-11-08T20:35:28.674Z"
   },
   {
    "duration": 1616,
    "start_time": "2022-11-08T20:35:41.998Z"
   },
   {
    "duration": 280,
    "start_time": "2022-11-08T20:35:43.615Z"
   },
   {
    "duration": 197,
    "start_time": "2022-11-08T20:35:43.897Z"
   },
   {
    "duration": 31,
    "start_time": "2022-11-08T20:35:44.096Z"
   },
   {
    "duration": 16,
    "start_time": "2022-11-08T20:35:44.129Z"
   },
   {
    "duration": 6,
    "start_time": "2022-11-08T20:35:44.147Z"
   },
   {
    "duration": 12,
    "start_time": "2022-11-08T20:35:44.154Z"
   },
   {
    "duration": 11,
    "start_time": "2022-11-08T20:35:44.168Z"
   },
   {
    "duration": 183,
    "start_time": "2022-11-08T20:35:44.181Z"
   },
   {
    "duration": 186,
    "start_time": "2022-11-08T20:35:44.367Z"
   },
   {
    "duration": 158,
    "start_time": "2022-11-08T20:35:44.554Z"
   },
   {
    "duration": 133,
    "start_time": "2022-11-08T20:35:44.714Z"
   },
   {
    "duration": 4,
    "start_time": "2022-11-08T20:35:44.849Z"
   },
   {
    "duration": 15,
    "start_time": "2022-11-08T20:35:44.854Z"
   },
   {
    "duration": 22,
    "start_time": "2022-11-08T20:35:44.870Z"
   },
   {
    "duration": 3,
    "start_time": "2022-11-08T20:35:44.893Z"
   },
   {
    "duration": 29,
    "start_time": "2022-11-08T20:35:44.898Z"
   },
   {
    "duration": 5,
    "start_time": "2022-11-08T20:35:44.928Z"
   },
   {
    "duration": 18,
    "start_time": "2022-11-08T20:35:44.934Z"
   },
   {
    "duration": 15,
    "start_time": "2022-11-08T20:35:44.953Z"
   },
   {
    "duration": 17,
    "start_time": "2022-11-08T20:35:44.969Z"
   },
   {
    "duration": 5,
    "start_time": "2022-11-08T20:35:44.987Z"
   },
   {
    "duration": 2039,
    "start_time": "2022-11-08T20:35:44.993Z"
   },
   {
    "duration": 4,
    "start_time": "2022-11-08T20:35:47.034Z"
   },
   {
    "duration": 128,
    "start_time": "2022-11-08T20:35:47.039Z"
   },
   {
    "duration": 6,
    "start_time": "2022-11-08T20:35:47.168Z"
   },
   {
    "duration": 170,
    "start_time": "2022-11-08T20:35:47.176Z"
   },
   {
    "duration": 202,
    "start_time": "2022-11-08T20:35:47.349Z"
   },
   {
    "duration": 12,
    "start_time": "2022-11-08T20:35:47.553Z"
   },
   {
    "duration": 514,
    "start_time": "2022-11-08T20:35:47.567Z"
   },
   {
    "duration": 5,
    "start_time": "2022-11-08T20:35:48.082Z"
   },
   {
    "duration": 7,
    "start_time": "2022-11-08T20:35:48.088Z"
   },
   {
    "duration": 6,
    "start_time": "2022-11-08T20:35:48.097Z"
   },
   {
    "duration": 23,
    "start_time": "2022-11-08T20:35:48.104Z"
   },
   {
    "duration": 12,
    "start_time": "2022-11-08T20:35:48.129Z"
   },
   {
    "duration": 9,
    "start_time": "2022-11-08T20:35:48.143Z"
   },
   {
    "duration": 14362,
    "start_time": "2022-11-08T20:35:48.153Z"
   },
   {
    "duration": 11,
    "start_time": "2022-11-08T20:36:02.517Z"
   },
   {
    "duration": 0,
    "start_time": "2022-11-08T20:36:02.530Z"
   },
   {
    "duration": 0,
    "start_time": "2022-11-08T20:36:02.531Z"
   },
   {
    "duration": 0,
    "start_time": "2022-11-08T20:36:02.532Z"
   },
   {
    "duration": 0,
    "start_time": "2022-11-08T20:36:02.533Z"
   },
   {
    "duration": 0,
    "start_time": "2022-11-08T20:36:02.534Z"
   },
   {
    "duration": 0,
    "start_time": "2022-11-08T20:36:02.535Z"
   },
   {
    "duration": 0,
    "start_time": "2022-11-08T20:36:02.536Z"
   },
   {
    "duration": 0,
    "start_time": "2022-11-08T20:36:02.537Z"
   },
   {
    "duration": 0,
    "start_time": "2022-11-08T20:36:02.538Z"
   },
   {
    "duration": 0,
    "start_time": "2022-11-08T20:36:02.539Z"
   },
   {
    "duration": 0,
    "start_time": "2022-11-08T20:36:02.540Z"
   },
   {
    "duration": 0,
    "start_time": "2022-11-08T20:36:02.541Z"
   },
   {
    "duration": 0,
    "start_time": "2022-11-08T20:36:02.542Z"
   },
   {
    "duration": 0,
    "start_time": "2022-11-08T20:36:02.543Z"
   },
   {
    "duration": 1690,
    "start_time": "2022-11-08T20:37:17.345Z"
   },
   {
    "duration": 114,
    "start_time": "2022-11-08T20:37:19.037Z"
   },
   {
    "duration": 174,
    "start_time": "2022-11-08T20:37:19.152Z"
   },
   {
    "duration": 8,
    "start_time": "2022-11-08T20:37:19.328Z"
   },
   {
    "duration": 14,
    "start_time": "2022-11-08T20:37:19.338Z"
   },
   {
    "duration": 6,
    "start_time": "2022-11-08T20:37:19.354Z"
   },
   {
    "duration": 8,
    "start_time": "2022-11-08T20:37:19.362Z"
   },
   {
    "duration": 10,
    "start_time": "2022-11-08T20:37:19.372Z"
   },
   {
    "duration": 195,
    "start_time": "2022-11-08T20:37:19.383Z"
   },
   {
    "duration": 190,
    "start_time": "2022-11-08T20:37:19.581Z"
   },
   {
    "duration": 177,
    "start_time": "2022-11-08T20:37:19.772Z"
   },
   {
    "duration": 131,
    "start_time": "2022-11-08T20:37:19.950Z"
   },
   {
    "duration": 4,
    "start_time": "2022-11-08T20:37:20.083Z"
   },
   {
    "duration": 11,
    "start_time": "2022-11-08T20:37:20.088Z"
   },
   {
    "duration": 41,
    "start_time": "2022-11-08T20:37:20.101Z"
   },
   {
    "duration": 5,
    "start_time": "2022-11-08T20:37:20.143Z"
   },
   {
    "duration": 16,
    "start_time": "2022-11-08T20:37:20.149Z"
   },
   {
    "duration": 4,
    "start_time": "2022-11-08T20:37:20.166Z"
   },
   {
    "duration": 22,
    "start_time": "2022-11-08T20:37:20.171Z"
   },
   {
    "duration": 16,
    "start_time": "2022-11-08T20:37:20.194Z"
   },
   {
    "duration": 17,
    "start_time": "2022-11-08T20:37:20.226Z"
   },
   {
    "duration": 5,
    "start_time": "2022-11-08T20:37:20.245Z"
   },
   {
    "duration": 1933,
    "start_time": "2022-11-08T20:37:20.252Z"
   },
   {
    "duration": 4,
    "start_time": "2022-11-08T20:37:22.187Z"
   },
   {
    "duration": 133,
    "start_time": "2022-11-08T20:37:22.192Z"
   },
   {
    "duration": 6,
    "start_time": "2022-11-08T20:37:22.327Z"
   },
   {
    "duration": 204,
    "start_time": "2022-11-08T20:37:22.335Z"
   },
   {
    "duration": 198,
    "start_time": "2022-11-08T20:37:22.542Z"
   },
   {
    "duration": 171,
    "start_time": "2022-11-08T20:37:22.742Z"
   },
   {
    "duration": 0,
    "start_time": "2022-11-08T20:37:22.914Z"
   },
   {
    "duration": 0,
    "start_time": "2022-11-08T20:37:22.915Z"
   },
   {
    "duration": 0,
    "start_time": "2022-11-08T20:37:22.917Z"
   },
   {
    "duration": 0,
    "start_time": "2022-11-08T20:37:22.925Z"
   },
   {
    "duration": 0,
    "start_time": "2022-11-08T20:37:22.926Z"
   },
   {
    "duration": 0,
    "start_time": "2022-11-08T20:37:22.927Z"
   },
   {
    "duration": 0,
    "start_time": "2022-11-08T20:37:22.928Z"
   },
   {
    "duration": 0,
    "start_time": "2022-11-08T20:37:22.930Z"
   },
   {
    "duration": 0,
    "start_time": "2022-11-08T20:37:22.931Z"
   },
   {
    "duration": 0,
    "start_time": "2022-11-08T20:37:22.931Z"
   },
   {
    "duration": 0,
    "start_time": "2022-11-08T20:37:22.932Z"
   },
   {
    "duration": 0,
    "start_time": "2022-11-08T20:37:22.933Z"
   },
   {
    "duration": 0,
    "start_time": "2022-11-08T20:37:22.934Z"
   },
   {
    "duration": 0,
    "start_time": "2022-11-08T20:37:22.935Z"
   },
   {
    "duration": 0,
    "start_time": "2022-11-08T20:37:22.936Z"
   },
   {
    "duration": 0,
    "start_time": "2022-11-08T20:37:22.937Z"
   },
   {
    "duration": 0,
    "start_time": "2022-11-08T20:37:22.938Z"
   },
   {
    "duration": 0,
    "start_time": "2022-11-08T20:37:22.939Z"
   },
   {
    "duration": 0,
    "start_time": "2022-11-08T20:37:22.940Z"
   },
   {
    "duration": 0,
    "start_time": "2022-11-08T20:37:22.941Z"
   },
   {
    "duration": 0,
    "start_time": "2022-11-08T20:37:22.941Z"
   },
   {
    "duration": 0,
    "start_time": "2022-11-08T20:37:22.942Z"
   },
   {
    "duration": 0,
    "start_time": "2022-11-08T20:37:22.943Z"
   },
   {
    "duration": 0,
    "start_time": "2022-11-08T20:37:22.944Z"
   },
   {
    "duration": 31,
    "start_time": "2022-11-08T20:37:51.697Z"
   },
   {
    "duration": 17,
    "start_time": "2022-11-08T20:38:53.080Z"
   },
   {
    "duration": 1594,
    "start_time": "2022-11-08T20:39:02.921Z"
   },
   {
    "duration": 116,
    "start_time": "2022-11-08T20:39:04.517Z"
   },
   {
    "duration": 169,
    "start_time": "2022-11-08T20:39:04.635Z"
   },
   {
    "duration": 25,
    "start_time": "2022-11-08T20:39:04.806Z"
   },
   {
    "duration": 13,
    "start_time": "2022-11-08T20:39:04.833Z"
   },
   {
    "duration": 8,
    "start_time": "2022-11-08T20:39:04.847Z"
   },
   {
    "duration": 8,
    "start_time": "2022-11-08T20:39:04.857Z"
   },
   {
    "duration": 10,
    "start_time": "2022-11-08T20:39:04.867Z"
   },
   {
    "duration": 193,
    "start_time": "2022-11-08T20:39:04.878Z"
   },
   {
    "duration": 193,
    "start_time": "2022-11-08T20:39:05.074Z"
   },
   {
    "duration": 159,
    "start_time": "2022-11-08T20:39:05.269Z"
   },
   {
    "duration": 133,
    "start_time": "2022-11-08T20:39:05.429Z"
   },
   {
    "duration": 7,
    "start_time": "2022-11-08T20:39:05.563Z"
   },
   {
    "duration": 24,
    "start_time": "2022-11-08T20:39:05.572Z"
   },
   {
    "duration": 47,
    "start_time": "2022-11-08T20:39:05.598Z"
   },
   {
    "duration": 7,
    "start_time": "2022-11-08T20:39:05.648Z"
   },
   {
    "duration": 20,
    "start_time": "2022-11-08T20:39:05.657Z"
   },
   {
    "duration": 9,
    "start_time": "2022-11-08T20:39:05.679Z"
   },
   {
    "duration": 21,
    "start_time": "2022-11-08T20:39:05.690Z"
   },
   {
    "duration": 27,
    "start_time": "2022-11-08T20:39:05.713Z"
   },
   {
    "duration": 23,
    "start_time": "2022-11-08T20:39:05.742Z"
   },
   {
    "duration": 8,
    "start_time": "2022-11-08T20:39:05.767Z"
   },
   {
    "duration": 1902,
    "start_time": "2022-11-08T20:39:05.777Z"
   },
   {
    "duration": 2,
    "start_time": "2022-11-08T20:39:07.681Z"
   },
   {
    "duration": 149,
    "start_time": "2022-11-08T20:39:07.685Z"
   },
   {
    "duration": 6,
    "start_time": "2022-11-08T20:39:07.835Z"
   },
   {
    "duration": 192,
    "start_time": "2022-11-08T20:39:07.842Z"
   },
   {
    "duration": 201,
    "start_time": "2022-11-08T20:39:08.037Z"
   },
   {
    "duration": 24,
    "start_time": "2022-11-08T20:39:08.240Z"
   },
   {
    "duration": 12191,
    "start_time": "2022-11-08T20:39:08.265Z"
   },
   {
    "duration": 3,
    "start_time": "2022-11-08T20:39:20.458Z"
   },
   {
    "duration": 458,
    "start_time": "2022-11-08T20:39:20.463Z"
   },
   {
    "duration": 7,
    "start_time": "2022-11-08T20:39:20.922Z"
   },
   {
    "duration": 11,
    "start_time": "2022-11-08T20:39:20.930Z"
   },
   {
    "duration": 6,
    "start_time": "2022-11-08T20:39:20.942Z"
   },
   {
    "duration": 6,
    "start_time": "2022-11-08T20:39:20.949Z"
   },
   {
    "duration": 5,
    "start_time": "2022-11-08T20:39:20.957Z"
   },
   {
    "duration": 6,
    "start_time": "2022-11-08T20:39:20.963Z"
   },
   {
    "duration": 68035,
    "start_time": "2022-11-08T20:39:20.970Z"
   },
   {
    "duration": 11,
    "start_time": "2022-11-08T20:40:29.007Z"
   },
   {
    "duration": 0,
    "start_time": "2022-11-08T20:40:29.020Z"
   },
   {
    "duration": 0,
    "start_time": "2022-11-08T20:40:29.021Z"
   },
   {
    "duration": 0,
    "start_time": "2022-11-08T20:40:29.022Z"
   },
   {
    "duration": 0,
    "start_time": "2022-11-08T20:40:29.023Z"
   },
   {
    "duration": 0,
    "start_time": "2022-11-08T20:40:29.024Z"
   },
   {
    "duration": 0,
    "start_time": "2022-11-08T20:40:29.025Z"
   },
   {
    "duration": 0,
    "start_time": "2022-11-08T20:40:29.026Z"
   },
   {
    "duration": 0,
    "start_time": "2022-11-08T20:40:29.027Z"
   },
   {
    "duration": 0,
    "start_time": "2022-11-08T20:40:29.028Z"
   },
   {
    "duration": 0,
    "start_time": "2022-11-08T20:40:29.029Z"
   },
   {
    "duration": 0,
    "start_time": "2022-11-08T20:40:29.030Z"
   },
   {
    "duration": 0,
    "start_time": "2022-11-08T20:40:29.031Z"
   },
   {
    "duration": 0,
    "start_time": "2022-11-08T20:40:29.032Z"
   },
   {
    "duration": 0,
    "start_time": "2022-11-08T20:40:29.033Z"
   },
   {
    "duration": 0,
    "start_time": "2022-11-08T20:40:29.034Z"
   },
   {
    "duration": 0,
    "start_time": "2022-11-08T20:40:29.035Z"
   },
   {
    "duration": 2277,
    "start_time": "2022-11-08T20:40:35.978Z"
   },
   {
    "duration": 548,
    "start_time": "2022-11-08T20:40:45.394Z"
   },
   {
    "duration": 1583,
    "start_time": "2022-11-08T20:42:22.641Z"
   },
   {
    "duration": 114,
    "start_time": "2022-11-08T20:42:24.226Z"
   },
   {
    "duration": 159,
    "start_time": "2022-11-08T20:42:24.342Z"
   },
   {
    "duration": 24,
    "start_time": "2022-11-08T20:42:24.502Z"
   },
   {
    "duration": 11,
    "start_time": "2022-11-08T20:42:24.528Z"
   },
   {
    "duration": 7,
    "start_time": "2022-11-08T20:42:24.541Z"
   },
   {
    "duration": 11,
    "start_time": "2022-11-08T20:42:24.549Z"
   },
   {
    "duration": 12,
    "start_time": "2022-11-08T20:42:24.561Z"
   },
   {
    "duration": 187,
    "start_time": "2022-11-08T20:42:24.574Z"
   },
   {
    "duration": 189,
    "start_time": "2022-11-08T20:42:24.763Z"
   },
   {
    "duration": 157,
    "start_time": "2022-11-08T20:42:24.954Z"
   },
   {
    "duration": 134,
    "start_time": "2022-11-08T20:42:25.113Z"
   },
   {
    "duration": 4,
    "start_time": "2022-11-08T20:42:25.249Z"
   },
   {
    "duration": 12,
    "start_time": "2022-11-08T20:42:25.255Z"
   },
   {
    "duration": 23,
    "start_time": "2022-11-08T20:42:25.268Z"
   },
   {
    "duration": 5,
    "start_time": "2022-11-08T20:42:25.292Z"
   },
   {
    "duration": 38,
    "start_time": "2022-11-08T20:42:25.298Z"
   },
   {
    "duration": 4,
    "start_time": "2022-11-08T20:42:25.338Z"
   },
   {
    "duration": 14,
    "start_time": "2022-11-08T20:42:25.343Z"
   },
   {
    "duration": 15,
    "start_time": "2022-11-08T20:42:25.359Z"
   },
   {
    "duration": 16,
    "start_time": "2022-11-08T20:42:25.375Z"
   },
   {
    "duration": 22,
    "start_time": "2022-11-08T20:42:25.392Z"
   },
   {
    "duration": 2059,
    "start_time": "2022-11-08T20:42:25.416Z"
   },
   {
    "duration": 3,
    "start_time": "2022-11-08T20:42:27.477Z"
   },
   {
    "duration": 132,
    "start_time": "2022-11-08T20:42:27.481Z"
   },
   {
    "duration": 13,
    "start_time": "2022-11-08T20:42:27.615Z"
   },
   {
    "duration": 199,
    "start_time": "2022-11-08T20:42:27.629Z"
   },
   {
    "duration": 211,
    "start_time": "2022-11-08T20:42:27.832Z"
   },
   {
    "duration": 30,
    "start_time": "2022-11-08T20:42:28.045Z"
   },
   {
    "duration": 12188,
    "start_time": "2022-11-08T20:42:28.077Z"
   },
   {
    "duration": 646,
    "start_time": "2022-11-08T20:42:40.267Z"
   },
   {
    "duration": 2,
    "start_time": "2022-11-08T20:42:40.915Z"
   },
   {
    "duration": 348,
    "start_time": "2022-11-08T20:42:40.925Z"
   },
   {
    "duration": 4,
    "start_time": "2022-11-08T20:42:41.275Z"
   },
   {
    "duration": 8,
    "start_time": "2022-11-08T20:42:41.280Z"
   },
   {
    "duration": 5,
    "start_time": "2022-11-08T20:42:41.289Z"
   },
   {
    "duration": 8,
    "start_time": "2022-11-08T20:42:41.296Z"
   },
   {
    "duration": 4,
    "start_time": "2022-11-08T20:42:41.305Z"
   },
   {
    "duration": 17,
    "start_time": "2022-11-08T20:42:41.310Z"
   },
   {
    "duration": 7245,
    "start_time": "2022-11-08T20:42:41.328Z"
   },
   {
    "duration": 11,
    "start_time": "2022-11-08T20:42:48.575Z"
   },
   {
    "duration": 0,
    "start_time": "2022-11-08T20:42:48.587Z"
   },
   {
    "duration": 0,
    "start_time": "2022-11-08T20:42:48.589Z"
   },
   {
    "duration": 0,
    "start_time": "2022-11-08T20:42:48.590Z"
   },
   {
    "duration": 0,
    "start_time": "2022-11-08T20:42:48.591Z"
   },
   {
    "duration": 0,
    "start_time": "2022-11-08T20:42:48.592Z"
   },
   {
    "duration": 0,
    "start_time": "2022-11-08T20:42:48.594Z"
   },
   {
    "duration": 0,
    "start_time": "2022-11-08T20:42:48.595Z"
   },
   {
    "duration": 0,
    "start_time": "2022-11-08T20:42:48.596Z"
   },
   {
    "duration": 0,
    "start_time": "2022-11-08T20:42:48.597Z"
   },
   {
    "duration": 0,
    "start_time": "2022-11-08T20:42:48.598Z"
   },
   {
    "duration": 0,
    "start_time": "2022-11-08T20:42:48.599Z"
   },
   {
    "duration": 0,
    "start_time": "2022-11-08T20:42:48.601Z"
   },
   {
    "duration": 0,
    "start_time": "2022-11-08T20:42:48.601Z"
   },
   {
    "duration": 0,
    "start_time": "2022-11-08T20:42:48.603Z"
   },
   {
    "duration": 1603,
    "start_time": "2022-11-08T20:43:22.101Z"
   },
   {
    "duration": 112,
    "start_time": "2022-11-08T20:43:23.706Z"
   },
   {
    "duration": 179,
    "start_time": "2022-11-08T20:43:23.820Z"
   },
   {
    "duration": 27,
    "start_time": "2022-11-08T20:43:24.000Z"
   },
   {
    "duration": 12,
    "start_time": "2022-11-08T20:43:24.029Z"
   },
   {
    "duration": 7,
    "start_time": "2022-11-08T20:43:24.042Z"
   },
   {
    "duration": 10,
    "start_time": "2022-11-08T20:43:24.051Z"
   },
   {
    "duration": 11,
    "start_time": "2022-11-08T20:43:24.062Z"
   },
   {
    "duration": 187,
    "start_time": "2022-11-08T20:43:24.074Z"
   },
   {
    "duration": 190,
    "start_time": "2022-11-08T20:43:24.263Z"
   },
   {
    "duration": 158,
    "start_time": "2022-11-08T20:43:24.454Z"
   },
   {
    "duration": 136,
    "start_time": "2022-11-08T20:43:24.614Z"
   },
   {
    "duration": 6,
    "start_time": "2022-11-08T20:43:24.752Z"
   },
   {
    "duration": 12,
    "start_time": "2022-11-08T20:43:24.759Z"
   },
   {
    "duration": 22,
    "start_time": "2022-11-08T20:43:24.772Z"
   },
   {
    "duration": 4,
    "start_time": "2022-11-08T20:43:24.796Z"
   },
   {
    "duration": 15,
    "start_time": "2022-11-08T20:43:24.826Z"
   },
   {
    "duration": 4,
    "start_time": "2022-11-08T20:43:24.843Z"
   },
   {
    "duration": 16,
    "start_time": "2022-11-08T20:43:24.848Z"
   },
   {
    "duration": 16,
    "start_time": "2022-11-08T20:43:24.865Z"
   },
   {
    "duration": 44,
    "start_time": "2022-11-08T20:43:24.883Z"
   },
   {
    "duration": 5,
    "start_time": "2022-11-08T20:43:24.929Z"
   },
   {
    "duration": 2004,
    "start_time": "2022-11-08T20:43:24.936Z"
   },
   {
    "duration": 3,
    "start_time": "2022-11-08T20:43:26.941Z"
   },
   {
    "duration": 134,
    "start_time": "2022-11-08T20:43:26.945Z"
   },
   {
    "duration": 7,
    "start_time": "2022-11-08T20:43:27.080Z"
   },
   {
    "duration": 165,
    "start_time": "2022-11-08T20:43:27.088Z"
   },
   {
    "duration": 217,
    "start_time": "2022-11-08T20:43:27.327Z"
   },
   {
    "duration": 23,
    "start_time": "2022-11-08T20:43:27.546Z"
   },
   {
    "duration": 12437,
    "start_time": "2022-11-08T20:43:27.570Z"
   },
   {
    "duration": 0,
    "start_time": "2022-11-08T20:43:40.009Z"
   },
   {
    "duration": 0,
    "start_time": "2022-11-08T20:43:40.010Z"
   },
   {
    "duration": 0,
    "start_time": "2022-11-08T20:43:40.012Z"
   },
   {
    "duration": 0,
    "start_time": "2022-11-08T20:43:40.013Z"
   },
   {
    "duration": 0,
    "start_time": "2022-11-08T20:43:40.026Z"
   },
   {
    "duration": 0,
    "start_time": "2022-11-08T20:43:40.027Z"
   },
   {
    "duration": 0,
    "start_time": "2022-11-08T20:43:40.028Z"
   },
   {
    "duration": 0,
    "start_time": "2022-11-08T20:43:40.029Z"
   },
   {
    "duration": 0,
    "start_time": "2022-11-08T20:43:40.031Z"
   },
   {
    "duration": 0,
    "start_time": "2022-11-08T20:43:40.032Z"
   },
   {
    "duration": 0,
    "start_time": "2022-11-08T20:43:40.033Z"
   },
   {
    "duration": 0,
    "start_time": "2022-11-08T20:43:40.034Z"
   },
   {
    "duration": 1,
    "start_time": "2022-11-08T20:43:40.034Z"
   },
   {
    "duration": 0,
    "start_time": "2022-11-08T20:43:40.035Z"
   },
   {
    "duration": 0,
    "start_time": "2022-11-08T20:43:40.036Z"
   },
   {
    "duration": 0,
    "start_time": "2022-11-08T20:43:40.038Z"
   },
   {
    "duration": 0,
    "start_time": "2022-11-08T20:43:40.039Z"
   },
   {
    "duration": 0,
    "start_time": "2022-11-08T20:43:40.040Z"
   },
   {
    "duration": 0,
    "start_time": "2022-11-08T20:43:40.041Z"
   },
   {
    "duration": 0,
    "start_time": "2022-11-08T20:43:40.042Z"
   },
   {
    "duration": 0,
    "start_time": "2022-11-08T20:43:40.043Z"
   },
   {
    "duration": 0,
    "start_time": "2022-11-08T20:43:40.044Z"
   },
   {
    "duration": 0,
    "start_time": "2022-11-08T20:43:40.045Z"
   },
   {
    "duration": 0,
    "start_time": "2022-11-08T20:43:40.046Z"
   },
   {
    "duration": 0,
    "start_time": "2022-11-08T20:43:40.047Z"
   },
   {
    "duration": 12044,
    "start_time": "2022-11-08T20:43:43.396Z"
   },
   {
    "duration": 74,
    "start_time": "2022-11-08T20:43:55.442Z"
   },
   {
    "duration": 2315,
    "start_time": "2022-11-08T20:44:10.769Z"
   },
   {
    "duration": 2225,
    "start_time": "2022-11-08T20:44:18.230Z"
   },
   {
    "duration": 2724,
    "start_time": "2022-11-08T20:46:36.519Z"
   },
   {
    "duration": 47,
    "start_time": "2022-11-09T13:47:39.880Z"
   },
   {
    "duration": 1699,
    "start_time": "2022-11-09T13:47:48.900Z"
   },
   {
    "duration": 0,
    "start_time": "2022-11-09T13:47:50.602Z"
   },
   {
    "duration": 0,
    "start_time": "2022-11-09T13:47:50.603Z"
   },
   {
    "duration": 0,
    "start_time": "2022-11-09T13:47:50.605Z"
   },
   {
    "duration": 0,
    "start_time": "2022-11-09T13:47:50.606Z"
   },
   {
    "duration": 0,
    "start_time": "2022-11-09T13:47:50.608Z"
   },
   {
    "duration": 0,
    "start_time": "2022-11-09T13:47:50.609Z"
   },
   {
    "duration": 0,
    "start_time": "2022-11-09T13:47:50.610Z"
   },
   {
    "duration": 0,
    "start_time": "2022-11-09T13:47:50.612Z"
   },
   {
    "duration": 1,
    "start_time": "2022-11-09T13:47:50.613Z"
   },
   {
    "duration": 0,
    "start_time": "2022-11-09T13:47:50.615Z"
   },
   {
    "duration": 0,
    "start_time": "2022-11-09T13:47:50.617Z"
   },
   {
    "duration": 0,
    "start_time": "2022-11-09T13:47:50.618Z"
   },
   {
    "duration": 0,
    "start_time": "2022-11-09T13:47:50.619Z"
   },
   {
    "duration": 0,
    "start_time": "2022-11-09T13:47:50.620Z"
   },
   {
    "duration": 0,
    "start_time": "2022-11-09T13:47:50.622Z"
   },
   {
    "duration": 0,
    "start_time": "2022-11-09T13:47:50.623Z"
   },
   {
    "duration": 0,
    "start_time": "2022-11-09T13:47:50.625Z"
   },
   {
    "duration": 0,
    "start_time": "2022-11-09T13:47:50.626Z"
   },
   {
    "duration": 0,
    "start_time": "2022-11-09T13:47:50.628Z"
   },
   {
    "duration": 0,
    "start_time": "2022-11-09T13:47:50.630Z"
   },
   {
    "duration": 0,
    "start_time": "2022-11-09T13:47:50.631Z"
   },
   {
    "duration": 0,
    "start_time": "2022-11-09T13:47:50.681Z"
   },
   {
    "duration": 0,
    "start_time": "2022-11-09T13:47:50.682Z"
   },
   {
    "duration": 0,
    "start_time": "2022-11-09T13:47:50.683Z"
   },
   {
    "duration": 0,
    "start_time": "2022-11-09T13:47:50.684Z"
   },
   {
    "duration": 0,
    "start_time": "2022-11-09T13:47:50.686Z"
   },
   {
    "duration": 0,
    "start_time": "2022-11-09T13:47:50.688Z"
   },
   {
    "duration": 0,
    "start_time": "2022-11-09T13:47:50.690Z"
   },
   {
    "duration": 0,
    "start_time": "2022-11-09T13:47:50.692Z"
   },
   {
    "duration": 0,
    "start_time": "2022-11-09T13:47:50.693Z"
   },
   {
    "duration": 0,
    "start_time": "2022-11-09T13:47:50.695Z"
   },
   {
    "duration": 0,
    "start_time": "2022-11-09T13:47:50.697Z"
   },
   {
    "duration": 0,
    "start_time": "2022-11-09T13:47:50.697Z"
   },
   {
    "duration": 0,
    "start_time": "2022-11-09T13:47:50.698Z"
   },
   {
    "duration": 0,
    "start_time": "2022-11-09T13:47:50.699Z"
   },
   {
    "duration": 0,
    "start_time": "2022-11-09T13:47:50.699Z"
   },
   {
    "duration": 0,
    "start_time": "2022-11-09T13:47:50.702Z"
   },
   {
    "duration": 0,
    "start_time": "2022-11-09T13:47:50.703Z"
   },
   {
    "duration": 0,
    "start_time": "2022-11-09T13:47:50.704Z"
   },
   {
    "duration": 0,
    "start_time": "2022-11-09T13:47:50.705Z"
   },
   {
    "duration": 0,
    "start_time": "2022-11-09T13:47:50.706Z"
   },
   {
    "duration": 0,
    "start_time": "2022-11-09T13:47:50.708Z"
   },
   {
    "duration": 0,
    "start_time": "2022-11-09T13:47:50.709Z"
   },
   {
    "duration": 0,
    "start_time": "2022-11-09T13:47:50.710Z"
   },
   {
    "duration": 0,
    "start_time": "2022-11-09T13:47:50.711Z"
   },
   {
    "duration": 0,
    "start_time": "2022-11-09T13:47:50.712Z"
   },
   {
    "duration": 0,
    "start_time": "2022-11-09T13:47:50.714Z"
   },
   {
    "duration": 0,
    "start_time": "2022-11-09T13:47:50.716Z"
   },
   {
    "duration": 0,
    "start_time": "2022-11-09T13:47:50.717Z"
   },
   {
    "duration": 0,
    "start_time": "2022-11-09T13:47:50.718Z"
   },
   {
    "duration": 0,
    "start_time": "2022-11-09T13:47:50.779Z"
   },
   {
    "duration": 0,
    "start_time": "2022-11-09T13:47:50.780Z"
   },
   {
    "duration": 0,
    "start_time": "2022-11-09T13:47:50.781Z"
   },
   {
    "duration": 0,
    "start_time": "2022-11-09T13:47:50.782Z"
   },
   {
    "duration": 3002,
    "start_time": "2022-11-09T13:49:31.009Z"
   },
   {
    "duration": 2309,
    "start_time": "2022-11-09T13:49:41.190Z"
   },
   {
    "duration": 1326,
    "start_time": "2022-11-09T13:49:43.501Z"
   },
   {
    "duration": 372,
    "start_time": "2022-11-09T13:49:44.828Z"
   },
   {
    "duration": 212,
    "start_time": "2022-11-09T13:49:45.203Z"
   },
   {
    "duration": 10,
    "start_time": "2022-11-09T13:49:45.417Z"
   },
   {
    "duration": 26,
    "start_time": "2022-11-09T13:49:45.429Z"
   },
   {
    "duration": 25,
    "start_time": "2022-11-09T13:49:45.457Z"
   },
   {
    "duration": 12,
    "start_time": "2022-11-09T13:49:45.483Z"
   },
   {
    "duration": 17,
    "start_time": "2022-11-09T13:49:45.497Z"
   },
   {
    "duration": 195,
    "start_time": "2022-11-09T13:49:45.517Z"
   },
   {
    "duration": 213,
    "start_time": "2022-11-09T13:49:45.714Z"
   },
   {
    "duration": 170,
    "start_time": "2022-11-09T13:49:45.929Z"
   },
   {
    "duration": 158,
    "start_time": "2022-11-09T13:49:46.101Z"
   },
   {
    "duration": 5,
    "start_time": "2022-11-09T13:49:46.261Z"
   },
   {
    "duration": 18,
    "start_time": "2022-11-09T13:49:46.267Z"
   },
   {
    "duration": 32,
    "start_time": "2022-11-09T13:49:46.287Z"
   },
   {
    "duration": 4,
    "start_time": "2022-11-09T13:49:46.322Z"
   },
   {
    "duration": 28,
    "start_time": "2022-11-09T13:49:46.328Z"
   },
   {
    "duration": 19,
    "start_time": "2022-11-09T13:49:46.357Z"
   },
   {
    "duration": 24,
    "start_time": "2022-11-09T13:49:46.379Z"
   },
   {
    "duration": 96,
    "start_time": "2022-11-09T13:49:46.404Z"
   },
   {
    "duration": 16,
    "start_time": "2022-11-09T13:49:46.501Z"
   },
   {
    "duration": 4,
    "start_time": "2022-11-09T13:49:46.519Z"
   },
   {
    "duration": 2054,
    "start_time": "2022-11-09T13:49:46.525Z"
   },
   {
    "duration": 3,
    "start_time": "2022-11-09T13:49:48.580Z"
   },
   {
    "duration": 155,
    "start_time": "2022-11-09T13:49:48.585Z"
   },
   {
    "duration": 6,
    "start_time": "2022-11-09T13:49:48.742Z"
   },
   {
    "duration": 328,
    "start_time": "2022-11-09T13:49:48.752Z"
   },
   {
    "duration": 224,
    "start_time": "2022-11-09T13:49:49.081Z"
   },
   {
    "duration": 25,
    "start_time": "2022-11-09T13:49:49.307Z"
   },
   {
    "duration": 2,
    "start_time": "2022-11-09T13:49:49.334Z"
   },
   {
    "duration": 591,
    "start_time": "2022-11-09T13:49:49.338Z"
   },
   {
    "duration": 1128,
    "start_time": "2022-11-09T13:49:49.931Z"
   },
   {
    "duration": 2456,
    "start_time": "2022-11-09T13:49:51.061Z"
   },
   {
    "duration": 5,
    "start_time": "2022-11-09T13:49:53.519Z"
   },
   {
    "duration": 16,
    "start_time": "2022-11-09T13:49:53.526Z"
   },
   {
    "duration": 19,
    "start_time": "2022-11-09T13:49:53.544Z"
   },
   {
    "duration": 37,
    "start_time": "2022-11-09T13:49:53.565Z"
   },
   {
    "duration": 12,
    "start_time": "2022-11-09T13:49:53.604Z"
   },
   {
    "duration": 17,
    "start_time": "2022-11-09T13:49:53.618Z"
   },
   {
    "duration": 41875,
    "start_time": "2022-11-09T13:49:53.637Z"
   },
   {
    "duration": 11,
    "start_time": "2022-11-09T13:50:35.513Z"
   },
   {
    "duration": 0,
    "start_time": "2022-11-09T13:50:35.526Z"
   },
   {
    "duration": 0,
    "start_time": "2022-11-09T13:50:35.527Z"
   },
   {
    "duration": 0,
    "start_time": "2022-11-09T13:50:35.528Z"
   },
   {
    "duration": 0,
    "start_time": "2022-11-09T13:50:35.529Z"
   },
   {
    "duration": 0,
    "start_time": "2022-11-09T13:50:35.530Z"
   },
   {
    "duration": 0,
    "start_time": "2022-11-09T13:50:35.531Z"
   },
   {
    "duration": 0,
    "start_time": "2022-11-09T13:50:35.532Z"
   },
   {
    "duration": 0,
    "start_time": "2022-11-09T13:50:35.533Z"
   },
   {
    "duration": 0,
    "start_time": "2022-11-09T13:50:35.534Z"
   },
   {
    "duration": 0,
    "start_time": "2022-11-09T13:50:35.535Z"
   },
   {
    "duration": 0,
    "start_time": "2022-11-09T13:50:35.536Z"
   },
   {
    "duration": 0,
    "start_time": "2022-11-09T13:50:35.537Z"
   },
   {
    "duration": 0,
    "start_time": "2022-11-09T13:50:35.538Z"
   },
   {
    "duration": 0,
    "start_time": "2022-11-09T13:50:35.539Z"
   },
   {
    "duration": 329,
    "start_time": "2022-11-09T13:50:50.497Z"
   },
   {
    "duration": 2218,
    "start_time": "2022-11-09T13:51:17.863Z"
   },
   {
    "duration": 1448,
    "start_time": "2022-11-09T13:51:20.084Z"
   },
   {
    "duration": 122,
    "start_time": "2022-11-09T13:51:21.535Z"
   },
   {
    "duration": 194,
    "start_time": "2022-11-09T13:51:21.659Z"
   },
   {
    "duration": 31,
    "start_time": "2022-11-09T13:51:21.855Z"
   },
   {
    "duration": 28,
    "start_time": "2022-11-09T13:51:21.888Z"
   },
   {
    "duration": 29,
    "start_time": "2022-11-09T13:51:21.917Z"
   },
   {
    "duration": 26,
    "start_time": "2022-11-09T13:51:21.948Z"
   },
   {
    "duration": 24,
    "start_time": "2022-11-09T13:51:21.976Z"
   },
   {
    "duration": 201,
    "start_time": "2022-11-09T13:51:22.002Z"
   },
   {
    "duration": 215,
    "start_time": "2022-11-09T13:51:22.205Z"
   },
   {
    "duration": 214,
    "start_time": "2022-11-09T13:51:22.423Z"
   },
   {
    "duration": 160,
    "start_time": "2022-11-09T13:51:22.640Z"
   },
   {
    "duration": 5,
    "start_time": "2022-11-09T13:51:22.802Z"
   },
   {
    "duration": 28,
    "start_time": "2022-11-09T13:51:22.808Z"
   },
   {
    "duration": 35,
    "start_time": "2022-11-09T13:51:22.838Z"
   },
   {
    "duration": 5,
    "start_time": "2022-11-09T13:51:22.874Z"
   },
   {
    "duration": 36,
    "start_time": "2022-11-09T13:51:22.881Z"
   },
   {
    "duration": 24,
    "start_time": "2022-11-09T13:51:22.919Z"
   },
   {
    "duration": 37,
    "start_time": "2022-11-09T13:51:22.945Z"
   },
   {
    "duration": 112,
    "start_time": "2022-11-09T13:51:22.983Z"
   },
   {
    "duration": 18,
    "start_time": "2022-11-09T13:51:23.097Z"
   },
   {
    "duration": 17,
    "start_time": "2022-11-09T13:51:23.116Z"
   },
   {
    "duration": 1960,
    "start_time": "2022-11-09T13:51:23.135Z"
   },
   {
    "duration": 3,
    "start_time": "2022-11-09T13:51:25.096Z"
   },
   {
    "duration": 149,
    "start_time": "2022-11-09T13:51:25.101Z"
   },
   {
    "duration": 7,
    "start_time": "2022-11-09T13:51:25.251Z"
   },
   {
    "duration": 327,
    "start_time": "2022-11-09T13:51:25.260Z"
   },
   {
    "duration": 212,
    "start_time": "2022-11-09T13:51:25.589Z"
   },
   {
    "duration": 25,
    "start_time": "2022-11-09T13:51:25.802Z"
   },
   {
    "duration": 3,
    "start_time": "2022-11-09T13:51:25.828Z"
   },
   {
    "duration": 573,
    "start_time": "2022-11-09T13:51:25.832Z"
   },
   {
    "duration": 1133,
    "start_time": "2022-11-09T13:51:26.407Z"
   },
   {
    "duration": 2467,
    "start_time": "2022-11-09T13:51:27.542Z"
   },
   {
    "duration": 5,
    "start_time": "2022-11-09T13:51:30.011Z"
   },
   {
    "duration": 37,
    "start_time": "2022-11-09T13:51:30.018Z"
   },
   {
    "duration": 31,
    "start_time": "2022-11-09T13:51:30.056Z"
   },
   {
    "duration": 37,
    "start_time": "2022-11-09T13:51:30.089Z"
   },
   {
    "duration": 23,
    "start_time": "2022-11-09T13:51:30.128Z"
   },
   {
    "duration": 23,
    "start_time": "2022-11-09T13:51:30.155Z"
   },
   {
    "duration": 54101,
    "start_time": "2022-11-09T13:51:30.179Z"
   },
   {
    "duration": 10,
    "start_time": "2022-11-09T13:52:24.282Z"
   },
   {
    "duration": 0,
    "start_time": "2022-11-09T13:52:24.293Z"
   },
   {
    "duration": 0,
    "start_time": "2022-11-09T13:52:24.294Z"
   },
   {
    "duration": 0,
    "start_time": "2022-11-09T13:52:24.295Z"
   },
   {
    "duration": 0,
    "start_time": "2022-11-09T13:52:24.296Z"
   },
   {
    "duration": 0,
    "start_time": "2022-11-09T13:52:24.297Z"
   },
   {
    "duration": 0,
    "start_time": "2022-11-09T13:52:24.298Z"
   },
   {
    "duration": 0,
    "start_time": "2022-11-09T13:52:24.299Z"
   },
   {
    "duration": 0,
    "start_time": "2022-11-09T13:52:24.300Z"
   },
   {
    "duration": 0,
    "start_time": "2022-11-09T13:52:24.301Z"
   },
   {
    "duration": 0,
    "start_time": "2022-11-09T13:52:24.302Z"
   },
   {
    "duration": 0,
    "start_time": "2022-11-09T13:52:24.302Z"
   },
   {
    "duration": 0,
    "start_time": "2022-11-09T13:52:24.303Z"
   },
   {
    "duration": 0,
    "start_time": "2022-11-09T13:52:24.304Z"
   },
   {
    "duration": 0,
    "start_time": "2022-11-09T13:52:24.305Z"
   },
   {
    "duration": 2170,
    "start_time": "2022-11-09T14:10:50.032Z"
   },
   {
    "duration": 1550,
    "start_time": "2022-11-09T14:10:52.204Z"
   },
   {
    "duration": 130,
    "start_time": "2022-11-09T14:10:53.756Z"
   },
   {
    "duration": 193,
    "start_time": "2022-11-09T14:10:53.888Z"
   },
   {
    "duration": 10,
    "start_time": "2022-11-09T14:10:54.083Z"
   },
   {
    "duration": 25,
    "start_time": "2022-11-09T14:10:54.094Z"
   },
   {
    "duration": 27,
    "start_time": "2022-11-09T14:10:54.121Z"
   },
   {
    "duration": 20,
    "start_time": "2022-11-09T14:10:54.150Z"
   },
   {
    "duration": 31,
    "start_time": "2022-11-09T14:10:54.172Z"
   },
   {
    "duration": 193,
    "start_time": "2022-11-09T14:10:54.206Z"
   },
   {
    "duration": 198,
    "start_time": "2022-11-09T14:10:54.401Z"
   },
   {
    "duration": 165,
    "start_time": "2022-11-09T14:10:54.601Z"
   },
   {
    "duration": 139,
    "start_time": "2022-11-09T14:10:54.768Z"
   },
   {
    "duration": 5,
    "start_time": "2022-11-09T14:10:54.909Z"
   },
   {
    "duration": 14,
    "start_time": "2022-11-09T14:10:54.915Z"
   },
   {
    "duration": 22,
    "start_time": "2022-11-09T14:10:54.931Z"
   },
   {
    "duration": 24,
    "start_time": "2022-11-09T14:10:54.955Z"
   },
   {
    "duration": 14,
    "start_time": "2022-11-09T14:10:54.981Z"
   },
   {
    "duration": 15,
    "start_time": "2022-11-09T14:10:54.997Z"
   },
   {
    "duration": 29,
    "start_time": "2022-11-09T14:10:55.013Z"
   },
   {
    "duration": 101,
    "start_time": "2022-11-09T14:10:55.044Z"
   },
   {
    "duration": 17,
    "start_time": "2022-11-09T14:10:55.146Z"
   },
   {
    "duration": 14,
    "start_time": "2022-11-09T14:10:55.164Z"
   },
   {
    "duration": 2004,
    "start_time": "2022-11-09T14:10:55.180Z"
   },
   {
    "duration": 3,
    "start_time": "2022-11-09T14:10:57.186Z"
   },
   {
    "duration": 152,
    "start_time": "2022-11-09T14:10:57.190Z"
   },
   {
    "duration": 7,
    "start_time": "2022-11-09T14:10:57.344Z"
   },
   {
    "duration": 325,
    "start_time": "2022-11-09T14:10:57.355Z"
   },
   {
    "duration": 217,
    "start_time": "2022-11-09T14:10:57.681Z"
   },
   {
    "duration": 27,
    "start_time": "2022-11-09T14:10:57.900Z"
   },
   {
    "duration": 15,
    "start_time": "2022-11-09T14:10:57.929Z"
   },
   {
    "duration": 566,
    "start_time": "2022-11-09T14:10:57.945Z"
   },
   {
    "duration": 1079,
    "start_time": "2022-11-09T14:10:58.513Z"
   },
   {
    "duration": 2395,
    "start_time": "2022-11-09T14:10:59.594Z"
   },
   {
    "duration": 4,
    "start_time": "2022-11-09T14:11:01.991Z"
   },
   {
    "duration": 20,
    "start_time": "2022-11-09T14:11:01.997Z"
   },
   {
    "duration": 20,
    "start_time": "2022-11-09T14:11:02.018Z"
   },
   {
    "duration": 27,
    "start_time": "2022-11-09T14:11:02.039Z"
   },
   {
    "duration": 18,
    "start_time": "2022-11-09T14:11:02.067Z"
   },
   {
    "duration": 26,
    "start_time": "2022-11-09T14:11:02.087Z"
   },
   {
    "duration": 50813,
    "start_time": "2022-11-09T14:11:02.115Z"
   },
   {
    "duration": 11,
    "start_time": "2022-11-09T14:11:52.930Z"
   },
   {
    "duration": 0,
    "start_time": "2022-11-09T14:11:52.942Z"
   },
   {
    "duration": 0,
    "start_time": "2022-11-09T14:11:52.943Z"
   },
   {
    "duration": 0,
    "start_time": "2022-11-09T14:11:52.945Z"
   },
   {
    "duration": 0,
    "start_time": "2022-11-09T14:11:52.947Z"
   },
   {
    "duration": 0,
    "start_time": "2022-11-09T14:11:52.948Z"
   },
   {
    "duration": 0,
    "start_time": "2022-11-09T14:11:52.950Z"
   },
   {
    "duration": 0,
    "start_time": "2022-11-09T14:11:52.952Z"
   },
   {
    "duration": 0,
    "start_time": "2022-11-09T14:11:52.953Z"
   },
   {
    "duration": 0,
    "start_time": "2022-11-09T14:11:52.954Z"
   },
   {
    "duration": 0,
    "start_time": "2022-11-09T14:11:52.954Z"
   },
   {
    "duration": 0,
    "start_time": "2022-11-09T14:11:52.955Z"
   },
   {
    "duration": 0,
    "start_time": "2022-11-09T14:11:52.956Z"
   },
   {
    "duration": 0,
    "start_time": "2022-11-09T14:11:52.957Z"
   },
   {
    "duration": 0,
    "start_time": "2022-11-09T14:11:52.958Z"
   },
   {
    "duration": 2140,
    "start_time": "2022-11-09T14:13:49.827Z"
   },
   {
    "duration": 1482,
    "start_time": "2022-11-09T14:13:51.969Z"
   },
   {
    "duration": 143,
    "start_time": "2022-11-09T14:13:53.453Z"
   },
   {
    "duration": 190,
    "start_time": "2022-11-09T14:13:53.599Z"
   },
   {
    "duration": 8,
    "start_time": "2022-11-09T14:13:53.791Z"
   },
   {
    "duration": 16,
    "start_time": "2022-11-09T14:13:53.800Z"
   },
   {
    "duration": 17,
    "start_time": "2022-11-09T14:13:53.817Z"
   },
   {
    "duration": 15,
    "start_time": "2022-11-09T14:13:53.836Z"
   },
   {
    "duration": 24,
    "start_time": "2022-11-09T14:13:53.853Z"
   },
   {
    "duration": 209,
    "start_time": "2022-11-09T14:13:53.880Z"
   },
   {
    "duration": 205,
    "start_time": "2022-11-09T14:13:54.091Z"
   },
   {
    "duration": 161,
    "start_time": "2022-11-09T14:13:54.297Z"
   },
   {
    "duration": 140,
    "start_time": "2022-11-09T14:13:54.460Z"
   },
   {
    "duration": 5,
    "start_time": "2022-11-09T14:13:54.602Z"
   },
   {
    "duration": 24,
    "start_time": "2022-11-09T14:13:54.608Z"
   },
   {
    "duration": 36,
    "start_time": "2022-11-09T14:13:54.633Z"
   },
   {
    "duration": 9,
    "start_time": "2022-11-09T14:13:54.670Z"
   },
   {
    "duration": 17,
    "start_time": "2022-11-09T14:13:54.681Z"
   },
   {
    "duration": 17,
    "start_time": "2022-11-09T14:13:54.700Z"
   },
   {
    "duration": 21,
    "start_time": "2022-11-09T14:13:54.718Z"
   },
   {
    "duration": 92,
    "start_time": "2022-11-09T14:13:54.740Z"
   },
   {
    "duration": 16,
    "start_time": "2022-11-09T14:13:54.834Z"
   },
   {
    "duration": 9,
    "start_time": "2022-11-09T14:13:54.852Z"
   },
   {
    "duration": 2027,
    "start_time": "2022-11-09T14:13:54.863Z"
   },
   {
    "duration": 5,
    "start_time": "2022-11-09T14:13:56.892Z"
   },
   {
    "duration": 159,
    "start_time": "2022-11-09T14:13:56.899Z"
   },
   {
    "duration": 8,
    "start_time": "2022-11-09T14:13:57.060Z"
   },
   {
    "duration": 304,
    "start_time": "2022-11-09T14:13:57.082Z"
   },
   {
    "duration": 213,
    "start_time": "2022-11-09T14:13:57.387Z"
   },
   {
    "duration": 31,
    "start_time": "2022-11-09T14:13:57.602Z"
   },
   {
    "duration": 3,
    "start_time": "2022-11-09T14:13:57.635Z"
   },
   {
    "duration": 574,
    "start_time": "2022-11-09T14:13:57.640Z"
   },
   {
    "duration": 1128,
    "start_time": "2022-11-09T14:13:58.216Z"
   },
   {
    "duration": 2347,
    "start_time": "2022-11-09T14:13:59.346Z"
   },
   {
    "duration": 4,
    "start_time": "2022-11-09T14:14:01.695Z"
   },
   {
    "duration": 36,
    "start_time": "2022-11-09T14:14:01.701Z"
   },
   {
    "duration": 24,
    "start_time": "2022-11-09T14:14:01.739Z"
   },
   {
    "duration": 49,
    "start_time": "2022-11-09T14:14:01.764Z"
   },
   {
    "duration": 34,
    "start_time": "2022-11-09T14:14:01.814Z"
   },
   {
    "duration": 31,
    "start_time": "2022-11-09T14:14:01.850Z"
   },
   {
    "duration": 784779,
    "start_time": "2022-11-09T14:14:01.883Z"
   },
   {
    "duration": 12,
    "start_time": "2022-11-09T14:27:06.664Z"
   },
   {
    "duration": 0,
    "start_time": "2022-11-09T14:27:06.678Z"
   },
   {
    "duration": 0,
    "start_time": "2022-11-09T14:27:06.680Z"
   },
   {
    "duration": 0,
    "start_time": "2022-11-09T14:27:06.681Z"
   },
   {
    "duration": 0,
    "start_time": "2022-11-09T14:27:06.683Z"
   },
   {
    "duration": 0,
    "start_time": "2022-11-09T14:27:06.686Z"
   },
   {
    "duration": 0,
    "start_time": "2022-11-09T14:27:06.687Z"
   },
   {
    "duration": 0,
    "start_time": "2022-11-09T14:27:06.689Z"
   },
   {
    "duration": 0,
    "start_time": "2022-11-09T14:27:06.690Z"
   },
   {
    "duration": 0,
    "start_time": "2022-11-09T14:27:06.692Z"
   },
   {
    "duration": 0,
    "start_time": "2022-11-09T14:27:06.693Z"
   },
   {
    "duration": 0,
    "start_time": "2022-11-09T14:27:06.695Z"
   },
   {
    "duration": 0,
    "start_time": "2022-11-09T14:27:06.696Z"
   },
   {
    "duration": 0,
    "start_time": "2022-11-09T14:27:06.698Z"
   },
   {
    "duration": 0,
    "start_time": "2022-11-09T14:27:06.699Z"
   },
   {
    "duration": 0,
    "start_time": "2022-11-09T14:27:06.701Z"
   },
   {
    "duration": 2171,
    "start_time": "2022-11-09T14:30:13.468Z"
   },
   {
    "duration": 1409,
    "start_time": "2022-11-09T14:30:15.642Z"
   },
   {
    "duration": 122,
    "start_time": "2022-11-09T14:30:17.052Z"
   },
   {
    "duration": 209,
    "start_time": "2022-11-09T14:30:17.177Z"
   },
   {
    "duration": 9,
    "start_time": "2022-11-09T14:30:17.388Z"
   },
   {
    "duration": 26,
    "start_time": "2022-11-09T14:30:17.398Z"
   },
   {
    "duration": 11,
    "start_time": "2022-11-09T14:30:17.425Z"
   },
   {
    "duration": 11,
    "start_time": "2022-11-09T14:30:17.437Z"
   },
   {
    "duration": 11,
    "start_time": "2022-11-09T14:30:17.450Z"
   },
   {
    "duration": 191,
    "start_time": "2022-11-09T14:30:17.479Z"
   },
   {
    "duration": 250,
    "start_time": "2022-11-09T14:30:17.672Z"
   },
   {
    "duration": 196,
    "start_time": "2022-11-09T14:30:17.924Z"
   },
   {
    "duration": 161,
    "start_time": "2022-11-09T14:30:18.122Z"
   },
   {
    "duration": 5,
    "start_time": "2022-11-09T14:30:18.285Z"
   },
   {
    "duration": 32,
    "start_time": "2022-11-09T14:30:18.291Z"
   },
   {
    "duration": 37,
    "start_time": "2022-11-09T14:30:18.324Z"
   },
   {
    "duration": 6,
    "start_time": "2022-11-09T14:30:18.362Z"
   },
   {
    "duration": 42,
    "start_time": "2022-11-09T14:30:18.369Z"
   },
   {
    "duration": 14,
    "start_time": "2022-11-09T14:30:18.413Z"
   },
   {
    "duration": 48,
    "start_time": "2022-11-09T14:30:18.428Z"
   },
   {
    "duration": 132,
    "start_time": "2022-11-09T14:30:18.478Z"
   },
   {
    "duration": 19,
    "start_time": "2022-11-09T14:30:18.612Z"
   },
   {
    "duration": 45,
    "start_time": "2022-11-09T14:30:18.633Z"
   },
   {
    "duration": 2025,
    "start_time": "2022-11-09T14:30:18.681Z"
   },
   {
    "duration": 3,
    "start_time": "2022-11-09T14:30:20.708Z"
   },
   {
    "duration": 144,
    "start_time": "2022-11-09T14:30:20.712Z"
   },
   {
    "duration": 8,
    "start_time": "2022-11-09T14:30:20.858Z"
   },
   {
    "duration": 318,
    "start_time": "2022-11-09T14:30:20.871Z"
   },
   {
    "duration": 218,
    "start_time": "2022-11-09T14:30:21.191Z"
   },
   {
    "duration": 24,
    "start_time": "2022-11-09T14:30:21.412Z"
   },
   {
    "duration": 29,
    "start_time": "2022-11-09T14:30:21.438Z"
   },
   {
    "duration": 521,
    "start_time": "2022-11-09T14:30:21.469Z"
   },
   {
    "duration": 1145,
    "start_time": "2022-11-09T14:30:21.991Z"
   },
   {
    "duration": 2444,
    "start_time": "2022-11-09T14:30:23.137Z"
   },
   {
    "duration": 5,
    "start_time": "2022-11-09T14:30:25.583Z"
   },
   {
    "duration": 12,
    "start_time": "2022-11-09T14:30:25.589Z"
   },
   {
    "duration": 12,
    "start_time": "2022-11-09T14:30:25.603Z"
   },
   {
    "duration": 12,
    "start_time": "2022-11-09T14:30:25.616Z"
   },
   {
    "duration": 9,
    "start_time": "2022-11-09T14:30:25.629Z"
   },
   {
    "duration": 13,
    "start_time": "2022-11-09T14:30:25.639Z"
   },
   {
    "duration": 861702,
    "start_time": "2022-11-09T14:30:25.653Z"
   },
   {
    "duration": 9,
    "start_time": "2022-11-09T14:44:47.357Z"
   },
   {
    "duration": 32,
    "start_time": "2022-11-09T14:44:47.367Z"
   },
   {
    "duration": 1057181,
    "start_time": "2022-11-09T14:44:47.401Z"
   },
   {
    "duration": 11,
    "start_time": "2022-11-09T15:02:24.584Z"
   },
   {
    "duration": 10133,
    "start_time": "2022-11-09T15:02:24.597Z"
   },
   {
    "duration": 9949,
    "start_time": "2022-11-09T15:02:34.731Z"
   },
   {
    "duration": 54,
    "start_time": "2022-11-09T15:02:44.682Z"
   },
   {
    "duration": 62,
    "start_time": "2022-11-09T15:02:44.738Z"
   },
   {
    "duration": 9,
    "start_time": "2022-11-09T15:02:44.802Z"
   },
   {
    "duration": 24,
    "start_time": "2022-11-09T15:02:44.813Z"
   },
   {
    "duration": 1043,
    "start_time": "2022-11-09T15:02:44.839Z"
   },
   {
    "duration": 997,
    "start_time": "2022-11-09T15:02:45.884Z"
   },
   {
    "duration": 23,
    "start_time": "2022-11-09T15:02:46.883Z"
   },
   {
    "duration": 16,
    "start_time": "2022-11-09T15:02:46.908Z"
   },
   {
    "duration": 59,
    "start_time": "2022-11-09T15:02:46.925Z"
   },
   {
    "duration": 90,
    "start_time": "2022-11-09T20:39:52.199Z"
   },
   {
    "duration": 72,
    "start_time": "2022-11-09T20:42:26.193Z"
   },
   {
    "duration": 3360,
    "start_time": "2022-11-09T20:42:34.516Z"
   },
   {
    "duration": 1618,
    "start_time": "2022-11-09T20:42:37.879Z"
   },
   {
    "duration": 317,
    "start_time": "2022-11-09T20:42:39.499Z"
   },
   {
    "duration": 188,
    "start_time": "2022-11-09T20:42:39.819Z"
   },
   {
    "duration": 8,
    "start_time": "2022-11-09T20:42:40.009Z"
   },
   {
    "duration": 54,
    "start_time": "2022-11-09T20:42:40.019Z"
   },
   {
    "duration": 13,
    "start_time": "2022-11-09T20:42:40.075Z"
   },
   {
    "duration": 16,
    "start_time": "2022-11-09T20:42:40.089Z"
   },
   {
    "duration": 34,
    "start_time": "2022-11-09T20:42:40.106Z"
   },
   {
    "duration": 196,
    "start_time": "2022-11-09T20:42:40.142Z"
   },
   {
    "duration": 203,
    "start_time": "2022-11-09T20:42:40.339Z"
   },
   {
    "duration": 179,
    "start_time": "2022-11-09T20:42:40.544Z"
   },
   {
    "duration": 145,
    "start_time": "2022-11-09T20:42:40.725Z"
   },
   {
    "duration": 5,
    "start_time": "2022-11-09T20:42:40.874Z"
   },
   {
    "duration": 14,
    "start_time": "2022-11-09T20:42:40.880Z"
   },
   {
    "duration": 24,
    "start_time": "2022-11-09T20:42:40.895Z"
   },
   {
    "duration": 4,
    "start_time": "2022-11-09T20:42:40.921Z"
   },
   {
    "duration": 50,
    "start_time": "2022-11-09T20:42:40.926Z"
   },
   {
    "duration": 5,
    "start_time": "2022-11-09T20:42:40.977Z"
   },
   {
    "duration": 23,
    "start_time": "2022-11-09T20:42:40.984Z"
   },
   {
    "duration": 91,
    "start_time": "2022-11-09T20:42:41.009Z"
   },
   {
    "duration": 15,
    "start_time": "2022-11-09T20:42:41.102Z"
   },
   {
    "duration": 9,
    "start_time": "2022-11-09T20:42:41.118Z"
   },
   {
    "duration": 2148,
    "start_time": "2022-11-09T20:42:41.129Z"
   },
   {
    "duration": 4,
    "start_time": "2022-11-09T20:42:43.278Z"
   },
   {
    "duration": 134,
    "start_time": "2022-11-09T20:42:43.284Z"
   },
   {
    "duration": 7,
    "start_time": "2022-11-09T20:42:43.420Z"
   },
   {
    "duration": 363,
    "start_time": "2022-11-09T20:42:43.431Z"
   },
   {
    "duration": 194,
    "start_time": "2022-11-09T20:42:43.795Z"
   },
   {
    "duration": 30,
    "start_time": "2022-11-09T20:42:43.991Z"
   },
   {
    "duration": 37,
    "start_time": "2022-11-09T20:42:44.023Z"
   },
   {
    "duration": 521,
    "start_time": "2022-11-09T20:42:44.063Z"
   },
   {
    "duration": 1204,
    "start_time": "2022-11-09T20:42:44.587Z"
   },
   {
    "duration": 2550,
    "start_time": "2022-11-09T20:42:45.793Z"
   },
   {
    "duration": 4,
    "start_time": "2022-11-09T20:42:48.345Z"
   },
   {
    "duration": 41,
    "start_time": "2022-11-09T20:42:48.350Z"
   },
   {
    "duration": 16,
    "start_time": "2022-11-09T20:42:48.393Z"
   },
   {
    "duration": 16,
    "start_time": "2022-11-09T20:42:48.411Z"
   },
   {
    "duration": 9,
    "start_time": "2022-11-09T20:42:48.430Z"
   },
   {
    "duration": 8,
    "start_time": "2022-11-09T20:42:48.440Z"
   },
   {
    "duration": 335380,
    "start_time": "2022-11-09T20:42:48.449Z"
   },
   {
    "duration": 117,
    "start_time": "2022-11-09T20:48:23.831Z"
   },
   {
    "duration": 0,
    "start_time": "2022-11-09T20:48:23.949Z"
   },
   {
    "duration": 0,
    "start_time": "2022-11-09T20:48:23.951Z"
   },
   {
    "duration": 0,
    "start_time": "2022-11-09T20:48:23.952Z"
   },
   {
    "duration": 0,
    "start_time": "2022-11-09T20:48:23.953Z"
   },
   {
    "duration": 0,
    "start_time": "2022-11-09T20:48:23.955Z"
   },
   {
    "duration": 0,
    "start_time": "2022-11-09T20:48:23.956Z"
   },
   {
    "duration": 0,
    "start_time": "2022-11-09T20:48:23.958Z"
   },
   {
    "duration": 0,
    "start_time": "2022-11-09T20:48:23.959Z"
   },
   {
    "duration": 0,
    "start_time": "2022-11-09T20:48:23.961Z"
   },
   {
    "duration": 0,
    "start_time": "2022-11-09T20:48:23.962Z"
   },
   {
    "duration": 0,
    "start_time": "2022-11-09T20:48:23.963Z"
   },
   {
    "duration": 0,
    "start_time": "2022-11-09T20:48:23.964Z"
   },
   {
    "duration": 0,
    "start_time": "2022-11-09T20:48:23.965Z"
   },
   {
    "duration": 0,
    "start_time": "2022-11-09T20:48:23.968Z"
   },
   {
    "duration": 0,
    "start_time": "2022-11-09T20:48:23.969Z"
   },
   {
    "duration": 5,
    "start_time": "2022-11-09T20:48:55.956Z"
   },
   {
    "duration": 3,
    "start_time": "2022-11-09T20:51:26.564Z"
   },
   {
    "duration": 69427,
    "start_time": "2022-11-09T20:51:39.653Z"
   },
   {
    "duration": 4,
    "start_time": "2022-11-09T20:52:55.572Z"
   },
   {
    "duration": 3,
    "start_time": "2022-11-09T20:54:30.268Z"
   },
   {
    "duration": 68363,
    "start_time": "2022-11-09T20:54:31.484Z"
   },
   {
    "duration": 4,
    "start_time": "2022-11-09T20:58:56.529Z"
   },
   {
    "duration": 20481,
    "start_time": "2022-11-09T20:58:59.101Z"
   },
   {
    "duration": 3,
    "start_time": "2022-11-09T20:59:19.584Z"
   },
   {
    "duration": 4,
    "start_time": "2022-11-09T21:03:23.366Z"
   },
   {
    "duration": 3,
    "start_time": "2022-11-09T21:03:24.315Z"
   },
   {
    "duration": 3,
    "start_time": "2022-11-09T21:03:26.869Z"
   },
   {
    "duration": 22453,
    "start_time": "2022-11-09T21:03:36.943Z"
   },
   {
    "duration": 4,
    "start_time": "2022-11-09T21:04:07.861Z"
   },
   {
    "duration": 9,
    "start_time": "2022-11-09T21:04:45.335Z"
   },
   {
    "duration": 4,
    "start_time": "2022-11-09T21:04:52.454Z"
   },
   {
    "duration": 4,
    "start_time": "2022-11-09T21:11:15.662Z"
   },
   {
    "duration": 22,
    "start_time": "2022-11-09T21:11:29.505Z"
   },
   {
    "duration": 138903,
    "start_time": "2022-11-09T21:12:04.571Z"
   },
   {
    "duration": 5,
    "start_time": "2022-11-09T21:15:45.209Z"
   },
   {
    "duration": 14,
    "start_time": "2022-11-09T21:31:26.095Z"
   },
   {
    "duration": 10049,
    "start_time": "2022-11-09T21:31:27.471Z"
   },
   {
    "duration": 9857,
    "start_time": "2022-11-09T21:32:09.868Z"
   },
   {
    "duration": 9591,
    "start_time": "2022-11-09T21:33:48.937Z"
   },
   {
    "duration": 9585,
    "start_time": "2022-11-09T21:34:07.610Z"
   },
   {
    "duration": 9782,
    "start_time": "2022-11-09T21:34:23.238Z"
   },
   {
    "duration": 3,
    "start_time": "2022-11-09T21:39:34.838Z"
   },
   {
    "duration": 489115,
    "start_time": "2022-11-09T21:40:01.154Z"
   },
   {
    "duration": 2038,
    "start_time": "2022-11-09T21:48:29.972Z"
   },
   {
    "duration": 1422,
    "start_time": "2022-11-09T21:48:32.012Z"
   },
   {
    "duration": 121,
    "start_time": "2022-11-09T21:48:33.436Z"
   },
   {
    "duration": 195,
    "start_time": "2022-11-09T21:48:33.559Z"
   },
   {
    "duration": 9,
    "start_time": "2022-11-09T21:48:33.756Z"
   },
   {
    "duration": 13,
    "start_time": "2022-11-09T21:48:33.767Z"
   },
   {
    "duration": 9,
    "start_time": "2022-11-09T21:48:33.782Z"
   },
   {
    "duration": 11,
    "start_time": "2022-11-09T21:48:33.792Z"
   },
   {
    "duration": 12,
    "start_time": "2022-11-09T21:48:33.804Z"
   },
   {
    "duration": 208,
    "start_time": "2022-11-09T21:48:33.817Z"
   },
   {
    "duration": 217,
    "start_time": "2022-11-09T21:48:34.027Z"
   },
   {
    "duration": 181,
    "start_time": "2022-11-09T21:48:34.245Z"
   },
   {
    "duration": 154,
    "start_time": "2022-11-09T21:48:34.428Z"
   },
   {
    "duration": 6,
    "start_time": "2022-11-09T21:48:34.586Z"
   },
   {
    "duration": 19,
    "start_time": "2022-11-09T21:48:34.594Z"
   },
   {
    "duration": 118,
    "start_time": "2022-11-09T21:48:34.616Z"
   },
   {
    "duration": 5,
    "start_time": "2022-11-09T21:48:34.736Z"
   },
   {
    "duration": 21,
    "start_time": "2022-11-09T21:48:34.743Z"
   },
   {
    "duration": 5,
    "start_time": "2022-11-09T21:48:34.766Z"
   },
   {
    "duration": 15,
    "start_time": "2022-11-09T21:48:34.773Z"
   },
   {
    "duration": 18,
    "start_time": "2022-11-09T21:48:34.789Z"
   },
   {
    "duration": 17,
    "start_time": "2022-11-09T21:48:34.809Z"
   },
   {
    "duration": 3,
    "start_time": "2022-11-09T21:48:34.853Z"
   },
   {
    "duration": 1963,
    "start_time": "2022-11-09T21:48:34.858Z"
   },
   {
    "duration": 4,
    "start_time": "2022-11-09T21:48:36.823Z"
   },
   {
    "duration": 154,
    "start_time": "2022-11-09T21:48:36.829Z"
   },
   {
    "duration": 7,
    "start_time": "2022-11-09T21:48:36.985Z"
   },
   {
    "duration": 277,
    "start_time": "2022-11-09T21:48:36.994Z"
   },
   {
    "duration": 213,
    "start_time": "2022-11-09T21:48:37.273Z"
   },
   {
    "duration": 24,
    "start_time": "2022-11-09T21:48:37.488Z"
   },
   {
    "duration": 4,
    "start_time": "2022-11-09T21:48:37.514Z"
   },
   {
    "duration": 538,
    "start_time": "2022-11-09T21:48:37.519Z"
   },
   {
    "duration": 1111,
    "start_time": "2022-11-09T21:48:38.059Z"
   },
   {
    "duration": 2391,
    "start_time": "2022-11-09T21:48:39.172Z"
   },
   {
    "duration": 4,
    "start_time": "2022-11-09T21:48:41.565Z"
   },
   {
    "duration": 14,
    "start_time": "2022-11-09T21:48:41.571Z"
   },
   {
    "duration": 7,
    "start_time": "2022-11-09T21:48:41.587Z"
   },
   {
    "duration": 7,
    "start_time": "2022-11-09T21:48:41.595Z"
   },
   {
    "duration": 5,
    "start_time": "2022-11-09T21:48:41.604Z"
   },
   {
    "duration": 5,
    "start_time": "2022-11-09T21:48:41.610Z"
   },
   {
    "duration": 176662,
    "start_time": "2022-11-09T21:48:41.619Z"
   },
   {
    "duration": 4,
    "start_time": "2022-11-09T21:51:38.283Z"
   },
   {
    "duration": 13,
    "start_time": "2022-11-09T21:51:38.288Z"
   },
   {
    "duration": 19,
    "start_time": "2022-11-09T21:51:38.303Z"
   },
   {
    "duration": 549341,
    "start_time": "2022-11-09T21:51:38.323Z"
   },
   {
    "duration": 17,
    "start_time": "2022-11-09T22:00:47.672Z"
   },
   {
    "duration": 9931,
    "start_time": "2022-11-09T22:00:47.691Z"
   },
   {
    "duration": 12,
    "start_time": "2022-11-09T22:00:57.623Z"
   },
   {
    "duration": 10201,
    "start_time": "2022-11-09T22:00:57.636Z"
   },
   {
    "duration": 10169,
    "start_time": "2022-11-09T22:01:07.839Z"
   },
   {
    "duration": 61,
    "start_time": "2022-11-09T22:01:18.009Z"
   },
   {
    "duration": 52,
    "start_time": "2022-11-09T22:01:18.072Z"
   },
   {
    "duration": 120,
    "start_time": "2022-11-09T22:01:18.126Z"
   },
   {
    "duration": 0,
    "start_time": "2022-11-09T22:01:18.247Z"
   },
   {
    "duration": 0,
    "start_time": "2022-11-09T22:01:18.252Z"
   },
   {
    "duration": 0,
    "start_time": "2022-11-09T22:01:18.253Z"
   },
   {
    "duration": 0,
    "start_time": "2022-11-09T22:01:18.254Z"
   },
   {
    "duration": 0,
    "start_time": "2022-11-09T22:01:18.255Z"
   },
   {
    "duration": 0,
    "start_time": "2022-11-09T22:01:18.256Z"
   },
   {
    "duration": 0,
    "start_time": "2022-11-09T22:01:18.258Z"
   },
   {
    "duration": 67,
    "start_time": "2022-11-09T22:01:21.238Z"
   },
   {
    "duration": 9,
    "start_time": "2022-11-09T22:03:11.241Z"
   },
   {
    "duration": 12,
    "start_time": "2022-11-09T22:03:43.342Z"
   },
   {
    "duration": 180177,
    "start_time": "2022-11-09T22:04:38.126Z"
   },
   {
    "duration": 5,
    "start_time": "2022-11-09T22:07:38.305Z"
   },
   {
    "duration": 15,
    "start_time": "2022-11-09T22:07:38.312Z"
   },
   {
    "duration": 5,
    "start_time": "2022-11-09T22:08:34.090Z"
   },
   {
    "duration": 2,
    "start_time": "2022-11-09T22:08:57.572Z"
   },
   {
    "duration": 12,
    "start_time": "2022-11-09T22:09:04.097Z"
   },
   {
    "duration": 10,
    "start_time": "2022-11-09T22:09:39.560Z"
   },
   {
    "duration": 9,
    "start_time": "2022-11-09T22:09:45.848Z"
   },
   {
    "duration": 3,
    "start_time": "2022-11-09T22:10:40.915Z"
   },
   {
    "duration": 9,
    "start_time": "2022-11-09T22:10:46.219Z"
   },
   {
    "duration": 4,
    "start_time": "2022-11-09T22:10:56.269Z"
   },
   {
    "duration": 9,
    "start_time": "2022-11-09T22:10:59.779Z"
   },
   {
    "duration": 4,
    "start_time": "2022-11-09T22:11:35.399Z"
   },
   {
    "duration": 11,
    "start_time": "2022-11-09T22:12:01.329Z"
   },
   {
    "duration": 4,
    "start_time": "2022-11-09T22:12:25.100Z"
   },
   {
    "duration": 2038,
    "start_time": "2022-11-09T22:14:31.369Z"
   },
   {
    "duration": 1410,
    "start_time": "2022-11-09T22:14:33.410Z"
   },
   {
    "duration": 138,
    "start_time": "2022-11-09T22:14:34.822Z"
   },
   {
    "duration": 197,
    "start_time": "2022-11-09T22:14:34.962Z"
   },
   {
    "duration": 10,
    "start_time": "2022-11-09T22:14:35.161Z"
   },
   {
    "duration": 20,
    "start_time": "2022-11-09T22:14:35.172Z"
   },
   {
    "duration": 11,
    "start_time": "2022-11-09T22:14:35.193Z"
   },
   {
    "duration": 12,
    "start_time": "2022-11-09T22:14:35.205Z"
   },
   {
    "duration": 34,
    "start_time": "2022-11-09T22:14:35.218Z"
   },
   {
    "duration": 188,
    "start_time": "2022-11-09T22:14:35.254Z"
   },
   {
    "duration": 220,
    "start_time": "2022-11-09T22:14:35.444Z"
   },
   {
    "duration": 175,
    "start_time": "2022-11-09T22:14:35.666Z"
   },
   {
    "duration": 147,
    "start_time": "2022-11-09T22:14:35.844Z"
   },
   {
    "duration": 6,
    "start_time": "2022-11-09T22:14:36.005Z"
   },
   {
    "duration": 28,
    "start_time": "2022-11-09T22:14:36.012Z"
   },
   {
    "duration": 119,
    "start_time": "2022-11-09T22:14:36.042Z"
   },
   {
    "duration": 5,
    "start_time": "2022-11-09T22:14:36.163Z"
   },
   {
    "duration": 31,
    "start_time": "2022-11-09T22:14:36.170Z"
   },
   {
    "duration": 7,
    "start_time": "2022-11-09T22:14:36.203Z"
   },
   {
    "duration": 12,
    "start_time": "2022-11-09T22:14:36.213Z"
   },
   {
    "duration": 27,
    "start_time": "2022-11-09T22:14:36.227Z"
   },
   {
    "duration": 21,
    "start_time": "2022-11-09T22:14:36.255Z"
   },
   {
    "duration": 13,
    "start_time": "2022-11-09T22:14:36.278Z"
   },
   {
    "duration": 1986,
    "start_time": "2022-11-09T22:14:36.293Z"
   },
   {
    "duration": 3,
    "start_time": "2022-11-09T22:14:38.280Z"
   },
   {
    "duration": 146,
    "start_time": "2022-11-09T22:14:38.285Z"
   },
   {
    "duration": 7,
    "start_time": "2022-11-09T22:14:38.432Z"
   },
   {
    "duration": 327,
    "start_time": "2022-11-09T22:14:38.441Z"
   },
   {
    "duration": 216,
    "start_time": "2022-11-09T22:14:38.770Z"
   },
   {
    "duration": 26,
    "start_time": "2022-11-09T22:14:38.988Z"
   },
   {
    "duration": 3,
    "start_time": "2022-11-09T22:14:39.016Z"
   },
   {
    "duration": 529,
    "start_time": "2022-11-09T22:14:39.021Z"
   },
   {
    "duration": 1161,
    "start_time": "2022-11-09T22:14:39.552Z"
   },
   {
    "duration": 2412,
    "start_time": "2022-11-09T22:14:40.715Z"
   },
   {
    "duration": 6,
    "start_time": "2022-11-09T22:14:43.129Z"
   },
   {
    "duration": 13,
    "start_time": "2022-11-09T22:14:43.137Z"
   },
   {
    "duration": 7,
    "start_time": "2022-11-09T22:14:43.152Z"
   },
   {
    "duration": 10,
    "start_time": "2022-11-09T22:14:43.161Z"
   },
   {
    "duration": 6,
    "start_time": "2022-11-09T22:14:43.173Z"
   },
   {
    "duration": 5,
    "start_time": "2022-11-09T22:14:43.181Z"
   },
   {
    "duration": 171542,
    "start_time": "2022-11-09T22:14:43.191Z"
   },
   {
    "duration": 5,
    "start_time": "2022-11-09T22:17:34.735Z"
   },
   {
    "duration": 21,
    "start_time": "2022-11-09T22:17:34.741Z"
   },
   {
    "duration": 28,
    "start_time": "2022-11-09T22:17:34.764Z"
   },
   {
    "duration": 371670,
    "start_time": "2022-11-09T22:17:34.793Z"
   },
   {
    "duration": 4,
    "start_time": "2022-11-09T22:23:46.465Z"
   },
   {
    "duration": 13,
    "start_time": "2022-11-09T22:23:46.471Z"
   },
   {
    "duration": 119,
    "start_time": "2022-11-09T22:23:46.486Z"
   },
   {
    "duration": 0,
    "start_time": "2022-11-09T22:23:46.607Z"
   },
   {
    "duration": 0,
    "start_time": "2022-11-09T22:23:46.608Z"
   },
   {
    "duration": 0,
    "start_time": "2022-11-09T22:23:46.609Z"
   },
   {
    "duration": 0,
    "start_time": "2022-11-09T22:23:46.610Z"
   },
   {
    "duration": 0,
    "start_time": "2022-11-09T22:23:46.611Z"
   },
   {
    "duration": 0,
    "start_time": "2022-11-09T22:23:46.612Z"
   },
   {
    "duration": 0,
    "start_time": "2022-11-09T22:23:46.613Z"
   },
   {
    "duration": 0,
    "start_time": "2022-11-09T22:23:46.614Z"
   },
   {
    "duration": 0,
    "start_time": "2022-11-09T22:23:46.615Z"
   },
   {
    "duration": 4,
    "start_time": "2022-11-09T22:26:45.665Z"
   },
   {
    "duration": 9042,
    "start_time": "2022-11-09T22:28:25.788Z"
   },
   {
    "duration": 8770,
    "start_time": "2022-11-09T22:28:34.832Z"
   },
   {
    "duration": 44,
    "start_time": "2022-11-09T22:28:43.603Z"
   },
   {
    "duration": 42,
    "start_time": "2022-11-09T22:28:43.649Z"
   },
   {
    "duration": 166211,
    "start_time": "2022-11-09T22:29:29.924Z"
   },
   {
    "duration": 9,
    "start_time": "2022-11-09T22:33:38.194Z"
   },
   {
    "duration": 1945,
    "start_time": "2022-11-09T22:34:29.782Z"
   },
   {
    "duration": 1347,
    "start_time": "2022-11-09T22:34:31.729Z"
   },
   {
    "duration": 124,
    "start_time": "2022-11-09T22:34:33.078Z"
   },
   {
    "duration": 178,
    "start_time": "2022-11-09T22:34:33.204Z"
   },
   {
    "duration": 8,
    "start_time": "2022-11-09T22:34:33.384Z"
   },
   {
    "duration": 15,
    "start_time": "2022-11-09T22:34:33.393Z"
   },
   {
    "duration": 8,
    "start_time": "2022-11-09T22:34:33.409Z"
   },
   {
    "duration": 10,
    "start_time": "2022-11-09T22:34:33.419Z"
   },
   {
    "duration": 9,
    "start_time": "2022-11-09T22:34:33.453Z"
   },
   {
    "duration": 174,
    "start_time": "2022-11-09T22:34:33.464Z"
   },
   {
    "duration": 191,
    "start_time": "2022-11-09T22:34:33.639Z"
   },
   {
    "duration": 162,
    "start_time": "2022-11-09T22:34:33.831Z"
   },
   {
    "duration": 132,
    "start_time": "2022-11-09T22:34:33.994Z"
   },
   {
    "duration": 5,
    "start_time": "2022-11-09T22:34:34.127Z"
   },
   {
    "duration": 20,
    "start_time": "2022-11-09T22:34:34.133Z"
   },
   {
    "duration": 23,
    "start_time": "2022-11-09T22:34:34.154Z"
   },
   {
    "duration": 4,
    "start_time": "2022-11-09T22:34:34.179Z"
   },
   {
    "duration": 15,
    "start_time": "2022-11-09T22:34:34.184Z"
   },
   {
    "duration": 3,
    "start_time": "2022-11-09T22:34:34.200Z"
   },
   {
    "duration": 13,
    "start_time": "2022-11-09T22:34:34.205Z"
   },
   {
    "duration": 120,
    "start_time": "2022-11-09T22:34:34.220Z"
   },
   {
    "duration": 21,
    "start_time": "2022-11-09T22:34:34.341Z"
   },
   {
    "duration": 5,
    "start_time": "2022-11-09T22:34:34.364Z"
   },
   {
    "duration": 1830,
    "start_time": "2022-11-09T22:34:34.371Z"
   },
   {
    "duration": 3,
    "start_time": "2022-11-09T22:34:36.202Z"
   },
   {
    "duration": 136,
    "start_time": "2022-11-09T22:34:36.207Z"
   },
   {
    "duration": 9,
    "start_time": "2022-11-09T22:34:36.345Z"
   },
   {
    "duration": 296,
    "start_time": "2022-11-09T22:34:36.358Z"
   },
   {
    "duration": 217,
    "start_time": "2022-11-09T22:34:36.656Z"
   },
   {
    "duration": 21,
    "start_time": "2022-11-09T22:34:36.875Z"
   },
   {
    "duration": 3,
    "start_time": "2022-11-09T22:34:36.897Z"
   },
   {
    "duration": 512,
    "start_time": "2022-11-09T22:34:36.901Z"
   },
   {
    "duration": 1024,
    "start_time": "2022-11-09T22:34:37.414Z"
   },
   {
    "duration": 2247,
    "start_time": "2022-11-09T22:34:38.440Z"
   },
   {
    "duration": 5,
    "start_time": "2022-11-09T22:34:40.689Z"
   },
   {
    "duration": 8,
    "start_time": "2022-11-09T22:34:40.696Z"
   },
   {
    "duration": 7,
    "start_time": "2022-11-09T22:34:40.706Z"
   },
   {
    "duration": 7,
    "start_time": "2022-11-09T22:34:40.714Z"
   },
   {
    "duration": 5,
    "start_time": "2022-11-09T22:34:40.722Z"
   },
   {
    "duration": 6,
    "start_time": "2022-11-09T22:34:40.728Z"
   },
   {
    "duration": 169299,
    "start_time": "2022-11-09T22:34:40.735Z"
   },
   {
    "duration": 5,
    "start_time": "2022-11-09T22:37:30.035Z"
   },
   {
    "duration": 33,
    "start_time": "2022-11-09T22:37:30.041Z"
   },
   {
    "duration": 31,
    "start_time": "2022-11-09T22:37:30.076Z"
   },
   {
    "duration": 62554,
    "start_time": "2022-11-09T22:37:30.108Z"
   },
   {
    "duration": 4,
    "start_time": "2022-11-09T22:38:32.664Z"
   },
   {
    "duration": 16,
    "start_time": "2022-11-09T22:38:32.670Z"
   },
   {
    "duration": 8794,
    "start_time": "2022-11-09T22:38:32.687Z"
   },
   {
    "duration": 8818,
    "start_time": "2022-11-09T22:38:41.482Z"
   },
   {
    "duration": 42,
    "start_time": "2022-11-09T22:38:50.301Z"
   },
   {
    "duration": 41,
    "start_time": "2022-11-09T22:38:50.345Z"
   },
   {
    "duration": 2,
    "start_time": "2022-11-09T22:38:50.388Z"
   },
   {
    "duration": 9,
    "start_time": "2022-11-09T22:38:50.392Z"
   },
   {
    "duration": 6,
    "start_time": "2022-11-09T22:38:50.403Z"
   },
   {
    "duration": 8,
    "start_time": "2022-11-09T22:38:50.410Z"
   },
   {
    "duration": 10,
    "start_time": "2022-11-09T22:38:50.419Z"
   },
   {
    "duration": 53,
    "start_time": "2022-11-11T19:11:07.039Z"
   },
   {
    "duration": 3163,
    "start_time": "2022-11-11T19:11:14.532Z"
   },
   {
    "duration": 1783,
    "start_time": "2022-11-11T19:11:17.698Z"
   },
   {
    "duration": 445,
    "start_time": "2022-11-11T19:11:19.483Z"
   },
   {
    "duration": 229,
    "start_time": "2022-11-11T19:11:19.931Z"
   },
   {
    "duration": 10,
    "start_time": "2022-11-11T19:11:20.162Z"
   },
   {
    "duration": 47,
    "start_time": "2022-11-11T19:11:20.174Z"
   },
   {
    "duration": 7,
    "start_time": "2022-11-11T19:11:20.223Z"
   },
   {
    "duration": 12,
    "start_time": "2022-11-11T19:11:20.232Z"
   },
   {
    "duration": 20,
    "start_time": "2022-11-11T19:11:20.246Z"
   },
   {
    "duration": 254,
    "start_time": "2022-11-11T19:11:20.268Z"
   },
   {
    "duration": 274,
    "start_time": "2022-11-11T19:11:20.525Z"
   },
   {
    "duration": 206,
    "start_time": "2022-11-11T19:11:20.802Z"
   },
   {
    "duration": 236,
    "start_time": "2022-11-11T19:11:21.010Z"
   },
   {
    "duration": 5,
    "start_time": "2022-11-11T19:11:21.249Z"
   },
   {
    "duration": 18,
    "start_time": "2022-11-11T19:11:21.256Z"
   },
   {
    "duration": 28,
    "start_time": "2022-11-11T19:11:21.275Z"
   },
   {
    "duration": 18,
    "start_time": "2022-11-11T19:11:21.305Z"
   },
   {
    "duration": 23,
    "start_time": "2022-11-11T19:11:21.326Z"
   },
   {
    "duration": 4,
    "start_time": "2022-11-11T19:11:21.352Z"
   },
   {
    "duration": 20,
    "start_time": "2022-11-11T19:11:21.358Z"
   },
   {
    "duration": 17,
    "start_time": "2022-11-11T19:11:21.380Z"
   },
   {
    "duration": 22,
    "start_time": "2022-11-11T19:11:21.423Z"
   },
   {
    "duration": 15,
    "start_time": "2022-11-11T19:11:21.447Z"
   },
   {
    "duration": 2140,
    "start_time": "2022-11-11T19:11:21.464Z"
   },
   {
    "duration": 3,
    "start_time": "2022-11-11T19:11:23.606Z"
   },
   {
    "duration": 249,
    "start_time": "2022-11-11T19:11:23.618Z"
   },
   {
    "duration": 7,
    "start_time": "2022-11-11T19:11:23.869Z"
   },
   {
    "duration": 278,
    "start_time": "2022-11-11T19:11:23.877Z"
   },
   {
    "duration": 194,
    "start_time": "2022-11-11T19:11:24.157Z"
   },
   {
    "duration": 28,
    "start_time": "2022-11-11T19:11:24.352Z"
   },
   {
    "duration": 3,
    "start_time": "2022-11-11T19:11:24.420Z"
   },
   {
    "duration": 136,
    "start_time": "2022-11-11T19:11:24.424Z"
   },
   {
    "duration": 0,
    "start_time": "2022-11-11T19:11:24.562Z"
   },
   {
    "duration": 0,
    "start_time": "2022-11-11T19:11:24.565Z"
   },
   {
    "duration": 0,
    "start_time": "2022-11-11T19:11:24.567Z"
   },
   {
    "duration": 0,
    "start_time": "2022-11-11T19:11:24.568Z"
   },
   {
    "duration": 1,
    "start_time": "2022-11-11T19:11:24.569Z"
   },
   {
    "duration": 0,
    "start_time": "2022-11-11T19:11:24.571Z"
   },
   {
    "duration": 0,
    "start_time": "2022-11-11T19:11:24.572Z"
   },
   {
    "duration": 0,
    "start_time": "2022-11-11T19:11:24.574Z"
   },
   {
    "duration": 0,
    "start_time": "2022-11-11T19:11:24.576Z"
   },
   {
    "duration": 0,
    "start_time": "2022-11-11T19:11:24.578Z"
   },
   {
    "duration": 0,
    "start_time": "2022-11-11T19:11:24.579Z"
   },
   {
    "duration": 0,
    "start_time": "2022-11-11T19:11:24.580Z"
   },
   {
    "duration": 0,
    "start_time": "2022-11-11T19:11:24.582Z"
   },
   {
    "duration": 0,
    "start_time": "2022-11-11T19:11:24.583Z"
   },
   {
    "duration": 0,
    "start_time": "2022-11-11T19:11:24.585Z"
   },
   {
    "duration": 0,
    "start_time": "2022-11-11T19:11:24.620Z"
   },
   {
    "duration": 0,
    "start_time": "2022-11-11T19:11:24.622Z"
   },
   {
    "duration": 0,
    "start_time": "2022-11-11T19:11:24.623Z"
   },
   {
    "duration": 0,
    "start_time": "2022-11-11T19:11:24.624Z"
   },
   {
    "duration": 0,
    "start_time": "2022-11-11T19:11:24.625Z"
   },
   {
    "duration": 0,
    "start_time": "2022-11-11T19:11:24.626Z"
   },
   {
    "duration": 0,
    "start_time": "2022-11-11T19:11:24.627Z"
   },
   {
    "duration": 0,
    "start_time": "2022-11-11T19:11:24.628Z"
   },
   {
    "duration": 0,
    "start_time": "2022-11-11T19:11:24.629Z"
   },
   {
    "duration": 0,
    "start_time": "2022-11-11T19:11:24.630Z"
   },
   {
    "duration": 393,
    "start_time": "2022-11-11T19:11:47.330Z"
   },
   {
    "duration": 11,
    "start_time": "2022-11-11T19:12:48.383Z"
   },
   {
    "duration": 2039,
    "start_time": "2022-11-11T19:13:07.376Z"
   },
   {
    "duration": 1357,
    "start_time": "2022-11-11T19:13:09.418Z"
   },
   {
    "duration": 123,
    "start_time": "2022-11-11T19:13:10.777Z"
   },
   {
    "duration": 191,
    "start_time": "2022-11-11T19:13:10.902Z"
   },
   {
    "duration": 31,
    "start_time": "2022-11-11T19:13:11.094Z"
   },
   {
    "duration": 14,
    "start_time": "2022-11-11T19:13:11.127Z"
   },
   {
    "duration": 10,
    "start_time": "2022-11-11T19:13:11.143Z"
   },
   {
    "duration": 17,
    "start_time": "2022-11-11T19:13:11.154Z"
   },
   {
    "duration": 25,
    "start_time": "2022-11-11T19:13:11.173Z"
   },
   {
    "duration": 190,
    "start_time": "2022-11-11T19:13:11.201Z"
   },
   {
    "duration": 211,
    "start_time": "2022-11-11T19:13:11.392Z"
   },
   {
    "duration": 178,
    "start_time": "2022-11-11T19:13:11.605Z"
   },
   {
    "duration": 149,
    "start_time": "2022-11-11T19:13:11.785Z"
   },
   {
    "duration": 4,
    "start_time": "2022-11-11T19:13:11.935Z"
   },
   {
    "duration": 15,
    "start_time": "2022-11-11T19:13:11.941Z"
   },
   {
    "duration": 30,
    "start_time": "2022-11-11T19:13:11.958Z"
   },
   {
    "duration": 5,
    "start_time": "2022-11-11T19:13:11.989Z"
   },
   {
    "duration": 28,
    "start_time": "2022-11-11T19:13:11.995Z"
   },
   {
    "duration": 3,
    "start_time": "2022-11-11T19:13:12.025Z"
   },
   {
    "duration": 14,
    "start_time": "2022-11-11T19:13:12.030Z"
   },
   {
    "duration": 108,
    "start_time": "2022-11-11T19:13:12.046Z"
   },
   {
    "duration": 17,
    "start_time": "2022-11-11T19:13:12.156Z"
   },
   {
    "duration": 7,
    "start_time": "2022-11-11T19:13:12.174Z"
   },
   {
    "duration": 2020,
    "start_time": "2022-11-11T19:13:12.182Z"
   },
   {
    "duration": 3,
    "start_time": "2022-11-11T19:13:14.204Z"
   },
   {
    "duration": 164,
    "start_time": "2022-11-11T19:13:14.208Z"
   },
   {
    "duration": 8,
    "start_time": "2022-11-11T19:13:14.374Z"
   },
   {
    "duration": 347,
    "start_time": "2022-11-11T19:13:14.385Z"
   },
   {
    "duration": 223,
    "start_time": "2022-11-11T19:13:14.733Z"
   },
   {
    "duration": 26,
    "start_time": "2022-11-11T19:13:14.957Z"
   },
   {
    "duration": 25,
    "start_time": "2022-11-11T19:13:14.984Z"
   },
   {
    "duration": 138,
    "start_time": "2022-11-11T19:13:15.011Z"
   },
   {
    "duration": 0,
    "start_time": "2022-11-11T19:13:15.150Z"
   },
   {
    "duration": 0,
    "start_time": "2022-11-11T19:13:15.152Z"
   },
   {
    "duration": 0,
    "start_time": "2022-11-11T19:13:15.153Z"
   },
   {
    "duration": 0,
    "start_time": "2022-11-11T19:13:15.154Z"
   },
   {
    "duration": 0,
    "start_time": "2022-11-11T19:13:15.155Z"
   },
   {
    "duration": 0,
    "start_time": "2022-11-11T19:13:15.156Z"
   },
   {
    "duration": 0,
    "start_time": "2022-11-11T19:13:15.157Z"
   },
   {
    "duration": 0,
    "start_time": "2022-11-11T19:13:15.158Z"
   },
   {
    "duration": 0,
    "start_time": "2022-11-11T19:13:15.159Z"
   },
   {
    "duration": 0,
    "start_time": "2022-11-11T19:13:15.160Z"
   },
   {
    "duration": 0,
    "start_time": "2022-11-11T19:13:15.161Z"
   },
   {
    "duration": 0,
    "start_time": "2022-11-11T19:13:15.163Z"
   },
   {
    "duration": 0,
    "start_time": "2022-11-11T19:13:15.164Z"
   },
   {
    "duration": 0,
    "start_time": "2022-11-11T19:13:15.165Z"
   },
   {
    "duration": 0,
    "start_time": "2022-11-11T19:13:15.166Z"
   },
   {
    "duration": 0,
    "start_time": "2022-11-11T19:13:15.167Z"
   },
   {
    "duration": 0,
    "start_time": "2022-11-11T19:13:15.168Z"
   },
   {
    "duration": 0,
    "start_time": "2022-11-11T19:13:15.169Z"
   },
   {
    "duration": 0,
    "start_time": "2022-11-11T19:13:15.170Z"
   },
   {
    "duration": 0,
    "start_time": "2022-11-11T19:13:15.171Z"
   },
   {
    "duration": 0,
    "start_time": "2022-11-11T19:13:15.172Z"
   },
   {
    "duration": 0,
    "start_time": "2022-11-11T19:13:15.173Z"
   },
   {
    "duration": 0,
    "start_time": "2022-11-11T19:13:15.174Z"
   },
   {
    "duration": 0,
    "start_time": "2022-11-11T19:13:15.175Z"
   },
   {
    "duration": 0,
    "start_time": "2022-11-11T19:13:15.176Z"
   },
   {
    "duration": 303,
    "start_time": "2022-11-11T19:14:26.845Z"
   },
   {
    "duration": 48,
    "start_time": "2022-11-11T19:16:26.425Z"
   },
   {
    "duration": 1074,
    "start_time": "2022-11-11T19:16:35.140Z"
   },
   {
    "duration": 9,
    "start_time": "2022-11-11T19:17:40.291Z"
   },
   {
    "duration": 392,
    "start_time": "2022-11-11T19:17:47.816Z"
   },
   {
    "duration": 951,
    "start_time": "2022-11-11T19:17:57.889Z"
   },
   {
    "duration": 2052,
    "start_time": "2022-11-11T19:18:16.958Z"
   },
   {
    "duration": 899,
    "start_time": "2022-11-11T19:20:05.128Z"
   },
   {
    "duration": 2174,
    "start_time": "2022-11-11T19:20:09.383Z"
   },
   {
    "duration": 1093,
    "start_time": "2022-11-11T19:28:36.603Z"
   },
   {
    "duration": 2426,
    "start_time": "2022-11-11T19:28:42.819Z"
   },
   {
    "duration": 6,
    "start_time": "2022-11-11T19:31:50.670Z"
   },
   {
    "duration": 7,
    "start_time": "2022-11-11T19:33:12.803Z"
   },
   {
    "duration": 60,
    "start_time": "2022-11-11T19:34:06.497Z"
   },
   {
    "duration": 6,
    "start_time": "2022-11-11T19:34:23.234Z"
   },
   {
    "duration": 6,
    "start_time": "2022-11-11T19:34:43.346Z"
   },
   {
    "duration": 4,
    "start_time": "2022-11-11T19:35:05.782Z"
   },
   {
    "duration": 3,
    "start_time": "2022-11-11T19:36:17.733Z"
   },
   {
    "duration": 3,
    "start_time": "2022-11-11T19:36:44.932Z"
   },
   {
    "duration": 4,
    "start_time": "2022-11-11T19:37:42.701Z"
   },
   {
    "duration": 184,
    "start_time": "2022-11-11T19:40:56.345Z"
   },
   {
    "duration": 149,
    "start_time": "2022-11-11T19:41:17.699Z"
   },
   {
    "duration": 165,
    "start_time": "2022-11-11T19:41:23.278Z"
   },
   {
    "duration": 201,
    "start_time": "2022-11-11T19:41:32.623Z"
   },
   {
    "duration": 261,
    "start_time": "2022-11-11T19:41:42.138Z"
   },
   {
    "duration": 167,
    "start_time": "2022-11-11T19:41:50.556Z"
   },
   {
    "duration": 214,
    "start_time": "2022-11-11T19:41:56.328Z"
   },
   {
    "duration": 174,
    "start_time": "2022-11-11T19:42:02.765Z"
   },
   {
    "duration": 184,
    "start_time": "2022-11-11T19:42:12.557Z"
   },
   {
    "duration": 7,
    "start_time": "2022-11-11T19:42:53.708Z"
   },
   {
    "duration": 8,
    "start_time": "2022-11-11T19:43:08.464Z"
   },
   {
    "duration": 6,
    "start_time": "2022-11-11T19:43:15.619Z"
   },
   {
    "duration": 7,
    "start_time": "2022-11-11T19:43:24.350Z"
   },
   {
    "duration": 5,
    "start_time": "2022-11-11T19:44:32.097Z"
   },
   {
    "duration": 187,
    "start_time": "2022-11-11T19:44:48.346Z"
   },
   {
    "duration": 5,
    "start_time": "2022-11-11T19:45:57.129Z"
   },
   {
    "duration": 4,
    "start_time": "2022-11-11T19:46:05.473Z"
   },
   {
    "duration": 14,
    "start_time": "2022-11-11T19:46:24.119Z"
   },
   {
    "duration": 8,
    "start_time": "2022-11-11T19:46:36.432Z"
   },
   {
    "duration": 192,
    "start_time": "2022-11-11T19:46:52.630Z"
   },
   {
    "duration": 6,
    "start_time": "2022-11-11T19:52:57.994Z"
   },
   {
    "duration": 54,
    "start_time": "2022-11-11T19:54:04.622Z"
   },
   {
    "duration": 4,
    "start_time": "2022-11-11T20:01:47.415Z"
   },
   {
    "duration": 4,
    "start_time": "2022-11-11T20:02:31.910Z"
   },
   {
    "duration": 5,
    "start_time": "2022-11-11T20:02:40.031Z"
   },
   {
    "duration": 4,
    "start_time": "2022-11-11T20:04:14.239Z"
   },
   {
    "duration": 912,
    "start_time": "2022-11-11T20:09:51.640Z"
   },
   {
    "duration": 2081,
    "start_time": "2022-11-11T20:11:52.200Z"
   },
   {
    "duration": 2051,
    "start_time": "2022-11-11T20:13:47.498Z"
   },
   {
    "duration": 1368,
    "start_time": "2022-11-11T20:13:49.552Z"
   },
   {
    "duration": 132,
    "start_time": "2022-11-11T20:13:50.922Z"
   },
   {
    "duration": 181,
    "start_time": "2022-11-11T20:13:51.057Z"
   },
   {
    "duration": 9,
    "start_time": "2022-11-11T20:13:51.240Z"
   },
   {
    "duration": 17,
    "start_time": "2022-11-11T20:13:51.250Z"
   },
   {
    "duration": 7,
    "start_time": "2022-11-11T20:13:51.268Z"
   },
   {
    "duration": 14,
    "start_time": "2022-11-11T20:13:51.276Z"
   },
   {
    "duration": 33,
    "start_time": "2022-11-11T20:13:51.291Z"
   },
   {
    "duration": 196,
    "start_time": "2022-11-11T20:13:51.327Z"
   },
   {
    "duration": 215,
    "start_time": "2022-11-11T20:13:51.525Z"
   },
   {
    "duration": 177,
    "start_time": "2022-11-11T20:13:51.741Z"
   },
   {
    "duration": 157,
    "start_time": "2022-11-11T20:13:51.920Z"
   },
   {
    "duration": 5,
    "start_time": "2022-11-11T20:13:52.079Z"
   },
   {
    "duration": 11,
    "start_time": "2022-11-11T20:13:52.086Z"
   },
   {
    "duration": 40,
    "start_time": "2022-11-11T20:13:52.099Z"
   },
   {
    "duration": 5,
    "start_time": "2022-11-11T20:13:52.141Z"
   },
   {
    "duration": 20,
    "start_time": "2022-11-11T20:13:52.147Z"
   },
   {
    "duration": 4,
    "start_time": "2022-11-11T20:13:52.169Z"
   },
   {
    "duration": 13,
    "start_time": "2022-11-11T20:13:52.175Z"
   },
   {
    "duration": 110,
    "start_time": "2022-11-11T20:13:52.190Z"
   },
   {
    "duration": 29,
    "start_time": "2022-11-11T20:13:52.301Z"
   },
   {
    "duration": 6,
    "start_time": "2022-11-11T20:13:52.332Z"
   },
   {
    "duration": 2040,
    "start_time": "2022-11-11T20:13:52.339Z"
   },
   {
    "duration": 3,
    "start_time": "2022-11-11T20:13:54.381Z"
   },
   {
    "duration": 149,
    "start_time": "2022-11-11T20:13:54.386Z"
   },
   {
    "duration": 7,
    "start_time": "2022-11-11T20:13:54.538Z"
   },
   {
    "duration": 6,
    "start_time": "2022-11-11T20:13:54.549Z"
   },
   {
    "duration": 14,
    "start_time": "2022-11-11T20:13:54.557Z"
   },
   {
    "duration": 345,
    "start_time": "2022-11-11T20:13:54.574Z"
   },
   {
    "duration": 231,
    "start_time": "2022-11-11T20:13:54.921Z"
   },
   {
    "duration": 26,
    "start_time": "2022-11-11T20:13:55.153Z"
   },
   {
    "duration": 12,
    "start_time": "2022-11-11T20:13:55.181Z"
   },
   {
    "duration": 370,
    "start_time": "2022-11-11T20:13:55.195Z"
   },
   {
    "duration": 1049,
    "start_time": "2022-11-11T20:13:55.567Z"
   },
   {
    "duration": 2066,
    "start_time": "2022-11-11T20:13:56.617Z"
   },
   {
    "duration": 6,
    "start_time": "2022-11-11T20:13:58.685Z"
   },
   {
    "duration": 9,
    "start_time": "2022-11-11T20:13:58.693Z"
   },
   {
    "duration": 14,
    "start_time": "2022-11-11T20:13:58.704Z"
   },
   {
    "duration": 6,
    "start_time": "2022-11-11T20:13:58.720Z"
   },
   {
    "duration": 5,
    "start_time": "2022-11-11T20:13:58.728Z"
   },
   {
    "duration": 8,
    "start_time": "2022-11-11T20:13:58.735Z"
   },
   {
    "duration": 181397,
    "start_time": "2022-11-11T20:13:58.745Z"
   },
   {
    "duration": 4,
    "start_time": "2022-11-11T20:17:00.144Z"
   },
   {
    "duration": 56,
    "start_time": "2022-11-11T20:17:00.150Z"
   },
   {
    "duration": 33,
    "start_time": "2022-11-11T20:17:00.208Z"
   },
   {
    "duration": 1412313,
    "start_time": "2022-11-11T20:17:00.243Z"
   },
   {
    "duration": 6,
    "start_time": "2022-11-11T20:40:32.619Z"
   },
   {
    "duration": 37,
    "start_time": "2022-11-11T20:40:32.627Z"
   },
   {
    "duration": 9942,
    "start_time": "2022-11-11T20:40:32.666Z"
   },
   {
    "duration": 10273,
    "start_time": "2022-11-11T20:40:42.610Z"
   },
   {
    "duration": 49,
    "start_time": "2022-11-11T20:40:52.884Z"
   },
   {
    "duration": 43,
    "start_time": "2022-11-11T20:40:52.935Z"
   },
   {
    "duration": 3,
    "start_time": "2022-11-11T20:40:52.980Z"
   },
   {
    "duration": 8,
    "start_time": "2022-11-11T20:40:52.984Z"
   },
   {
    "duration": 6,
    "start_time": "2022-11-11T20:40:52.994Z"
   },
   {
    "duration": 25,
    "start_time": "2022-11-11T20:40:53.002Z"
   },
   {
    "duration": 19,
    "start_time": "2022-11-11T20:40:53.028Z"
   },
   {
    "duration": 180929,
    "start_time": "2022-11-11T21:45:04.359Z"
   },
   {
    "duration": 2304,
    "start_time": "2022-11-11T22:03:09.500Z"
   },
   {
    "duration": 1564,
    "start_time": "2022-11-11T22:03:11.806Z"
   },
   {
    "duration": 168,
    "start_time": "2022-11-11T22:03:13.372Z"
   },
   {
    "duration": 205,
    "start_time": "2022-11-11T22:03:13.543Z"
   },
   {
    "duration": 10,
    "start_time": "2022-11-11T22:03:13.749Z"
   },
   {
    "duration": 12,
    "start_time": "2022-11-11T22:03:13.761Z"
   },
   {
    "duration": 5,
    "start_time": "2022-11-11T22:03:13.775Z"
   },
   {
    "duration": 9,
    "start_time": "2022-11-11T22:03:13.782Z"
   },
   {
    "duration": 12,
    "start_time": "2022-11-11T22:03:13.819Z"
   },
   {
    "duration": 222,
    "start_time": "2022-11-11T22:03:13.836Z"
   },
   {
    "duration": 230,
    "start_time": "2022-11-11T22:03:14.060Z"
   },
   {
    "duration": 188,
    "start_time": "2022-11-11T22:03:14.292Z"
   },
   {
    "duration": 167,
    "start_time": "2022-11-11T22:03:14.481Z"
   },
   {
    "duration": 5,
    "start_time": "2022-11-11T22:03:14.650Z"
   },
   {
    "duration": 39,
    "start_time": "2022-11-11T22:03:14.657Z"
   },
   {
    "duration": 71,
    "start_time": "2022-11-11T22:03:14.698Z"
   },
   {
    "duration": 14,
    "start_time": "2022-11-11T22:03:14.771Z"
   },
   {
    "duration": 34,
    "start_time": "2022-11-11T22:03:14.787Z"
   },
   {
    "duration": 19,
    "start_time": "2022-11-11T22:03:14.830Z"
   },
   {
    "duration": 35,
    "start_time": "2022-11-11T22:03:14.850Z"
   },
   {
    "duration": 102,
    "start_time": "2022-11-11T22:03:14.886Z"
   },
   {
    "duration": 17,
    "start_time": "2022-11-11T22:03:14.990Z"
   },
   {
    "duration": 32,
    "start_time": "2022-11-11T22:03:15.009Z"
   },
   {
    "duration": 2245,
    "start_time": "2022-11-11T22:03:15.043Z"
   },
   {
    "duration": 3,
    "start_time": "2022-11-11T22:03:17.290Z"
   },
   {
    "duration": 262,
    "start_time": "2022-11-11T22:03:17.294Z"
   },
   {
    "duration": 7,
    "start_time": "2022-11-11T22:03:17.558Z"
   },
   {
    "duration": 6,
    "start_time": "2022-11-11T22:03:17.569Z"
   },
   {
    "duration": 11,
    "start_time": "2022-11-11T22:03:17.577Z"
   },
   {
    "duration": 336,
    "start_time": "2022-11-11T22:03:17.590Z"
   },
   {
    "duration": 231,
    "start_time": "2022-11-11T22:03:17.927Z"
   },
   {
    "duration": 26,
    "start_time": "2022-11-11T22:03:18.160Z"
   },
   {
    "duration": 4,
    "start_time": "2022-11-11T22:03:18.188Z"
   },
   {
    "duration": 376,
    "start_time": "2022-11-11T22:03:18.193Z"
   },
   {
    "duration": 1072,
    "start_time": "2022-11-11T22:03:18.571Z"
   },
   {
    "duration": 2335,
    "start_time": "2022-11-11T22:03:19.644Z"
   },
   {
    "duration": 6,
    "start_time": "2022-11-11T22:03:21.981Z"
   },
   {
    "duration": 23,
    "start_time": "2022-11-11T22:03:21.989Z"
   },
   {
    "duration": 26,
    "start_time": "2022-11-11T22:03:22.014Z"
   },
   {
    "duration": 3,
    "start_time": "2022-11-11T22:03:22.042Z"
   },
   {
    "duration": 11,
    "start_time": "2022-11-11T22:03:22.047Z"
   },
   {
    "duration": 16,
    "start_time": "2022-11-11T22:03:22.060Z"
   },
   {
    "duration": 199670,
    "start_time": "2022-11-11T22:03:22.078Z"
   },
   {
    "duration": 4,
    "start_time": "2022-11-11T22:06:41.749Z"
   },
   {
    "duration": 24,
    "start_time": "2022-11-11T22:06:41.754Z"
   },
   {
    "duration": 21,
    "start_time": "2022-11-11T22:06:41.780Z"
   },
   {
    "duration": 2902519,
    "start_time": "2022-11-11T22:06:41.802Z"
   },
   {
    "duration": 4,
    "start_time": "2022-11-11T22:55:04.323Z"
   },
   {
    "duration": 32,
    "start_time": "2022-11-11T22:55:04.329Z"
   },
   {
    "duration": 9352,
    "start_time": "2022-11-11T22:55:04.362Z"
   },
   {
    "duration": 9597,
    "start_time": "2022-11-11T22:55:13.715Z"
   },
   {
    "duration": 47,
    "start_time": "2022-11-11T22:55:23.313Z"
   },
   {
    "duration": 57,
    "start_time": "2022-11-11T22:55:23.362Z"
   },
   {
    "duration": 2,
    "start_time": "2022-11-11T22:55:23.421Z"
   },
   {
    "duration": 18,
    "start_time": "2022-11-11T22:55:23.425Z"
   },
   {
    "duration": 25,
    "start_time": "2022-11-11T22:55:23.444Z"
   },
   {
    "duration": 9,
    "start_time": "2022-11-11T22:55:23.470Z"
   },
   {
    "duration": 6,
    "start_time": "2022-11-11T22:55:23.482Z"
   },
   {
    "duration": 3580,
    "start_time": "2022-11-12T16:57:49.832Z"
   },
   {
    "duration": 1643,
    "start_time": "2022-11-12T16:57:53.414Z"
   },
   {
    "duration": 378,
    "start_time": "2022-11-12T16:57:58.768Z"
   },
   {
    "duration": 181,
    "start_time": "2022-11-12T16:58:00.433Z"
   },
   {
    "duration": 10,
    "start_time": "2022-11-12T16:58:01.448Z"
   },
   {
    "duration": 13,
    "start_time": "2022-11-12T16:58:01.964Z"
   },
   {
    "duration": 5,
    "start_time": "2022-11-12T16:58:07.872Z"
   },
   {
    "duration": 9,
    "start_time": "2022-11-12T16:58:08.364Z"
   },
   {
    "duration": 10,
    "start_time": "2022-11-12T16:58:08.583Z"
   },
   {
    "duration": 181,
    "start_time": "2022-11-12T16:58:09.103Z"
   },
   {
    "duration": 191,
    "start_time": "2022-11-12T16:58:10.164Z"
   },
   {
    "duration": 149,
    "start_time": "2022-11-12T16:58:10.371Z"
   },
   {
    "duration": 138,
    "start_time": "2022-11-12T16:58:10.583Z"
   },
   {
    "duration": 5,
    "start_time": "2022-11-12T16:58:12.832Z"
   },
   {
    "duration": 10,
    "start_time": "2022-11-12T16:58:13.324Z"
   },
   {
    "duration": 25,
    "start_time": "2022-11-12T16:58:14.247Z"
   },
   {
    "duration": 5,
    "start_time": "2022-11-12T16:58:14.775Z"
   },
   {
    "duration": 16,
    "start_time": "2022-11-12T16:58:15.235Z"
   },
   {
    "duration": 5,
    "start_time": "2022-11-12T16:58:16.072Z"
   },
   {
    "duration": 13,
    "start_time": "2022-11-12T16:58:16.391Z"
   },
   {
    "duration": 17,
    "start_time": "2022-11-12T16:58:17.551Z"
   },
   {
    "duration": 17,
    "start_time": "2022-11-12T16:58:18.288Z"
   },
   {
    "duration": 4,
    "start_time": "2022-11-12T16:58:18.643Z"
   },
   {
    "duration": 2019,
    "start_time": "2022-11-12T16:58:19.411Z"
   },
   {
    "duration": 4,
    "start_time": "2022-11-12T16:58:21.432Z"
   },
   {
    "duration": 185,
    "start_time": "2022-11-12T16:58:29.156Z"
   },
   {
    "duration": 6,
    "start_time": "2022-11-12T16:58:31.332Z"
   },
   {
    "duration": 5,
    "start_time": "2022-11-12T16:58:31.764Z"
   },
   {
    "duration": 9,
    "start_time": "2022-11-12T16:58:32.223Z"
   },
   {
    "duration": 339,
    "start_time": "2022-11-12T16:58:33.385Z"
   },
   {
    "duration": 232,
    "start_time": "2022-11-12T16:58:34.556Z"
   },
   {
    "duration": 7,
    "start_time": "2022-11-12T16:59:01.884Z"
   },
   {
    "duration": 6,
    "start_time": "2022-11-12T16:59:18.048Z"
   },
   {
    "duration": 128,
    "start_time": "2022-11-12T17:06:01.148Z"
   },
   {
    "duration": 5,
    "start_time": "2022-11-12T17:06:06.804Z"
   },
   {
    "duration": 235,
    "start_time": "2022-11-12T17:06:35.269Z"
   },
   {
    "duration": 5,
    "start_time": "2022-11-12T17:07:52.728Z"
   },
   {
    "duration": 6,
    "start_time": "2022-11-12T17:09:00.152Z"
   },
   {
    "duration": 6,
    "start_time": "2022-11-12T17:09:29.692Z"
   },
   {
    "duration": 208,
    "start_time": "2022-11-12T17:09:52.004Z"
   },
   {
    "duration": 172,
    "start_time": "2022-11-12T17:13:37.437Z"
   },
   {
    "duration": 24271,
    "start_time": "2022-11-12T17:15:06.279Z"
   },
   {
    "duration": 1694,
    "start_time": "2022-11-12T17:15:41.879Z"
   },
   {
    "duration": 3004,
    "start_time": "2022-11-12T18:57:34.329Z"
   },
   {
    "duration": 1565,
    "start_time": "2022-11-12T18:57:37.335Z"
   },
   {
    "duration": 290,
    "start_time": "2022-11-12T18:57:38.901Z"
   },
   {
    "duration": 186,
    "start_time": "2022-11-12T18:57:39.193Z"
   },
   {
    "duration": 9,
    "start_time": "2022-11-12T18:57:39.381Z"
   },
   {
    "duration": 38,
    "start_time": "2022-11-12T18:57:39.391Z"
   },
   {
    "duration": 6,
    "start_time": "2022-11-12T18:57:39.430Z"
   },
   {
    "duration": 12,
    "start_time": "2022-11-12T18:57:39.438Z"
   },
   {
    "duration": 12,
    "start_time": "2022-11-12T18:57:39.452Z"
   },
   {
    "duration": 240,
    "start_time": "2022-11-12T18:57:39.467Z"
   },
   {
    "duration": 232,
    "start_time": "2022-11-12T18:57:39.709Z"
   },
   {
    "duration": 180,
    "start_time": "2022-11-12T18:57:39.942Z"
   },
   {
    "duration": 147,
    "start_time": "2022-11-12T18:57:40.124Z"
   },
   {
    "duration": 5,
    "start_time": "2022-11-12T18:57:40.273Z"
   },
   {
    "duration": 16,
    "start_time": "2022-11-12T18:57:40.279Z"
   },
   {
    "duration": 35,
    "start_time": "2022-11-12T18:57:40.297Z"
   },
   {
    "duration": 5,
    "start_time": "2022-11-12T18:57:40.334Z"
   },
   {
    "duration": 20,
    "start_time": "2022-11-12T18:57:40.340Z"
   },
   {
    "duration": 4,
    "start_time": "2022-11-12T18:57:40.362Z"
   },
   {
    "duration": 17,
    "start_time": "2022-11-12T18:57:40.368Z"
   },
   {
    "duration": 118,
    "start_time": "2022-11-12T18:57:40.386Z"
   },
   {
    "duration": 26,
    "start_time": "2022-11-12T18:57:40.506Z"
   },
   {
    "duration": 8,
    "start_time": "2022-11-12T18:57:40.533Z"
   },
   {
    "duration": 2007,
    "start_time": "2022-11-12T18:57:40.542Z"
   },
   {
    "duration": 2,
    "start_time": "2022-11-12T18:57:42.551Z"
   },
   {
    "duration": 149,
    "start_time": "2022-11-12T18:57:42.555Z"
   },
   {
    "duration": 18,
    "start_time": "2022-11-12T18:57:42.707Z"
   },
   {
    "duration": 12,
    "start_time": "2022-11-12T18:57:42.730Z"
   },
   {
    "duration": 19,
    "start_time": "2022-11-12T18:57:42.744Z"
   },
   {
    "duration": 385,
    "start_time": "2022-11-12T18:57:42.765Z"
   },
   {
    "duration": 197,
    "start_time": "2022-11-12T18:57:43.152Z"
   },
   {
    "duration": 25,
    "start_time": "2022-11-12T18:57:43.350Z"
   },
   {
    "duration": 17,
    "start_time": "2022-11-12T18:57:43.377Z"
   },
   {
    "duration": 318,
    "start_time": "2022-11-12T18:57:43.395Z"
   },
   {
    "duration": 877,
    "start_time": "2022-11-12T18:57:43.715Z"
   },
   {
    "duration": 1894,
    "start_time": "2022-11-12T18:57:44.594Z"
   },
   {
    "duration": 4,
    "start_time": "2022-11-12T18:57:46.490Z"
   },
   {
    "duration": 11,
    "start_time": "2022-11-12T18:57:46.496Z"
   },
   {
    "duration": 8,
    "start_time": "2022-11-12T18:57:46.508Z"
   },
   {
    "duration": 5,
    "start_time": "2022-11-12T18:57:46.517Z"
   },
   {
    "duration": 4,
    "start_time": "2022-11-12T18:57:46.524Z"
   },
   {
    "duration": 7,
    "start_time": "2022-11-12T18:57:46.530Z"
   },
   {
    "duration": 83430,
    "start_time": "2022-11-12T18:57:46.538Z"
   },
   {
    "duration": 12,
    "start_time": "2022-11-12T18:59:09.970Z"
   },
   {
    "duration": 0,
    "start_time": "2022-11-12T18:59:09.984Z"
   },
   {
    "duration": 0,
    "start_time": "2022-11-12T18:59:09.986Z"
   },
   {
    "duration": 0,
    "start_time": "2022-11-12T18:59:09.987Z"
   },
   {
    "duration": 0,
    "start_time": "2022-11-12T18:59:09.988Z"
   },
   {
    "duration": 0,
    "start_time": "2022-11-12T18:59:09.990Z"
   },
   {
    "duration": 0,
    "start_time": "2022-11-12T18:59:09.992Z"
   },
   {
    "duration": 0,
    "start_time": "2022-11-12T18:59:09.993Z"
   },
   {
    "duration": 0,
    "start_time": "2022-11-12T18:59:09.995Z"
   },
   {
    "duration": 0,
    "start_time": "2022-11-12T18:59:09.996Z"
   },
   {
    "duration": 0,
    "start_time": "2022-11-12T18:59:09.998Z"
   },
   {
    "duration": 0,
    "start_time": "2022-11-12T18:59:09.999Z"
   },
   {
    "duration": 0,
    "start_time": "2022-11-12T18:59:10.000Z"
   },
   {
    "duration": 0,
    "start_time": "2022-11-12T18:59:10.001Z"
   },
   {
    "duration": 0,
    "start_time": "2022-11-12T18:59:10.002Z"
   },
   {
    "duration": 786,
    "start_time": "2022-11-12T18:59:10.833Z"
   },
   {
    "duration": 1815,
    "start_time": "2022-11-12T18:59:17.257Z"
   },
   {
    "duration": 2133,
    "start_time": "2022-11-12T19:02:43.978Z"
   },
   {
    "duration": 1500,
    "start_time": "2022-11-12T19:02:46.113Z"
   },
   {
    "duration": 120,
    "start_time": "2022-11-12T19:02:47.615Z"
   },
   {
    "duration": 197,
    "start_time": "2022-11-12T19:02:47.738Z"
   },
   {
    "duration": 9,
    "start_time": "2022-11-12T19:02:47.937Z"
   },
   {
    "duration": 13,
    "start_time": "2022-11-12T19:02:47.947Z"
   },
   {
    "duration": 7,
    "start_time": "2022-11-12T19:02:47.962Z"
   },
   {
    "duration": 11,
    "start_time": "2022-11-12T19:02:47.971Z"
   },
   {
    "duration": 38,
    "start_time": "2022-11-12T19:02:47.984Z"
   },
   {
    "duration": 194,
    "start_time": "2022-11-12T19:02:48.025Z"
   },
   {
    "duration": 233,
    "start_time": "2022-11-12T19:02:48.220Z"
   },
   {
    "duration": 187,
    "start_time": "2022-11-12T19:02:48.454Z"
   },
   {
    "duration": 142,
    "start_time": "2022-11-12T19:02:48.643Z"
   },
   {
    "duration": 5,
    "start_time": "2022-11-12T19:02:48.787Z"
   },
   {
    "duration": 17,
    "start_time": "2022-11-12T19:02:48.793Z"
   },
   {
    "duration": 33,
    "start_time": "2022-11-12T19:02:48.811Z"
   },
   {
    "duration": 4,
    "start_time": "2022-11-12T19:02:48.846Z"
   },
   {
    "duration": 15,
    "start_time": "2022-11-12T19:02:48.852Z"
   },
   {
    "duration": 4,
    "start_time": "2022-11-12T19:02:48.868Z"
   },
   {
    "duration": 13,
    "start_time": "2022-11-12T19:02:48.873Z"
   },
   {
    "duration": 145,
    "start_time": "2022-11-12T19:02:48.887Z"
   },
   {
    "duration": 19,
    "start_time": "2022-11-12T19:02:49.034Z"
   },
   {
    "duration": 5,
    "start_time": "2022-11-12T19:02:49.055Z"
   },
   {
    "duration": 1982,
    "start_time": "2022-11-12T19:02:49.062Z"
   },
   {
    "duration": 2,
    "start_time": "2022-11-12T19:02:51.046Z"
   },
   {
    "duration": 163,
    "start_time": "2022-11-12T19:02:51.050Z"
   },
   {
    "duration": 11,
    "start_time": "2022-11-12T19:02:51.215Z"
   },
   {
    "duration": 21,
    "start_time": "2022-11-12T19:02:51.230Z"
   },
   {
    "duration": 21,
    "start_time": "2022-11-12T19:02:51.252Z"
   },
   {
    "duration": 264,
    "start_time": "2022-11-12T19:02:51.275Z"
   },
   {
    "duration": 294,
    "start_time": "2022-11-12T19:02:51.541Z"
   },
   {
    "duration": 26,
    "start_time": "2022-11-12T19:02:51.837Z"
   },
   {
    "duration": 20,
    "start_time": "2022-11-12T19:02:51.865Z"
   },
   {
    "duration": 337,
    "start_time": "2022-11-12T19:02:51.887Z"
   },
   {
    "duration": 1099,
    "start_time": "2022-11-12T19:02:52.226Z"
   },
   {
    "duration": 2470,
    "start_time": "2022-11-12T19:02:53.326Z"
   },
   {
    "duration": 5,
    "start_time": "2022-11-12T19:02:55.797Z"
   },
   {
    "duration": 20,
    "start_time": "2022-11-12T19:02:55.804Z"
   },
   {
    "duration": 20,
    "start_time": "2022-11-12T19:02:55.826Z"
   },
   {
    "duration": 67,
    "start_time": "2022-11-12T19:02:55.848Z"
   },
   {
    "duration": 7,
    "start_time": "2022-11-12T19:02:55.917Z"
   },
   {
    "duration": 10,
    "start_time": "2022-11-12T19:02:55.925Z"
   },
   {
    "duration": 174411,
    "start_time": "2022-11-12T19:02:55.936Z"
   },
   {
    "duration": 3,
    "start_time": "2022-11-12T19:05:50.349Z"
   },
   {
    "duration": 12,
    "start_time": "2022-11-12T19:05:50.354Z"
   },
   {
    "duration": 21,
    "start_time": "2022-11-12T19:05:50.367Z"
   },
   {
    "duration": 82247,
    "start_time": "2022-11-12T19:05:50.390Z"
   },
   {
    "duration": 4,
    "start_time": "2022-11-12T19:07:12.638Z"
   },
   {
    "duration": 16,
    "start_time": "2022-11-12T19:07:12.644Z"
   },
   {
    "duration": 9458,
    "start_time": "2022-11-12T19:07:12.661Z"
   },
   {
    "duration": 9217,
    "start_time": "2022-11-12T19:07:22.121Z"
   },
   {
    "duration": 46,
    "start_time": "2022-11-12T19:07:31.340Z"
   },
   {
    "duration": 53,
    "start_time": "2022-11-12T19:07:31.388Z"
   },
   {
    "duration": 2,
    "start_time": "2022-11-12T19:07:31.443Z"
   },
   {
    "duration": 5,
    "start_time": "2022-11-12T19:07:31.447Z"
   },
   {
    "duration": 23,
    "start_time": "2022-11-12T19:07:31.454Z"
   },
   {
    "duration": 8,
    "start_time": "2022-11-12T19:07:31.479Z"
   },
   {
    "duration": 35,
    "start_time": "2022-11-12T19:07:31.488Z"
   },
   {
    "duration": 88,
    "start_time": "2022-11-12T19:08:49.103Z"
   },
   {
    "duration": 141,
    "start_time": "2022-11-12T19:15:31.527Z"
   },
   {
    "duration": 1995,
    "start_time": "2022-11-12T19:15:41.023Z"
   },
   {
    "duration": 1408,
    "start_time": "2022-11-12T19:15:43.020Z"
   },
   {
    "duration": 124,
    "start_time": "2022-11-12T19:15:44.430Z"
   },
   {
    "duration": 179,
    "start_time": "2022-11-12T19:15:44.555Z"
   },
   {
    "duration": 8,
    "start_time": "2022-11-12T19:15:44.736Z"
   },
   {
    "duration": 14,
    "start_time": "2022-11-12T19:15:44.745Z"
   },
   {
    "duration": 7,
    "start_time": "2022-11-12T19:15:44.761Z"
   },
   {
    "duration": 10,
    "start_time": "2022-11-12T19:15:44.769Z"
   },
   {
    "duration": 14,
    "start_time": "2022-11-12T19:15:44.781Z"
   },
   {
    "duration": 207,
    "start_time": "2022-11-12T19:15:44.797Z"
   },
   {
    "duration": 206,
    "start_time": "2022-11-12T19:15:45.006Z"
   },
   {
    "duration": 170,
    "start_time": "2022-11-12T19:15:45.213Z"
   },
   {
    "duration": 138,
    "start_time": "2022-11-12T19:15:45.385Z"
   },
   {
    "duration": 4,
    "start_time": "2022-11-12T19:15:45.528Z"
   },
   {
    "duration": 25,
    "start_time": "2022-11-12T19:15:45.534Z"
   },
   {
    "duration": 119,
    "start_time": "2022-11-12T19:15:45.561Z"
   },
   {
    "duration": 4,
    "start_time": "2022-11-12T19:15:45.682Z"
   },
   {
    "duration": 27,
    "start_time": "2022-11-12T19:15:45.688Z"
   },
   {
    "duration": 27,
    "start_time": "2022-11-12T19:15:45.717Z"
   },
   {
    "duration": 27,
    "start_time": "2022-11-12T19:15:45.745Z"
   },
   {
    "duration": 29,
    "start_time": "2022-11-12T19:15:45.774Z"
   },
   {
    "duration": 49,
    "start_time": "2022-11-12T19:15:45.805Z"
   },
   {
    "duration": 43,
    "start_time": "2022-11-12T19:15:45.857Z"
   },
   {
    "duration": 2022,
    "start_time": "2022-11-12T19:15:45.901Z"
   },
   {
    "duration": 3,
    "start_time": "2022-11-12T19:15:47.925Z"
   },
   {
    "duration": 145,
    "start_time": "2022-11-12T19:15:47.930Z"
   },
   {
    "duration": 7,
    "start_time": "2022-11-12T19:15:48.077Z"
   },
   {
    "duration": 15,
    "start_time": "2022-11-12T19:15:48.085Z"
   },
   {
    "duration": 8,
    "start_time": "2022-11-12T19:15:48.102Z"
   },
   {
    "duration": 310,
    "start_time": "2022-11-12T19:15:48.122Z"
   },
   {
    "duration": 214,
    "start_time": "2022-11-12T19:15:48.435Z"
   },
   {
    "duration": 24,
    "start_time": "2022-11-12T19:15:48.651Z"
   },
   {
    "duration": 22,
    "start_time": "2022-11-12T19:15:48.676Z"
   },
   {
    "duration": 341,
    "start_time": "2022-11-12T19:15:48.700Z"
   },
   {
    "duration": 1151,
    "start_time": "2022-11-12T19:15:49.043Z"
   },
   {
    "duration": 2404,
    "start_time": "2022-11-12T19:15:50.196Z"
   },
   {
    "duration": 5,
    "start_time": "2022-11-12T19:15:52.601Z"
   },
   {
    "duration": 10,
    "start_time": "2022-11-12T19:15:52.607Z"
   },
   {
    "duration": 7,
    "start_time": "2022-11-12T19:15:52.618Z"
   },
   {
    "duration": 8,
    "start_time": "2022-11-12T19:15:52.627Z"
   },
   {
    "duration": 3,
    "start_time": "2022-11-12T19:15:52.639Z"
   },
   {
    "duration": 5,
    "start_time": "2022-11-12T19:15:52.644Z"
   },
   {
    "duration": 179709,
    "start_time": "2022-11-12T19:15:52.651Z"
   },
   {
    "duration": 4,
    "start_time": "2022-11-12T19:18:52.362Z"
   },
   {
    "duration": 14,
    "start_time": "2022-11-12T19:18:52.368Z"
   },
   {
    "duration": 19,
    "start_time": "2022-11-12T19:18:52.384Z"
   },
   {
    "duration": 63928,
    "start_time": "2022-11-12T19:18:52.405Z"
   },
   {
    "duration": 4,
    "start_time": "2022-11-12T19:19:56.335Z"
   },
   {
    "duration": 17,
    "start_time": "2022-11-12T19:19:56.341Z"
   },
   {
    "duration": 9408,
    "start_time": "2022-11-12T19:19:56.360Z"
   },
   {
    "duration": 9579,
    "start_time": "2022-11-12T19:20:05.769Z"
   },
   {
    "duration": 44,
    "start_time": "2022-11-12T19:20:15.350Z"
   },
   {
    "duration": 44,
    "start_time": "2022-11-12T19:20:15.395Z"
   },
   {
    "duration": 2,
    "start_time": "2022-11-12T19:20:15.440Z"
   },
   {
    "duration": 19,
    "start_time": "2022-11-12T19:20:15.444Z"
   },
   {
    "duration": 21,
    "start_time": "2022-11-12T19:20:15.465Z"
   },
   {
    "duration": 12,
    "start_time": "2022-11-12T19:20:15.488Z"
   },
   {
    "duration": 24,
    "start_time": "2022-11-12T19:20:15.501Z"
   }
  ],
  "kernelspec": {
   "display_name": "Python 3 (ipykernel)",
   "language": "python",
   "name": "python3"
  },
  "language_info": {
   "codemirror_mode": {
    "name": "ipython",
    "version": 3
   },
   "file_extension": ".py",
   "mimetype": "text/x-python",
   "name": "python",
   "nbconvert_exporter": "python",
   "pygments_lexer": "ipython3",
   "version": "3.9.7"
  },
  "toc": {
   "base_numbering": 1,
   "nav_menu": {},
   "number_sections": true,
   "sideBar": true,
   "skip_h1_title": true,
   "title_cell": "Table of Contents",
   "title_sidebar": "Contents",
   "toc_cell": false,
   "toc_position": {},
   "toc_section_display": true,
   "toc_window_display": false
  }
 },
 "nbformat": 4,
 "nbformat_minor": 5
}
